{
 "cells": [
  {
   "cell_type": "markdown",
   "id": "e705ad9e-3097-4e03-9507-ad7249d4758a",
   "metadata": {
    "tags": []
   },
   "source": [
    "# Exercise 1"
   ]
  },
  {
   "cell_type": "code",
   "execution_count": 1,
   "id": "99d1d7bf-5508-47bd-a743-b4c64901464a",
   "metadata": {},
   "outputs": [],
   "source": [
    "import numpy as np"
   ]
  },
  {
   "cell_type": "markdown",
   "id": "e300abfc-4381-43de-8a65-be4b153c20d6",
   "metadata": {
    "jp-MarkdownHeadingCollapsed": true,
    "tags": []
   },
   "source": [
    "#### 1. Create vectors"
   ]
  },
  {
   "cell_type": "code",
   "execution_count": 2,
   "id": "5ac05248-d1de-4299-b0f7-bc1ef5518022",
   "metadata": {},
   "outputs": [],
   "source": [
    "vector1 = np.array([5, 8, 7, 6, 7, 8])\n",
    "vector2 = np.array([1.3, 2.1, 1.7, 1.1, 1.4, 2.3])\n",
    "vector3 = np.array(['y', 'y', 'n', 'y', 'n', 'n'])"
   ]
  },
  {
   "cell_type": "code",
   "execution_count": 3,
   "id": "fb688038-6fa5-4958-af12-6022af88be6a",
   "metadata": {
    "tags": []
   },
   "outputs": [
    {
     "name": "stdout",
     "output_type": "stream",
     "text": [
      "[5 8 7 6 7 8]\n"
     ]
    }
   ],
   "source": [
    "print(vector1)"
   ]
  },
  {
   "cell_type": "code",
   "execution_count": 4,
   "id": "eab8d6b2-68be-443a-9bba-e3d3a31c6f4b",
   "metadata": {},
   "outputs": [
    {
     "name": "stdout",
     "output_type": "stream",
     "text": [
      "[1.3 2.1 1.7 1.1 1.4 2.3]\n"
     ]
    }
   ],
   "source": [
    "print(vector2)"
   ]
  },
  {
   "cell_type": "code",
   "execution_count": 5,
   "id": "af8e910b-2284-47c0-a922-cb152ef35049",
   "metadata": {},
   "outputs": [
    {
     "name": "stdout",
     "output_type": "stream",
     "text": [
      "['y' 'y' 'n' 'y' 'n' 'n']\n"
     ]
    }
   ],
   "source": [
    "print(vector3)"
   ]
  },
  {
   "cell_type": "code",
   "execution_count": 6,
   "id": "be9f79a6-3f68-416f-96fc-1a45819d618d",
   "metadata": {},
   "outputs": [],
   "source": [
    "# Creating matrix (Order 6X3)\n",
    "matrix = np.array([vector1, vector2, vector3]).T"
   ]
  },
  {
   "cell_type": "code",
   "execution_count": 7,
   "id": "8470bd82-ae29-495c-b700-a3943415a41a",
   "metadata": {},
   "outputs": [
    {
     "name": "stdout",
     "output_type": "stream",
     "text": [
      "[['5' '1.3' 'y']\n",
      " ['8' '2.1' 'y']\n",
      " ['7' '1.7' 'n']\n",
      " ['6' '1.1' 'y']\n",
      " ['7' '1.4' 'n']\n",
      " ['8' '2.3' 'n']]\n"
     ]
    }
   ],
   "source": [
    "print(matrix)"
   ]
  },
  {
   "cell_type": "markdown",
   "id": "57328682-811e-4d66-881d-2aa716532587",
   "metadata": {},
   "source": [
    "a) print element (3,2)."
   ]
  },
  {
   "cell_type": "code",
   "execution_count": 8,
   "id": "a0880c94-d79e-47d7-8de2-fd1fab3e7510",
   "metadata": {},
   "outputs": [
    {
     "name": "stdout",
     "output_type": "stream",
     "text": [
      "y\n"
     ]
    }
   ],
   "source": [
    "print(matrix[3,2])"
   ]
  },
  {
   "cell_type": "markdown",
   "id": "f6232847-ad34-48b9-8d9f-3157d5037e74",
   "metadata": {},
   "source": [
    "b) print the 4th row."
   ]
  },
  {
   "cell_type": "code",
   "execution_count": 9,
   "id": "68a8b168-f5ae-47da-9dec-da8b3a935638",
   "metadata": {},
   "outputs": [
    {
     "name": "stdout",
     "output_type": "stream",
     "text": [
      "['7' '1.4' 'n']\n"
     ]
    }
   ],
   "source": [
    "print(matrix[4])"
   ]
  },
  {
   "cell_type": "markdown",
   "id": "095f8ebb-a831-4197-bcbd-68e5359b912f",
   "metadata": {},
   "source": [
    "c) create submatrix of 2 last columns and rows 2-5"
   ]
  },
  {
   "cell_type": "code",
   "execution_count": 10,
   "id": "5dd16e83-3acc-4dbe-8440-7a8def7a112a",
   "metadata": {},
   "outputs": [],
   "source": [
    "# Creating sub matrix (rows 2-5 and last 2 columns (1-2))\n",
    "# format matrix[row_lower_bound:row_upper_bound, col_lower_bound:col_lower_bound]\n",
    "subMatrix = matrix[2:6, 1:3]"
   ]
  },
  {
   "cell_type": "code",
   "execution_count": 11,
   "id": "6f163626-eabe-4051-a40d-ab45316b4196",
   "metadata": {},
   "outputs": [
    {
     "name": "stdout",
     "output_type": "stream",
     "text": [
      "[['1.7' 'n']\n",
      " ['1.1' 'y']\n",
      " ['1.4' 'n']\n",
      " ['2.3' 'n']]\n"
     ]
    }
   ],
   "source": [
    "print(subMatrix)"
   ]
  },
  {
   "cell_type": "markdown",
   "id": "39bf203e-80ad-402f-a12f-97056fb869ce",
   "metadata": {},
   "source": [
    "d) transpose the data matrix so that it has 6 columns and 3 rows."
   ]
  },
  {
   "cell_type": "code",
   "execution_count": 12,
   "id": "b9c9b316-c43d-46c2-a2a3-1430368c4f4f",
   "metadata": {},
   "outputs": [],
   "source": [
    "matrix_T = matrix.T"
   ]
  },
  {
   "cell_type": "code",
   "execution_count": 13,
   "id": "aac751d0-69f0-42cc-97ee-ed69b77e2793",
   "metadata": {},
   "outputs": [
    {
     "name": "stdout",
     "output_type": "stream",
     "text": [
      "[['5' '8' '7' '6' '7' '8']\n",
      " ['1.3' '2.1' '1.7' '1.1' '1.4' '2.3']\n",
      " ['y' 'y' 'n' 'y' 'n' 'n']]\n"
     ]
    }
   ],
   "source": [
    "print(matrix_T)"
   ]
  },
  {
   "cell_type": "markdown",
   "id": "0128dde1-7a75-4779-85d8-069423e81266",
   "metadata": {
    "tags": []
   },
   "source": [
    "#### 3. Find out if the following data points are normally distributed or not"
   ]
  },
  {
   "cell_type": "markdown",
   "id": "f43bafd5-7a99-4245-bc39-cb301c7c4fdd",
   "metadata": {},
   "source": [
    "##### a.) 170, 192, 184, 165, 176, 181, 163"
   ]
  },
  {
   "cell_type": "markdown",
   "id": "ff1807ac-53be-45f4-87fd-8c40e27249bf",
   "metadata": {},
   "source": [
    "##### b.) 170, 170, 170, 170, 192, 192, 192, 192, 184, 184, 184, 184, 165, 165, 165, 165, 176, 176, 176, 176, 181, 181, 181, 181, 163, 163, 163, 163"
   ]
  },
  {
   "cell_type": "code",
   "execution_count": 14,
   "id": "a789ed16-dd79-4ed1-9859-645dc7d451cd",
   "metadata": {},
   "outputs": [],
   "source": [
    "from scipy.stats import shapiro\n",
    "from scipy.stats import kstest"
   ]
  },
  {
   "cell_type": "code",
   "execution_count": 15,
   "id": "7c6da7ed-5f8d-4e69-be77-92b5270fba1d",
   "metadata": {},
   "outputs": [],
   "source": [
    "data1 = (170, 192, 184, 165, 176, 181, 163)\n",
    "data2 = (170, 170, 170, 170, 192, 192, 192, 192, 184, 184, 184, 184, 165, 165, 165, 165, 176, 176,\n",
    "176, 176, 181, 181, 181, 181, 163, 163, 163, 163)"
   ]
  },
  {
   "cell_type": "markdown",
   "id": "58979f5d-8a54-4f9b-90c2-1578587e8d0a",
   "metadata": {},
   "source": [
    "##### If (P-value < 0.05) => data is not normally distributed"
   ]
  },
  {
   "cell_type": "markdown",
   "id": "485c8b1e-8528-4127-a9f3-9d346836ce20",
   "metadata": {},
   "source": [
    "##### • Shapiro–Wilk test"
   ]
  },
  {
   "cell_type": "code",
   "execution_count": 16,
   "id": "44570aa5-6532-49fd-b4fe-05c34594b235",
   "metadata": {},
   "outputs": [
    {
     "name": "stdout",
     "output_type": "stream",
     "text": [
      "P-value of data1 - 0.8202127814292908\n",
      "P-value of data2 - 0.015374246053397655\n"
     ]
    }
   ],
   "source": [
    "# shapiro(data1)\n",
    "shapiro_p_value_data1 = shapiro(data1).pvalue # or shapiro(data1)[1]\n",
    "print(f'P-value of data1 - {shapiro_p_value_data1}')\n",
    "\n",
    "shapiro_p_value_data2 = shapiro(data2).pvalue # or shapiro(data2)[1]\n",
    "print(f'P-value of data2 - {shapiro_p_value_data2}')"
   ]
  },
  {
   "cell_type": "markdown",
   "id": "305ee9cc-9af7-4d2f-8444-b09f375b24dd",
   "metadata": {},
   "source": [
    "##### Therefore, data1 is normally distributed and data2 is not normally distributed"
   ]
  },
  {
   "cell_type": "markdown",
   "id": "5a3f2a2c-5e9a-459f-8be4-d72d1fdb4990",
   "metadata": {},
   "source": [
    "##### • Kolmogorov–Smirnov test"
   ]
  },
  {
   "cell_type": "code",
   "execution_count": 17,
   "id": "4b88fad2-3bb0-477a-a84b-45ce91c63f23",
   "metadata": {},
   "outputs": [
    {
     "name": "stdout",
     "output_type": "stream",
     "text": [
      "P-value of data1 - 0.986347960230188\n",
      "P-value of data2 - 0.47573618419230546\n"
     ]
    }
   ],
   "source": [
    "kstest_p_value_data1 = kstest(data1,'norm',(np.mean(data1),np.std(data1))).pvalue\n",
    "print(f'P-value of data1 - {kstest_p_value_data1}')\n",
    "\n",
    "kstest_p_value_data2 = kstest(data2,'norm',(np.mean(data2),np.std(data2))).pvalue\n",
    "print(f'P-value of data2 - {kstest_p_value_data2}')"
   ]
  },
  {
   "cell_type": "markdown",
   "id": "d1a7ddaf-8e21-4263-be44-4e5709fd8f7e",
   "metadata": {},
   "source": [
    "##### Therefore, data1 and data2 are not normally distributed"
   ]
  },
  {
   "cell_type": "markdown",
   "id": "65026dc9-79bc-4913-8a37-7310cf17fb0c",
   "metadata": {
    "jp-MarkdownHeadingCollapsed": true,
    "tags": []
   },
   "source": [
    "#### 4. Create histogram and density plot of the two datasets given in Exercise 3"
   ]
  },
  {
   "cell_type": "code",
   "execution_count": 18,
   "id": "49d0fad7-cb15-4bc1-986f-cef83fcb12b0",
   "metadata": {},
   "outputs": [],
   "source": [
    "import pandas as pd\n",
    "import matplotlib.pyplot as plt"
   ]
  },
  {
   "cell_type": "markdown",
   "id": "f44bffd3-7c95-4032-b112-36b1f072dafe",
   "metadata": {},
   "source": [
    "##### a.) 170, 192, 184, 165, 176, 181, 163\n"
   ]
  },
  {
   "cell_type": "code",
   "execution_count": 19,
   "id": "32642a75-4825-4f13-9c03-c54f485948f2",
   "metadata": {},
   "outputs": [],
   "source": [
    "data1 = pd.Series((170, 192, 184, 165, 176, 181, 163))\n",
    "bin1 = (150,160,170,180,190,200,210)"
   ]
  },
  {
   "cell_type": "markdown",
   "id": "f9a60c54-03a4-420e-9d86-a0cc7240067d",
   "metadata": {
    "tags": []
   },
   "source": [
    "##### Histogram 1"
   ]
  },
  {
   "cell_type": "code",
   "execution_count": 20,
   "id": "2ad42070-b34a-4afe-a1e5-7e45c5fa37e3",
   "metadata": {},
   "outputs": [
    {
     "data": {
      "text/plain": [
       "<AxesSubplot:ylabel='Frequency'>"
      ]
     },
     "execution_count": 20,
     "metadata": {},
     "output_type": "execute_result"
    },
    {
     "data": {
      "image/png": "[encoded data removed]",
      "text/plain": [
       "<Figure size 640x480 with 1 Axes>"
      ]
     },
     "metadata": {},
     "output_type": "display_data"
    }
   ],
   "source": [
    "pd.DataFrame(data1).plot(kind='hist', bins=bin1)"
   ]
  },
  {
   "cell_type": "markdown",
   "id": "d453726e-1ad2-4d9f-b456-72efbc9fe7ed",
   "metadata": {},
   "source": [
    "##### Density Plot 1"
   ]
  },
  {
   "cell_type": "code",
   "execution_count": 21,
   "id": "ee0c5848-a39d-4493-a599-107ffbc2ab09",
   "metadata": {},
   "outputs": [
    {
     "data": {
      "text/plain": [
       "<AxesSubplot:ylabel='Density'>"
      ]
     },
     "execution_count": 21,
     "metadata": {},
     "output_type": "execute_result"
    },
    {
     "data": {
      "image/png": "[encoded data removed]",
      "text/plain": [
       "<Figure size 640x480 with 1 Axes>"
      ]
     },
     "metadata": {},
     "output_type": "display_data"
    }
   ],
   "source": [
    "pd.DataFrame(data1).plot(kind='density')"
   ]
  },
  {
   "cell_type": "code",
   "execution_count": 22,
   "id": "eefa19c1-deff-4dc0-8ee5-f435755246b0",
   "metadata": {
    "tags": []
   },
   "outputs": [],
   "source": [
    "data2 = pd.Series((170, 170, 170, 170, 192, 192, 192, 192, 184, 184, 184, 184, 165, 165, 165, 165, 176, 176,\n",
    "176, 176, 181, 181, 181, 181, 163, 163, 163, 163))\n",
    "bin2 = (150,160,170,180,190,200,210)"
   ]
  },
  {
   "cell_type": "markdown",
   "id": "b694c8d8-3d21-459a-b91e-ff934da63a71",
   "metadata": {},
   "source": [
    "##### b.) 170, 170, 170, 170, 192, 192, 192, 192, 184, 184, 184, 184, 165, 165, 165, 165, 176, 176, 176, 176, 181, 181, 181, 181, 163, 163, 163, 163"
   ]
  },
  {
   "cell_type": "markdown",
   "id": "428976d2-1698-4f83-bb5c-c133f04283f0",
   "metadata": {},
   "source": [
    "##### Histogram 2"
   ]
  },
  {
   "cell_type": "code",
   "execution_count": 23,
   "id": "2dcf4878-75dd-4593-8800-5922141167f9",
   "metadata": {},
   "outputs": [
    {
     "data": {
      "text/plain": [
       "<AxesSubplot:ylabel='Frequency'>"
      ]
     },
     "execution_count": 23,
     "metadata": {},
     "output_type": "execute_result"
    },
    {
     "data": {
      "image/png": "[encoded data removed]",
      "text/plain": [
       "<Figure size 640x480 with 1 Axes>"
      ]
     },
     "metadata": {},
     "output_type": "display_data"
    }
   ],
   "source": [
    "pd.DataFrame(data2).plot(kind='hist',bins=bin2)"
   ]
  },
  {
   "cell_type": "markdown",
   "id": "cf76a1ac-55b7-4a64-a980-025fa7ea197b",
   "metadata": {},
   "source": [
    "##### Density Plot 2"
   ]
  },
  {
   "cell_type": "code",
   "execution_count": 24,
   "id": "2da1d8ee-d818-4838-962c-0c53ccc9dfe3",
   "metadata": {},
   "outputs": [
    {
     "data": {
      "text/plain": [
       "<AxesSubplot:ylabel='Density'>"
      ]
     },
     "execution_count": 24,
     "metadata": {},
     "output_type": "execute_result"
    },
    {
     "data": {
      "image/png": "[encoded data removed]",
      "text/plain": [
       "<Figure size 640x480 with 1 Axes>"
      ]
     },
     "metadata": {},
     "output_type": "display_data"
    }
   ],
   "source": [
    "pd.DataFrame(data2).plot(kind='density')"
   ]
  },
  {
   "cell_type": "markdown",
   "id": "ee18af4d-c15d-4494-9cbb-79171b89a616",
   "metadata": {
    "jp-MarkdownHeadingCollapsed": true,
    "tags": []
   },
   "source": [
    "#### 5. We consider world temperature (https://climate.nasa.gov/vital-signs/global-temperature/). Download the dataset and consider No_smoothing variable. Define mean and median for the data. Is the variable normally distributed? How about, is the variable normally distributed if measurements from year 2000 onwards are only considered?"
   ]
  },
  {
   "cell_type": "code",
   "execution_count": 25,
   "id": "2882ec52-f382-4226-a7dc-7b5b3710597d",
   "metadata": {
    "tags": []
   },
   "outputs": [],
   "source": [
    "# df = pd.read_csv('graph.txt', delimiter='\\s+', header=4, names=['Year','No_Smoothing','Lowess(5)']) # or"
   ]
  },
  {
   "cell_type": "code",
   "execution_count": 26,
   "id": "9c209688-e7bf-4b0d-a307-e795ce3fbec2",
   "metadata": {
    "tags": []
   },
   "outputs": [],
   "source": [
    "# read text file and remove the unwanted text\n",
    "df = pd.read_csv('graph.txt', delimiter='\\s+', header=2)\n",
    "df.drop(0, inplace=True)\n",
    "# equivalent to df = df.drop(0) [so that changes are reflected in the data frame]"
   ]
  },
  {
   "cell_type": "code",
   "execution_count": 27,
   "id": "a4790d7b-790d-42df-8237-0aa77c57a799",
   "metadata": {},
   "outputs": [
    {
     "data": {
      "text/html": [
       "<div>\n",
       "<style scoped>\n",
       "    .dataframe tbody tr th:only-of-type {\n",
       "        vertical-align: middle;\n",
       "    }\n",
       "\n",
       "    .dataframe tbody tr th {\n",
       "        vertical-align: top;\n",
       "    }\n",
       "\n",
       "    .dataframe thead th {\n",
       "        text-align: right;\n",
       "    }\n",
       "</style>\n",
       "<table border=\"1\" class=\"dataframe\">\n",
       "  <thead>\n",
       "    <tr style=\"text-align: right;\">\n",
       "      <th></th>\n",
       "      <th>Year</th>\n",
       "      <th>No_Smoothing</th>\n",
       "      <th>Lowess(5)</th>\n",
       "    </tr>\n",
       "  </thead>\n",
       "  <tbody>\n",
       "    <tr>\n",
       "      <th>1</th>\n",
       "      <td>1880</td>\n",
       "      <td>-0.17</td>\n",
       "      <td>-0.09</td>\n",
       "    </tr>\n",
       "    <tr>\n",
       "      <th>2</th>\n",
       "      <td>1881</td>\n",
       "      <td>-0.08</td>\n",
       "      <td>-0.13</td>\n",
       "    </tr>\n",
       "    <tr>\n",
       "      <th>3</th>\n",
       "      <td>1882</td>\n",
       "      <td>-0.11</td>\n",
       "      <td>-0.17</td>\n",
       "    </tr>\n",
       "    <tr>\n",
       "      <th>4</th>\n",
       "      <td>1883</td>\n",
       "      <td>-0.18</td>\n",
       "      <td>-0.20</td>\n",
       "    </tr>\n",
       "    <tr>\n",
       "      <th>5</th>\n",
       "      <td>1884</td>\n",
       "      <td>-0.28</td>\n",
       "      <td>-0.24</td>\n",
       "    </tr>\n",
       "    <tr>\n",
       "      <th>...</th>\n",
       "      <td>...</td>\n",
       "      <td>...</td>\n",
       "      <td>...</td>\n",
       "    </tr>\n",
       "    <tr>\n",
       "      <th>138</th>\n",
       "      <td>2017</td>\n",
       "      <td>0.92</td>\n",
       "      <td>0.91</td>\n",
       "    </tr>\n",
       "    <tr>\n",
       "      <th>139</th>\n",
       "      <td>2018</td>\n",
       "      <td>0.85</td>\n",
       "      <td>0.92</td>\n",
       "    </tr>\n",
       "    <tr>\n",
       "      <th>140</th>\n",
       "      <td>2019</td>\n",
       "      <td>0.98</td>\n",
       "      <td>0.93</td>\n",
       "    </tr>\n",
       "    <tr>\n",
       "      <th>141</th>\n",
       "      <td>2020</td>\n",
       "      <td>1.01</td>\n",
       "      <td>0.93</td>\n",
       "    </tr>\n",
       "    <tr>\n",
       "      <th>142</th>\n",
       "      <td>2021</td>\n",
       "      <td>0.84</td>\n",
       "      <td>0.93</td>\n",
       "    </tr>\n",
       "  </tbody>\n",
       "</table>\n",
       "<p>142 rows × 3 columns</p>\n",
       "</div>"
      ],
      "text/plain": [
       "     Year  No_Smoothing  Lowess(5)\n",
       "1    1880         -0.17      -0.09\n",
       "2    1881         -0.08      -0.13\n",
       "3    1882         -0.11      -0.17\n",
       "4    1883         -0.18      -0.20\n",
       "5    1884         -0.28      -0.24\n",
       "..    ...           ...        ...\n",
       "138  2017          0.92       0.91\n",
       "139  2018          0.85       0.92\n",
       "140  2019          0.98       0.93\n",
       "141  2020          1.01       0.93\n",
       "142  2021          0.84       0.93\n",
       "\n",
       "[142 rows x 3 columns]"
      ]
     },
     "execution_count": 27,
     "metadata": {},
     "output_type": "execute_result"
    }
   ],
   "source": [
    "df"
   ]
  },
  {
   "cell_type": "code",
   "execution_count": 28,
   "id": "7dfe1b2b-9ac5-4ad8-a950-e8db0dcadf5d",
   "metadata": {},
   "outputs": [
    {
     "data": {
      "text/plain": [
       "1     -0.17\n",
       "2     -0.08\n",
       "3     -0.11\n",
       "4     -0.18\n",
       "5     -0.28\n",
       "       ... \n",
       "138    0.92\n",
       "139    0.85\n",
       "140    0.98\n",
       "141    1.01\n",
       "142    0.84\n",
       "Name: No_Smoothing, Length: 142, dtype: float64"
      ]
     },
     "execution_count": 28,
     "metadata": {},
     "output_type": "execute_result"
    }
   ],
   "source": [
    "df['No_Smoothing']"
   ]
  },
  {
   "cell_type": "code",
   "execution_count": 29,
   "id": "6e4a1f30-c419-4f1f-bc8f-09ce090e8033",
   "metadata": {},
   "outputs": [
    {
     "data": {
      "text/plain": [
       "0.053169014084507096"
      ]
     },
     "execution_count": 29,
     "metadata": {},
     "output_type": "execute_result"
    }
   ],
   "source": [
    "df['No_Smoothing'].mean()"
   ]
  },
  {
   "cell_type": "code",
   "execution_count": 30,
   "id": "72e87c8b-b1cf-4b0e-8d19-5fe51b56868a",
   "metadata": {},
   "outputs": [
    {
     "data": {
      "text/plain": [
       "-0.065"
      ]
     },
     "execution_count": 30,
     "metadata": {},
     "output_type": "execute_result"
    }
   ],
   "source": [
    "df['No_Smoothing'].median()"
   ]
  },
  {
   "cell_type": "code",
   "execution_count": 31,
   "id": "e2c3a748-20fd-41aa-a7c8-b62293511a4c",
   "metadata": {},
   "outputs": [],
   "source": [
    "no_smoothing_col = df['No_Smoothing']"
   ]
  },
  {
   "cell_type": "code",
   "execution_count": 32,
   "id": "5270aea2-b170-427f-b1f4-e6f0974be6b7",
   "metadata": {
    "tags": []
   },
   "outputs": [
    {
     "data": {
      "text/plain": [
       "0.012028402273352378"
      ]
     },
     "execution_count": 32,
     "metadata": {},
     "output_type": "execute_result"
    }
   ],
   "source": [
    "kstest(no_smoothing_col,'norm',(np.mean(no_smoothing_col),np.std(no_smoothing_col))).pvalue"
   ]
  },
  {
   "cell_type": "markdown",
   "id": "9d90825a-4683-436d-afaa-af138fb71286",
   "metadata": {
    "tags": []
   },
   "source": [
    "##### Therefore, data is not normally distributed"
   ]
  },
  {
   "cell_type": "code",
   "execution_count": 33,
   "id": "50f8a62e-a62f-4757-a410-2e778d7c09ab",
   "metadata": {},
   "outputs": [],
   "source": [
    "df_subset = df.tail(22)['No_Smoothing']"
   ]
  },
  {
   "cell_type": "code",
   "execution_count": 34,
   "id": "14f55ca5-945a-49b2-b275-c6e43655938f",
   "metadata": {},
   "outputs": [
    {
     "data": {
      "text/plain": [
       "121    0.39\n",
       "122    0.54\n",
       "123    0.63\n",
       "124    0.62\n",
       "125    0.53\n",
       "126    0.68\n",
       "127    0.63\n",
       "128    0.66\n",
       "129    0.54\n",
       "130    0.66\n",
       "131    0.72\n",
       "132    0.61\n",
       "133    0.65\n",
       "134    0.68\n",
       "135    0.75\n",
       "136    0.90\n",
       "137    1.01\n",
       "138    0.92\n",
       "139    0.85\n",
       "140    0.98\n",
       "141    1.01\n",
       "142    0.84\n",
       "Name: No_Smoothing, dtype: float64"
      ]
     },
     "execution_count": 34,
     "metadata": {},
     "output_type": "execute_result"
    }
   ],
   "source": [
    "df_subset"
   ]
  },
  {
   "cell_type": "code",
   "execution_count": 35,
   "id": "199f24f7-e08d-427b-9ffb-27d6c38a37cc",
   "metadata": {},
   "outputs": [
    {
     "data": {
      "text/plain": [
       "0.41031476104712195"
      ]
     },
     "execution_count": 35,
     "metadata": {},
     "output_type": "execute_result"
    }
   ],
   "source": [
    "kstest(df_subset,'norm',(np.mean(df_subset),np.std(df_subset))).pvalue"
   ]
  },
  {
   "cell_type": "markdown",
   "id": "6ef8c9a4-bbb9-45c6-b454-9085c3c1ee17",
   "metadata": {},
   "source": [
    "##### Therefore, the data is normally distributed"
   ]
  }
 ],
 "metadata": {
  "kernelspec": {
   "display_name": "Python 3.10.6 64-bit",
   "language": "python",
   "name": "python3"
  },
  "language_info": {
   "codemirror_mode": {
    "name": "ipython",
    "version": 3
   },
   "file_extension": ".py",
   "mimetype": "text/x-python",
   "name": "python",
   "nbconvert_exporter": "python",
   "pygments_lexer": "ipython3",
   "version": "3.10.6"
  },
  "vscode": {
   "interpreter": {
    "hash": "55b303367486b8095d36d0544b53e8d3aaa681ea9381f95fa0e21d0a9d127300"
   }
  }
 },
 "nbformat": 4,
 "nbformat_minor": 5
}
