{
 "cells": [
  {
   "cell_type": "code",
   "execution_count": 1,
   "id": "d18354c0",
   "metadata": {},
   "outputs": [
    {
     "name": "stdout",
     "output_type": "stream",
     "text": [
      "C:\\Users\\aman\\OneDrive\\Desktop\\python ml project\n"
     ]
    }
   ],
   "source": [
    "cd C:\\Users\\aman\\OneDrive\\Desktop\\python ml project"
   ]
  },
  {
   "cell_type": "code",
   "execution_count": 2,
   "id": "62ec05e3",
   "metadata": {},
   "outputs": [],
   "source": [
    "import pandas as pd\n",
    "import seaborn as sns\n",
    "from scipy import stats"
   ]
  },
  {
   "cell_type": "code",
   "execution_count": 138,
   "id": "aa48a347",
   "metadata": {},
   "outputs": [
    {
     "name": "stdout",
     "output_type": "stream",
     "text": [
      "9.330521184851895\n",
      "12.14808603588102\n",
      "4.102114236774832\n"
     ]
    },
    {
     "name": "stderr",
     "output_type": "stream",
     "text": [
      "C:\\ProgramData\\Anaconda3\\lib\\site-packages\\seaborn\\distributions.py:2619: FutureWarning: `distplot` is a deprecated function and will be removed in a future version. Please adapt your code to use either `displot` (a figure-level function with similar flexibility) or `histplot` (an axes-level function for histograms).\n",
      "  warnings.warn(msg, FutureWarning)\n"
     ]
    },
    {
     "data": {
      "image/png": "[encoded data removed]",
      "text/plain": [
       "<Figure size 432x288 with 1 Axes>"
      ]
     },
     "metadata": {
      "needs_background": "light"
     },
     "output_type": "display_data"
    }
   ],
   "source": [
    "print(v.mean())\n",
    "print(v.std())\n",
    "sns.distplot(v)\n",
    "print(v.skew())"
   ]
  },
  {
   "cell_type": "code",
   "execution_count": 139,
   "id": "7d4d5342",
   "metadata": {},
   "outputs": [
    {
     "name": "stdout",
     "output_type": "stream",
     "text": [
      "8.578630085852934\n",
      "7.818859208320439\n",
      "1.3379397130460216\n"
     ]
    },
    {
     "name": "stderr",
     "output_type": "stream",
     "text": [
      "C:\\ProgramData\\Anaconda3\\lib\\site-packages\\seaborn\\distributions.py:2619: FutureWarning: `distplot` is a deprecated function and will be removed in a future version. Please adapt your code to use either `displot` (a figure-level function with similar flexibility) or `histplot` (an axes-level function for histograms).\n",
      "  warnings.warn(msg, FutureWarning)\n"
     ]
    },
    {
     "data": {
      "image/png": "[encoded data removed]",
      "text/plain": [
       "<Figure size 432x288 with 1 Axes>"
      ]
     },
     "metadata": {
      "needs_background": "light"
     },
     "output_type": "display_data"
    }
   ],
   "source": [
    "print(z.mean())\n",
    "print(z.std())\n",
    "sns.distplot(z)\n",
    "print(z.skew())"
   ]
  },
  {
   "cell_type": "markdown",
   "id": "82236944",
   "metadata": {},
   "source": []
  },
  {
   "cell_type": "code",
   "execution_count": 124,
   "id": "9d92d35e",
   "metadata": {},
   "outputs": [
    {
     "data": {
      "text/plain": [
       "'not normally distributed'"
      ]
     },
     "execution_count": 124,
     "metadata": {},
     "output_type": "execute_result"
    }
   ],
   "source": [
    "nd_test(z)"
   ]
  },
  {
   "cell_type": "code",
   "execution_count": 5,
   "id": "0e54ab6c",
   "metadata": {},
   "outputs": [
    {
     "data": {
      "text/html": [
       "<div>\n",
       "<style scoped>\n",
       "    .dataframe tbody tr th:only-of-type {\n",
       "        vertical-align: middle;\n",
       "    }\n",
       "\n",
       "    .dataframe tbody tr th {\n",
       "        vertical-align: top;\n",
       "    }\n",
       "\n",
       "    .dataframe thead th {\n",
       "        text-align: right;\n",
       "    }\n",
       "</style>\n",
       "<table border=\"1\" class=\"dataframe\">\n",
       "  <thead>\n",
       "    <tr style=\"text-align: right;\">\n",
       "      <th></th>\n",
       "      <th>ticket</th>\n",
       "      <th>cost</th>\n",
       "      <th>month</th>\n",
       "      <th>location_from</th>\n",
       "      <th>location_to</th>\n",
       "      <th>duration</th>\n",
       "      <th>distance</th>\n",
       "      <th>assistance</th>\n",
       "      <th>energy_used</th>\n",
       "      <th>energy_collected</th>\n",
       "    </tr>\n",
       "  </thead>\n",
       "  <tbody>\n",
       "    <tr>\n",
       "      <th>0</th>\n",
       "      <td>season</td>\n",
       "      <td>0.00</td>\n",
       "      <td>7</td>\n",
       "      <td>TEATTERI</td>\n",
       "      <td>TEATTERI</td>\n",
       "      <td>3</td>\n",
       "      <td>0</td>\n",
       "      <td>0</td>\n",
       "      <td>0.0</td>\n",
       "      <td>0.0</td>\n",
       "    </tr>\n",
       "    <tr>\n",
       "      <th>1</th>\n",
       "      <td>single</td>\n",
       "      <td>0.35</td>\n",
       "      <td>7</td>\n",
       "      <td>TORI</td>\n",
       "      <td>TEATTERI</td>\n",
       "      <td>416</td>\n",
       "      <td>820</td>\n",
       "      <td>1</td>\n",
       "      <td>7.5</td>\n",
       "      <td>0.6</td>\n",
       "    </tr>\n",
       "    <tr>\n",
       "      <th>2</th>\n",
       "      <td>season</td>\n",
       "      <td>0.00</td>\n",
       "      <td>8</td>\n",
       "      <td>TORI</td>\n",
       "      <td>SATAMA</td>\n",
       "      <td>721</td>\n",
       "      <td>1230</td>\n",
       "      <td>0</td>\n",
       "      <td>0.0</td>\n",
       "      <td>2.1</td>\n",
       "    </tr>\n",
       "    <tr>\n",
       "      <th>3</th>\n",
       "      <td>single</td>\n",
       "      <td>0.25</td>\n",
       "      <td>5</td>\n",
       "      <td>TEATTERI</td>\n",
       "      <td>TORI</td>\n",
       "      <td>261</td>\n",
       "      <td>720</td>\n",
       "      <td>0</td>\n",
       "      <td>0.0</td>\n",
       "      <td>1.2</td>\n",
       "    </tr>\n",
       "    <tr>\n",
       "      <th>4</th>\n",
       "      <td>season</td>\n",
       "      <td>0.00</td>\n",
       "      <td>5</td>\n",
       "      <td>TEATTERI</td>\n",
       "      <td>TORI</td>\n",
       "      <td>382</td>\n",
       "      <td>710</td>\n",
       "      <td>1</td>\n",
       "      <td>3.3</td>\n",
       "      <td>0.9</td>\n",
       "    </tr>\n",
       "    <tr>\n",
       "      <th>5</th>\n",
       "      <td>season</td>\n",
       "      <td>0.00</td>\n",
       "      <td>8</td>\n",
       "      <td>MICROTEKNIA</td>\n",
       "      <td>TEATTERI</td>\n",
       "      <td>960</td>\n",
       "      <td>2670</td>\n",
       "      <td>1</td>\n",
       "      <td>21.5</td>\n",
       "      <td>6.3</td>\n",
       "    </tr>\n",
       "    <tr>\n",
       "      <th>6</th>\n",
       "      <td>season</td>\n",
       "      <td>0.00</td>\n",
       "      <td>6</td>\n",
       "      <td>RYPYSUO</td>\n",
       "      <td>KYS</td>\n",
       "      <td>589</td>\n",
       "      <td>3130</td>\n",
       "      <td>1</td>\n",
       "      <td>25.9</td>\n",
       "      <td>11.4</td>\n",
       "    </tr>\n",
       "    <tr>\n",
       "      <th>7</th>\n",
       "      <td>season</td>\n",
       "      <td>0.00</td>\n",
       "      <td>5</td>\n",
       "      <td>SATAMA</td>\n",
       "      <td>TORI</td>\n",
       "      <td>1276</td>\n",
       "      <td>4870</td>\n",
       "      <td>1</td>\n",
       "      <td>50.3</td>\n",
       "      <td>8.4</td>\n",
       "    </tr>\n",
       "    <tr>\n",
       "      <th>8</th>\n",
       "      <td>season</td>\n",
       "      <td>0.00</td>\n",
       "      <td>8</td>\n",
       "      <td>SATAMA</td>\n",
       "      <td>SATAMA</td>\n",
       "      <td>72</td>\n",
       "      <td>0</td>\n",
       "      <td>1</td>\n",
       "      <td>0.0</td>\n",
       "      <td>0.0</td>\n",
       "    </tr>\n",
       "    <tr>\n",
       "      <th>9</th>\n",
       "      <td>season</td>\n",
       "      <td>0.00</td>\n",
       "      <td>9</td>\n",
       "      <td>TEATTERI</td>\n",
       "      <td>VÄINÖLÄNNIEMI</td>\n",
       "      <td>1090</td>\n",
       "      <td>5010</td>\n",
       "      <td>1</td>\n",
       "      <td>44.0</td>\n",
       "      <td>8.1</td>\n",
       "    </tr>\n",
       "    <tr>\n",
       "      <th>10</th>\n",
       "      <td>season</td>\n",
       "      <td>0.00</td>\n",
       "      <td>10</td>\n",
       "      <td>KYS</td>\n",
       "      <td>RYPYSUO</td>\n",
       "      <td>654</td>\n",
       "      <td>3320</td>\n",
       "      <td>1</td>\n",
       "      <td>31.1</td>\n",
       "      <td>2.4</td>\n",
       "    </tr>\n",
       "    <tr>\n",
       "      <th>11</th>\n",
       "      <td>season</td>\n",
       "      <td>0.00</td>\n",
       "      <td>6</td>\n",
       "      <td>RYPYSUO</td>\n",
       "      <td>RYPYSUO</td>\n",
       "      <td>135</td>\n",
       "      <td>0</td>\n",
       "      <td>1</td>\n",
       "      <td>0.0</td>\n",
       "      <td>0.0</td>\n",
       "    </tr>\n",
       "    <tr>\n",
       "      <th>12</th>\n",
       "      <td>season</td>\n",
       "      <td>0.00</td>\n",
       "      <td>5</td>\n",
       "      <td>TORI</td>\n",
       "      <td>MICROTEKNIA</td>\n",
       "      <td>601</td>\n",
       "      <td>3130</td>\n",
       "      <td>1</td>\n",
       "      <td>20.5</td>\n",
       "      <td>4.8</td>\n",
       "    </tr>\n",
       "    <tr>\n",
       "      <th>13</th>\n",
       "      <td>savonia</td>\n",
       "      <td>0.00</td>\n",
       "      <td>9</td>\n",
       "      <td>SNELLMANIA</td>\n",
       "      <td>SNELLMANIA</td>\n",
       "      <td>64</td>\n",
       "      <td>0</td>\n",
       "      <td>1</td>\n",
       "      <td>0.0</td>\n",
       "      <td>0.0</td>\n",
       "    </tr>\n",
       "    <tr>\n",
       "      <th>14</th>\n",
       "      <td>single</td>\n",
       "      <td>1.10</td>\n",
       "      <td>5</td>\n",
       "      <td>TORI</td>\n",
       "      <td>TORI</td>\n",
       "      <td>1260</td>\n",
       "      <td>2590</td>\n",
       "      <td>0</td>\n",
       "      <td>0.0</td>\n",
       "      <td>6.3</td>\n",
       "    </tr>\n",
       "    <tr>\n",
       "      <th>15</th>\n",
       "      <td>savonia</td>\n",
       "      <td>0.00</td>\n",
       "      <td>9</td>\n",
       "      <td>MICROTEKNIA</td>\n",
       "      <td>MICROTEKNIA</td>\n",
       "      <td>61</td>\n",
       "      <td>0</td>\n",
       "      <td>1</td>\n",
       "      <td>0.0</td>\n",
       "      <td>0.0</td>\n",
       "    </tr>\n",
       "    <tr>\n",
       "      <th>16</th>\n",
       "      <td>single</td>\n",
       "      <td>0.15</td>\n",
       "      <td>9</td>\n",
       "      <td>TORI</td>\n",
       "      <td>TORI</td>\n",
       "      <td>160</td>\n",
       "      <td>740</td>\n",
       "      <td>1</td>\n",
       "      <td>5.1</td>\n",
       "      <td>1.2</td>\n",
       "    </tr>\n",
       "    <tr>\n",
       "      <th>17</th>\n",
       "      <td>single</td>\n",
       "      <td>0.40</td>\n",
       "      <td>5</td>\n",
       "      <td>SNELLMANIA</td>\n",
       "      <td>TEATTERI</td>\n",
       "      <td>453</td>\n",
       "      <td>1990</td>\n",
       "      <td>1</td>\n",
       "      <td>17.1</td>\n",
       "      <td>2.1</td>\n",
       "    </tr>\n",
       "    <tr>\n",
       "      <th>18</th>\n",
       "      <td>savonia</td>\n",
       "      <td>0.00</td>\n",
       "      <td>10</td>\n",
       "      <td>UIMAHALLI</td>\n",
       "      <td>TORI</td>\n",
       "      <td>300</td>\n",
       "      <td>930</td>\n",
       "      <td>1</td>\n",
       "      <td>7.3</td>\n",
       "      <td>3.6</td>\n",
       "    </tr>\n",
       "    <tr>\n",
       "      <th>19</th>\n",
       "      <td>season</td>\n",
       "      <td>0.00</td>\n",
       "      <td>5</td>\n",
       "      <td>RYPYSUO</td>\n",
       "      <td>TORI</td>\n",
       "      <td>1194</td>\n",
       "      <td>5140</td>\n",
       "      <td>0</td>\n",
       "      <td>0.0</td>\n",
       "      <td>9.6</td>\n",
       "    </tr>\n",
       "    <tr>\n",
       "      <th>20</th>\n",
       "      <td>savonia</td>\n",
       "      <td>0.00</td>\n",
       "      <td>10</td>\n",
       "      <td>KYS</td>\n",
       "      <td>TORI</td>\n",
       "      <td>566</td>\n",
       "      <td>1870</td>\n",
       "      <td>1</td>\n",
       "      <td>13.8</td>\n",
       "      <td>6.6</td>\n",
       "    </tr>\n",
       "    <tr>\n",
       "      <th>21</th>\n",
       "      <td>single</td>\n",
       "      <td>2.70</td>\n",
       "      <td>6</td>\n",
       "      <td>SATAMA</td>\n",
       "      <td>VÄINÖLÄNNIEMI</td>\n",
       "      <td>3222</td>\n",
       "      <td>3070</td>\n",
       "      <td>1</td>\n",
       "      <td>18.3</td>\n",
       "      <td>5.7</td>\n",
       "    </tr>\n",
       "    <tr>\n",
       "      <th>22</th>\n",
       "      <td>season</td>\n",
       "      <td>0.00</td>\n",
       "      <td>9</td>\n",
       "      <td>UIMAHALLI</td>\n",
       "      <td>UIMAHALLI</td>\n",
       "      <td>546</td>\n",
       "      <td>0</td>\n",
       "      <td>1</td>\n",
       "      <td>0.0</td>\n",
       "      <td>0.0</td>\n",
       "    </tr>\n",
       "    <tr>\n",
       "      <th>23</th>\n",
       "      <td>savonia</td>\n",
       "      <td>0.00</td>\n",
       "      <td>10</td>\n",
       "      <td>SNELLMANIA</td>\n",
       "      <td>SNELLMANIA</td>\n",
       "      <td>90</td>\n",
       "      <td>0</td>\n",
       "      <td>0</td>\n",
       "      <td>0.0</td>\n",
       "      <td>0.0</td>\n",
       "    </tr>\n",
       "    <tr>\n",
       "      <th>24</th>\n",
       "      <td>season</td>\n",
       "      <td>0.00</td>\n",
       "      <td>6</td>\n",
       "      <td>TORI</td>\n",
       "      <td>TORI</td>\n",
       "      <td>60</td>\n",
       "      <td>60</td>\n",
       "      <td>1</td>\n",
       "      <td>0.0</td>\n",
       "      <td>0.0</td>\n",
       "    </tr>\n",
       "    <tr>\n",
       "      <th>25</th>\n",
       "      <td>single</td>\n",
       "      <td>0.15</td>\n",
       "      <td>4</td>\n",
       "      <td>TEATTERI</td>\n",
       "      <td>TORI</td>\n",
       "      <td>173</td>\n",
       "      <td>700</td>\n",
       "      <td>1</td>\n",
       "      <td>2.3</td>\n",
       "      <td>0.0</td>\n",
       "    </tr>\n",
       "    <tr>\n",
       "      <th>26</th>\n",
       "      <td>savonia</td>\n",
       "      <td>0.00</td>\n",
       "      <td>9</td>\n",
       "      <td>TORI</td>\n",
       "      <td>MICROTEKNIA</td>\n",
       "      <td>739</td>\n",
       "      <td>3290</td>\n",
       "      <td>1</td>\n",
       "      <td>29.8</td>\n",
       "      <td>11.1</td>\n",
       "    </tr>\n",
       "    <tr>\n",
       "      <th>27</th>\n",
       "      <td>savonia</td>\n",
       "      <td>0.00</td>\n",
       "      <td>10</td>\n",
       "      <td>SATAMA</td>\n",
       "      <td>SATAMA</td>\n",
       "      <td>83</td>\n",
       "      <td>60</td>\n",
       "      <td>1</td>\n",
       "      <td>0.4</td>\n",
       "      <td>0.0</td>\n",
       "    </tr>\n",
       "    <tr>\n",
       "      <th>28</th>\n",
       "      <td>single</td>\n",
       "      <td>0.35</td>\n",
       "      <td>10</td>\n",
       "      <td>TORI</td>\n",
       "      <td>TORI</td>\n",
       "      <td>385</td>\n",
       "      <td>1480</td>\n",
       "      <td>1</td>\n",
       "      <td>7.3</td>\n",
       "      <td>7.2</td>\n",
       "    </tr>\n",
       "    <tr>\n",
       "      <th>29</th>\n",
       "      <td>season</td>\n",
       "      <td>0.00</td>\n",
       "      <td>7</td>\n",
       "      <td>TORI</td>\n",
       "      <td>TEATTERI</td>\n",
       "      <td>468</td>\n",
       "      <td>750</td>\n",
       "      <td>1</td>\n",
       "      <td>0.0</td>\n",
       "      <td>0.0</td>\n",
       "    </tr>\n",
       "    <tr>\n",
       "      <th>30</th>\n",
       "      <td>single</td>\n",
       "      <td>0.65</td>\n",
       "      <td>6</td>\n",
       "      <td>TORI</td>\n",
       "      <td>MICROTEKNIA</td>\n",
       "      <td>723</td>\n",
       "      <td>3060</td>\n",
       "      <td>1</td>\n",
       "      <td>19.3</td>\n",
       "      <td>14.4</td>\n",
       "    </tr>\n",
       "    <tr>\n",
       "      <th>31</th>\n",
       "      <td>season</td>\n",
       "      <td>0.00</td>\n",
       "      <td>7</td>\n",
       "      <td>VÄINÖLÄNNIEMI</td>\n",
       "      <td>TORI</td>\n",
       "      <td>442</td>\n",
       "      <td>1600</td>\n",
       "      <td>1</td>\n",
       "      <td>14.8</td>\n",
       "      <td>0.9</td>\n",
       "    </tr>\n",
       "    <tr>\n",
       "      <th>32</th>\n",
       "      <td>single</td>\n",
       "      <td>0.25</td>\n",
       "      <td>5</td>\n",
       "      <td>TORI</td>\n",
       "      <td>SATAMA</td>\n",
       "      <td>243</td>\n",
       "      <td>960</td>\n",
       "      <td>1</td>\n",
       "      <td>4.1</td>\n",
       "      <td>7.8</td>\n",
       "    </tr>\n",
       "    <tr>\n",
       "      <th>33</th>\n",
       "      <td>single</td>\n",
       "      <td>0.55</td>\n",
       "      <td>10</td>\n",
       "      <td>MICROTEKNIA</td>\n",
       "      <td>TORI</td>\n",
       "      <td>649</td>\n",
       "      <td>3030</td>\n",
       "      <td>1</td>\n",
       "      <td>21.0</td>\n",
       "      <td>8.4</td>\n",
       "    </tr>\n",
       "    <tr>\n",
       "      <th>34</th>\n",
       "      <td>season</td>\n",
       "      <td>0.00</td>\n",
       "      <td>7</td>\n",
       "      <td>SNELLMANIA</td>\n",
       "      <td>TORI</td>\n",
       "      <td>1287</td>\n",
       "      <td>3340</td>\n",
       "      <td>1</td>\n",
       "      <td>26.6</td>\n",
       "      <td>7.8</td>\n",
       "    </tr>\n",
       "    <tr>\n",
       "      <th>35</th>\n",
       "      <td>single</td>\n",
       "      <td>0.20</td>\n",
       "      <td>5</td>\n",
       "      <td>TORI</td>\n",
       "      <td>SATAMA</td>\n",
       "      <td>230</td>\n",
       "      <td>910</td>\n",
       "      <td>1</td>\n",
       "      <td>3.1</td>\n",
       "      <td>5.1</td>\n",
       "    </tr>\n",
       "    <tr>\n",
       "      <th>36</th>\n",
       "      <td>season</td>\n",
       "      <td>0.00</td>\n",
       "      <td>10</td>\n",
       "      <td>TORI</td>\n",
       "      <td>TORI</td>\n",
       "      <td>1534</td>\n",
       "      <td>4460</td>\n",
       "      <td>1</td>\n",
       "      <td>45.4</td>\n",
       "      <td>13.2</td>\n",
       "    </tr>\n",
       "    <tr>\n",
       "      <th>37</th>\n",
       "      <td>single</td>\n",
       "      <td>0.75</td>\n",
       "      <td>4</td>\n",
       "      <td>RYPYSUO</td>\n",
       "      <td>TORI</td>\n",
       "      <td>886</td>\n",
       "      <td>4260</td>\n",
       "      <td>1</td>\n",
       "      <td>30.1</td>\n",
       "      <td>7.5</td>\n",
       "    </tr>\n",
       "    <tr>\n",
       "      <th>38</th>\n",
       "      <td>single</td>\n",
       "      <td>0.05</td>\n",
       "      <td>7</td>\n",
       "      <td>SATAMA</td>\n",
       "      <td>SATAMA</td>\n",
       "      <td>13</td>\n",
       "      <td>0</td>\n",
       "      <td>0</td>\n",
       "      <td>0.0</td>\n",
       "      <td>0.0</td>\n",
       "    </tr>\n",
       "    <tr>\n",
       "      <th>39</th>\n",
       "      <td>season</td>\n",
       "      <td>0.00</td>\n",
       "      <td>5</td>\n",
       "      <td>SATAMA</td>\n",
       "      <td>SATAMA</td>\n",
       "      <td>1666</td>\n",
       "      <td>0</td>\n",
       "      <td>1</td>\n",
       "      <td>0.0</td>\n",
       "      <td>0.0</td>\n",
       "    </tr>\n",
       "    <tr>\n",
       "      <th>40</th>\n",
       "      <td>single</td>\n",
       "      <td>0.15</td>\n",
       "      <td>5</td>\n",
       "      <td>UIMAHALLI</td>\n",
       "      <td>UIMAHALLI</td>\n",
       "      <td>157</td>\n",
       "      <td>0</td>\n",
       "      <td>1</td>\n",
       "      <td>0.0</td>\n",
       "      <td>0.0</td>\n",
       "    </tr>\n",
       "    <tr>\n",
       "      <th>41</th>\n",
       "      <td>season</td>\n",
       "      <td>0.00</td>\n",
       "      <td>10</td>\n",
       "      <td>TORI</td>\n",
       "      <td>TORI</td>\n",
       "      <td>65</td>\n",
       "      <td>80</td>\n",
       "      <td>0</td>\n",
       "      <td>0.0</td>\n",
       "      <td>0.0</td>\n",
       "    </tr>\n",
       "    <tr>\n",
       "      <th>42</th>\n",
       "      <td>season</td>\n",
       "      <td>0.00</td>\n",
       "      <td>8</td>\n",
       "      <td>TORI</td>\n",
       "      <td>VÄINÖLÄNNIEMI</td>\n",
       "      <td>370</td>\n",
       "      <td>1610</td>\n",
       "      <td>1</td>\n",
       "      <td>9.2</td>\n",
       "      <td>0.0</td>\n",
       "    </tr>\n",
       "    <tr>\n",
       "      <th>43</th>\n",
       "      <td>savonia</td>\n",
       "      <td>0.00</td>\n",
       "      <td>9</td>\n",
       "      <td>MICROTEKNIA</td>\n",
       "      <td>MICROTEKNIA</td>\n",
       "      <td>361</td>\n",
       "      <td>1460</td>\n",
       "      <td>1</td>\n",
       "      <td>4.4</td>\n",
       "      <td>3.6</td>\n",
       "    </tr>\n",
       "    <tr>\n",
       "      <th>44</th>\n",
       "      <td>season</td>\n",
       "      <td>0.00</td>\n",
       "      <td>8</td>\n",
       "      <td>PETONEN</td>\n",
       "      <td>TORI</td>\n",
       "      <td>1531</td>\n",
       "      <td>8710</td>\n",
       "      <td>1</td>\n",
       "      <td>60.5</td>\n",
       "      <td>2.7</td>\n",
       "    </tr>\n",
       "  </tbody>\n",
       "</table>\n",
       "</div>"
      ],
      "text/plain": [
       "     ticket  cost  month  location_from    location_to  duration  distance  \\\n",
       "0    season  0.00      7       TEATTERI       TEATTERI         3         0   \n",
       "1    single  0.35      7           TORI       TEATTERI       416       820   \n",
       "2    season  0.00      8           TORI         SATAMA       721      1230   \n",
       "3    single  0.25      5       TEATTERI           TORI       261       720   \n",
       "4    season  0.00      5       TEATTERI           TORI       382       710   \n",
       "5    season  0.00      8    MICROTEKNIA       TEATTERI       960      2670   \n",
       "6    season  0.00      6        RYPYSUO            KYS       589      3130   \n",
       "7    season  0.00      5         SATAMA           TORI      1276      4870   \n",
       "8    season  0.00      8         SATAMA         SATAMA        72         0   \n",
       "9    season  0.00      9       TEATTERI  VÄINÖLÄNNIEMI      1090      5010   \n",
       "10   season  0.00     10            KYS        RYPYSUO       654      3320   \n",
       "11   season  0.00      6        RYPYSUO        RYPYSUO       135         0   \n",
       "12   season  0.00      5           TORI    MICROTEKNIA       601      3130   \n",
       "13  savonia  0.00      9     SNELLMANIA     SNELLMANIA        64         0   \n",
       "14   single  1.10      5           TORI           TORI      1260      2590   \n",
       "15  savonia  0.00      9    MICROTEKNIA    MICROTEKNIA        61         0   \n",
       "16   single  0.15      9           TORI           TORI       160       740   \n",
       "17   single  0.40      5     SNELLMANIA       TEATTERI       453      1990   \n",
       "18  savonia  0.00     10      UIMAHALLI           TORI       300       930   \n",
       "19   season  0.00      5        RYPYSUO           TORI      1194      5140   \n",
       "20  savonia  0.00     10            KYS           TORI       566      1870   \n",
       "21   single  2.70      6         SATAMA  VÄINÖLÄNNIEMI      3222      3070   \n",
       "22   season  0.00      9      UIMAHALLI      UIMAHALLI       546         0   \n",
       "23  savonia  0.00     10     SNELLMANIA     SNELLMANIA        90         0   \n",
       "24   season  0.00      6           TORI           TORI        60        60   \n",
       "25   single  0.15      4       TEATTERI           TORI       173       700   \n",
       "26  savonia  0.00      9           TORI    MICROTEKNIA       739      3290   \n",
       "27  savonia  0.00     10         SATAMA         SATAMA        83        60   \n",
       "28   single  0.35     10           TORI           TORI       385      1480   \n",
       "29   season  0.00      7           TORI       TEATTERI       468       750   \n",
       "30   single  0.65      6           TORI    MICROTEKNIA       723      3060   \n",
       "31   season  0.00      7  VÄINÖLÄNNIEMI           TORI       442      1600   \n",
       "32   single  0.25      5           TORI         SATAMA       243       960   \n",
       "33   single  0.55     10    MICROTEKNIA           TORI       649      3030   \n",
       "34   season  0.00      7     SNELLMANIA           TORI      1287      3340   \n",
       "35   single  0.20      5           TORI         SATAMA       230       910   \n",
       "36   season  0.00     10           TORI           TORI      1534      4460   \n",
       "37   single  0.75      4        RYPYSUO           TORI       886      4260   \n",
       "38   single  0.05      7         SATAMA         SATAMA        13         0   \n",
       "39   season  0.00      5         SATAMA         SATAMA      1666         0   \n",
       "40   single  0.15      5      UIMAHALLI      UIMAHALLI       157         0   \n",
       "41   season  0.00     10           TORI           TORI        65        80   \n",
       "42   season  0.00      8           TORI  VÄINÖLÄNNIEMI       370      1610   \n",
       "43  savonia  0.00      9    MICROTEKNIA    MICROTEKNIA       361      1460   \n",
       "44   season  0.00      8        PETONEN           TORI      1531      8710   \n",
       "\n",
       "    assistance  energy_used  energy_collected  \n",
       "0            0          0.0               0.0  \n",
       "1            1          7.5               0.6  \n",
       "2            0          0.0               2.1  \n",
       "3            0          0.0               1.2  \n",
       "4            1          3.3               0.9  \n",
       "5            1         21.5               6.3  \n",
       "6            1         25.9              11.4  \n",
       "7            1         50.3               8.4  \n",
       "8            1          0.0               0.0  \n",
       "9            1         44.0               8.1  \n",
       "10           1         31.1               2.4  \n",
       "11           1          0.0               0.0  \n",
       "12           1         20.5               4.8  \n",
       "13           1          0.0               0.0  \n",
       "14           0          0.0               6.3  \n",
       "15           1          0.0               0.0  \n",
       "16           1          5.1               1.2  \n",
       "17           1         17.1               2.1  \n",
       "18           1          7.3               3.6  \n",
       "19           0          0.0               9.6  \n",
       "20           1         13.8               6.6  \n",
       "21           1         18.3               5.7  \n",
       "22           1          0.0               0.0  \n",
       "23           0          0.0               0.0  \n",
       "24           1          0.0               0.0  \n",
       "25           1          2.3               0.0  \n",
       "26           1         29.8              11.1  \n",
       "27           1          0.4               0.0  \n",
       "28           1          7.3               7.2  \n",
       "29           1          0.0               0.0  \n",
       "30           1         19.3              14.4  \n",
       "31           1         14.8               0.9  \n",
       "32           1          4.1               7.8  \n",
       "33           1         21.0               8.4  \n",
       "34           1         26.6               7.8  \n",
       "35           1          3.1               5.1  \n",
       "36           1         45.4              13.2  \n",
       "37           1         30.1               7.5  \n",
       "38           0          0.0               0.0  \n",
       "39           1          0.0               0.0  \n",
       "40           1          0.0               0.0  \n",
       "41           0          0.0               0.0  \n",
       "42           1          9.2               0.0  \n",
       "43           1          4.4               3.6  \n",
       "44           1         60.5               2.7  "
      ]
     },
     "execution_count": 5,
     "metadata": {},
     "output_type": "execute_result"
    }
   ],
   "source": [
    "df=pd.read_csv(\"bikes.data\")\n",
    "df.head(45)"
   ]
  },
  {
   "cell_type": "code",
   "execution_count": 7,
   "id": "b287c1cf",
   "metadata": {},
   "outputs": [
    {
     "name": "stdout",
     "output_type": "stream",
     "text": [
      "1.401298464324817e-45\n"
     ]
    },
    {
     "data": {
      "text/plain": [
       "'not normally distributed'"
      ]
     },
     "execution_count": 7,
     "metadata": {},
     "output_type": "execute_result"
    }
   ],
   "source": [
    "nd_test(df.distance)"
   ]
  },
  {
   "cell_type": "code",
   "execution_count": 16,
   "id": "d2a1db5e",
   "metadata": {},
   "outputs": [
    {
     "data": {
      "text/plain": [
       "array(['TEATTERI', 'TORI', 'MICROTEKNIA', 'RYPYSUO', 'SATAMA', 'KYS',\n",
       "       'SNELLMANIA', 'UIMAHALLI', 'VÄINÖLÄNNIEMI', 'PETONEN'],\n",
       "      dtype=object)"
      ]
     },
     "execution_count": 16,
     "metadata": {},
     "output_type": "execute_result"
    }
   ],
   "source": [
    "df.location_from.unique()"
   ]
  },
  {
   "cell_type": "code",
   "execution_count": 7,
   "id": "04efcbc1",
   "metadata": {},
   "outputs": [
    {
     "name": "stdout",
     "output_type": "stream",
     "text": [
      "TORI             673\n",
      "SATAMA           321\n",
      "MICROTEKNIA      202\n",
      "TEATTERI         171\n",
      "VÄINÖLÄNNIEMI    171\n",
      "KYS              142\n",
      "SNELLMANIA       110\n",
      "RYPYSUO           96\n",
      "UIMAHALLI         60\n",
      "PETONEN           54\n",
      "Name: location_from, dtype: int64\n"
     ]
    },
    {
     "data": {
      "image/png": "[encoded data removed]",
      "text/plain": [
       "<Figure size 432x288 with 1 Axes>"
      ]
     },
     "metadata": {
      "needs_background": "light"
     },
     "output_type": "display_data"
    }
   ],
   "source": [
    "df.location_from.value_counts().plot(kind='bar')\n",
    "print(df.location_from.value_counts())"
   ]
  },
  {
   "cell_type": "code",
   "execution_count": 19,
   "id": "1245c061",
   "metadata": {},
   "outputs": [
    {
     "name": "stderr",
     "output_type": "stream",
     "text": [
      "C:\\ProgramData\\Anaconda3\\lib\\site-packages\\seaborn\\_decorators.py:36: FutureWarning: Pass the following variable as a keyword arg: x. From version 0.12, the only valid positional argument will be `data`, and passing other arguments without an explicit keyword will result in an error or misinterpretation.\n",
      "  warnings.warn(\n"
     ]
    },
    {
     "data": {
      "text/plain": [
       "TORI             673\n",
       "SATAMA           321\n",
       "MICROTEKNIA      202\n",
       "TEATTERI         171\n",
       "VÄINÖLÄNNIEMI    171\n",
       "KYS              142\n",
       "SNELLMANIA       110\n",
       "RYPYSUO           96\n",
       "UIMAHALLI         60\n",
       "PETONEN           54\n",
       "Name: location_from, dtype: int64"
      ]
     },
     "execution_count": 19,
     "metadata": {},
     "output_type": "execute_result"
    },
    {
     "data": {
      "image/png": "[encoded data removed]",
      "text/plain": [
       "<Figure size 432x288 with 1 Axes>"
      ]
     },
     "metadata": {
      "needs_background": "light"
     },
     "output_type": "display_data"
    }
   ],
   "source": [
    "sns.countplot(df['location_from'])\n",
    "df.location_from.value_counts()"
   ]
  },
  {
   "cell_type": "code",
   "execution_count": 21,
   "id": "b903935e",
   "metadata": {},
   "outputs": [
    {
     "name": "stderr",
     "output_type": "stream",
     "text": [
      "C:\\ProgramData\\Anaconda3\\lib\\site-packages\\seaborn\\_decorators.py:36: FutureWarning: Pass the following variable as a keyword arg: x. From version 0.12, the only valid positional argument will be `data`, and passing other arguments without an explicit keyword will result in an error or misinterpretation.\n",
      "  warnings.warn(\n"
     ]
    },
    {
     "data": {
      "text/plain": [
       "TORI             756\n",
       "SATAMA           323\n",
       "MICROTEKNIA      191\n",
       "TEATTERI         165\n",
       "VÄINÖLÄNNIEMI    158\n",
       "SNELLMANIA       112\n",
       "KYS              105\n",
       "RYPYSUO           85\n",
       "PETONEN           57\n",
       "UIMAHALLI         48\n",
       "Name: location_to, dtype: int64"
      ]
     },
     "execution_count": 21,
     "metadata": {},
     "output_type": "execute_result"
    },
    {
     "data": {
      "image/png": "[encoded data removed]",
      "text/plain": [
       "<Figure size 432x288 with 1 Axes>"
      ]
     },
     "metadata": {
      "needs_background": "light"
     },
     "output_type": "display_data"
    }
   ],
   "source": [
    "sns.countplot(df['location_to'])\n",
    "df.location_to.value_counts()"
   ]
  },
  {
   "cell_type": "code",
   "execution_count": 8,
   "id": "0ad77997",
   "metadata": {},
   "outputs": [
    {
     "data": {
      "text/plain": [
       "(2000, 10)"
      ]
     },
     "execution_count": 8,
     "metadata": {},
     "output_type": "execute_result"
    }
   ],
   "source": [
    "df.shape"
   ]
  },
  {
   "cell_type": "code",
   "execution_count": 5,
   "id": "7ab6322a",
   "metadata": {},
   "outputs": [
    {
     "data": {
      "text/html": [
       "<div>\n",
       "<style scoped>\n",
       "    .dataframe tbody tr th:only-of-type {\n",
       "        vertical-align: middle;\n",
       "    }\n",
       "\n",
       "    .dataframe tbody tr th {\n",
       "        vertical-align: top;\n",
       "    }\n",
       "\n",
       "    .dataframe thead th {\n",
       "        text-align: right;\n",
       "    }\n",
       "</style>\n",
       "<table border=\"1\" class=\"dataframe\">\n",
       "  <thead>\n",
       "    <tr style=\"text-align: right;\">\n",
       "      <th></th>\n",
       "      <th>cost</th>\n",
       "      <th>month</th>\n",
       "      <th>duration</th>\n",
       "      <th>distance</th>\n",
       "      <th>assistance</th>\n",
       "      <th>energy_used</th>\n",
       "      <th>energy_collected</th>\n",
       "    </tr>\n",
       "  </thead>\n",
       "  <tbody>\n",
       "    <tr>\n",
       "      <th>count</th>\n",
       "      <td>2000.00000</td>\n",
       "      <td>2000.000000</td>\n",
       "      <td>2000.000000</td>\n",
       "      <td>2000.00000</td>\n",
       "      <td>2000.000000</td>\n",
       "      <td>2000.000000</td>\n",
       "      <td>2000.000000</td>\n",
       "    </tr>\n",
       "    <tr>\n",
       "      <th>mean</th>\n",
       "      <td>0.22345</td>\n",
       "      <td>6.978000</td>\n",
       "      <td>539.975500</td>\n",
       "      <td>1721.93000</td>\n",
       "      <td>0.816500</td>\n",
       "      <td>11.761300</td>\n",
       "      <td>4.389300</td>\n",
       "    </tr>\n",
       "    <tr>\n",
       "      <th>std</th>\n",
       "      <td>0.47570</td>\n",
       "      <td>1.646776</td>\n",
       "      <td>593.810888</td>\n",
       "      <td>2017.79918</td>\n",
       "      <td>0.387173</td>\n",
       "      <td>15.573439</td>\n",
       "      <td>5.990604</td>\n",
       "    </tr>\n",
       "    <tr>\n",
       "      <th>min</th>\n",
       "      <td>0.00000</td>\n",
       "      <td>4.000000</td>\n",
       "      <td>1.000000</td>\n",
       "      <td>-3320.00000</td>\n",
       "      <td>0.000000</td>\n",
       "      <td>0.000000</td>\n",
       "      <td>0.000000</td>\n",
       "    </tr>\n",
       "    <tr>\n",
       "      <th>25%</th>\n",
       "      <td>0.00000</td>\n",
       "      <td>6.000000</td>\n",
       "      <td>144.750000</td>\n",
       "      <td>40.00000</td>\n",
       "      <td>1.000000</td>\n",
       "      <td>0.000000</td>\n",
       "      <td>0.000000</td>\n",
       "    </tr>\n",
       "    <tr>\n",
       "      <th>50%</th>\n",
       "      <td>0.00000</td>\n",
       "      <td>7.000000</td>\n",
       "      <td>400.000000</td>\n",
       "      <td>1130.00000</td>\n",
       "      <td>1.000000</td>\n",
       "      <td>7.100000</td>\n",
       "      <td>2.400000</td>\n",
       "    </tr>\n",
       "    <tr>\n",
       "      <th>75%</th>\n",
       "      <td>0.30000</td>\n",
       "      <td>8.000000</td>\n",
       "      <td>736.750000</td>\n",
       "      <td>2572.50000</td>\n",
       "      <td>1.000000</td>\n",
       "      <td>18.500000</td>\n",
       "      <td>6.900000</td>\n",
       "    </tr>\n",
       "    <tr>\n",
       "      <th>max</th>\n",
       "      <td>6.95000</td>\n",
       "      <td>10.000000</td>\n",
       "      <td>8292.000000</td>\n",
       "      <td>19740.00000</td>\n",
       "      <td>1.000000</td>\n",
       "      <td>184.300000</td>\n",
       "      <td>91.500000</td>\n",
       "    </tr>\n",
       "  </tbody>\n",
       "</table>\n",
       "</div>"
      ],
      "text/plain": [
       "             cost        month     duration     distance   assistance  \\\n",
       "count  2000.00000  2000.000000  2000.000000   2000.00000  2000.000000   \n",
       "mean      0.22345     6.978000   539.975500   1721.93000     0.816500   \n",
       "std       0.47570     1.646776   593.810888   2017.79918     0.387173   \n",
       "min       0.00000     4.000000     1.000000  -3320.00000     0.000000   \n",
       "25%       0.00000     6.000000   144.750000     40.00000     1.000000   \n",
       "50%       0.00000     7.000000   400.000000   1130.00000     1.000000   \n",
       "75%       0.30000     8.000000   736.750000   2572.50000     1.000000   \n",
       "max       6.95000    10.000000  8292.000000  19740.00000     1.000000   \n",
       "\n",
       "       energy_used  energy_collected  \n",
       "count  2000.000000       2000.000000  \n",
       "mean     11.761300          4.389300  \n",
       "std      15.573439          5.990604  \n",
       "min       0.000000          0.000000  \n",
       "25%       0.000000          0.000000  \n",
       "50%       7.100000          2.400000  \n",
       "75%      18.500000          6.900000  \n",
       "max     184.300000         91.500000  "
      ]
     },
     "execution_count": 5,
     "metadata": {},
     "output_type": "execute_result"
    }
   ],
   "source": [
    "df.describe()"
   ]
  },
  {
   "cell_type": "code",
   "execution_count": 6,
   "id": "209eb341",
   "metadata": {},
   "outputs": [
    {
     "data": {
      "text/plain": [
       "array(['season', 'single', 'savonia'], dtype=object)"
      ]
     },
     "execution_count": 6,
     "metadata": {},
     "output_type": "execute_result"
    }
   ],
   "source": [
    "df.ticket.unique()"
   ]
  },
  {
   "cell_type": "code",
   "execution_count": 7,
   "id": "b984fbd6",
   "metadata": {},
   "outputs": [
    {
     "name": "stdout",
     "output_type": "stream",
     "text": [
      "<class 'pandas.core.frame.DataFrame'>\n",
      "RangeIndex: 2000 entries, 0 to 1999\n",
      "Data columns (total 10 columns):\n",
      " #   Column            Non-Null Count  Dtype  \n",
      "---  ------            --------------  -----  \n",
      " 0   ticket            2000 non-null   object \n",
      " 1   cost              2000 non-null   float64\n",
      " 2   month             2000 non-null   int64  \n",
      " 3   location_from     2000 non-null   object \n",
      " 4   location_to       2000 non-null   object \n",
      " 5   duration          2000 non-null   int64  \n",
      " 6   distance          2000 non-null   int64  \n",
      " 7   assistance        2000 non-null   int64  \n",
      " 8   energy_used       2000 non-null   float64\n",
      " 9   energy_collected  2000 non-null   float64\n",
      "dtypes: float64(3), int64(4), object(3)\n",
      "memory usage: 156.4+ KB\n"
     ]
    }
   ],
   "source": [
    "df.info()"
   ]
  },
  {
   "cell_type": "code",
   "execution_count": 26,
   "id": "1c4570e8",
   "metadata": {},
   "outputs": [],
   "source": [
    "import matplotlib.pyplot as plt"
   ]
  },
  {
   "cell_type": "code",
   "execution_count": null,
   "id": "3c87d2fb",
   "metadata": {},
   "outputs": [],
   "source": [
    "sns.FacetGrid(df,hue='ticket',height=6).map(sns.distplot,'energy_used').add_legend()"
   ]
  },
  {
   "cell_type": "code",
   "execution_count": 30,
   "id": "a99c9a6a",
   "metadata": {},
   "outputs": [
    {
     "data": {
      "text/plain": [
       "(array([ 43., 380., 488., 406., 230., 256., 197.]),\n",
       " array([ 4.        ,  4.85714286,  5.71428571,  6.57142857,  7.42857143,\n",
       "         8.28571429,  9.14285714, 10.        ]),\n",
       " <BarContainer object of 7 artists>)"
      ]
     },
     "execution_count": 30,
     "metadata": {},
     "output_type": "execute_result"
    },
    {
     "data": {
      "image/png": "[encoded data removed]",
      "text/plain": [
       "<Figure size 432x288 with 1 Axes>"
      ]
     },
     "metadata": {
      "needs_background": "light"
     },
     "output_type": "display_data"
    }
   ],
   "source": [
    "plt.hist(df['month'],bins=7)"
   ]
  },
  {
   "cell_type": "code",
   "execution_count": 32,
   "id": "8ef4570c",
   "metadata": {},
   "outputs": [
    {
     "data": {
      "text/plain": [
       "(array([1.816e+03, 1.360e+02, 2.300e+01, 1.400e+01, 4.000e+00, 4.000e+00,\n",
       "        1.000e+00, 1.000e+00, 0.000e+00, 1.000e+00]),\n",
       " array([0.   , 0.695, 1.39 , 2.085, 2.78 , 3.475, 4.17 , 4.865, 5.56 ,\n",
       "        6.255, 6.95 ]),\n",
       " <BarContainer object of 10 artists>)"
      ]
     },
     "execution_count": 32,
     "metadata": {},
     "output_type": "execute_result"
    },
    {
     "data": {
      "image/png": "[encoded data removed]",
      "text/plain": [
       "<Figure size 432x288 with 1 Axes>"
      ]
     },
     "metadata": {
      "needs_background": "light"
     },
     "output_type": "display_data"
    }
   ],
   "source": [
    "plt.hist(df['cost'])"
   ]
  },
  {
   "cell_type": "code",
   "execution_count": 36,
   "id": "30a93709",
   "metadata": {},
   "outputs": [
    {
     "data": {
      "text/plain": [
       "(array([1.588e+03, 3.420e+02, 4.200e+01, 1.700e+01, 4.000e+00, 4.000e+00,\n",
       "        1.000e+00, 1.000e+00, 0.000e+00, 1.000e+00]),\n",
       " array([1.66666667e-02, 1.38350000e+01, 2.76533333e+01, 4.14716667e+01,\n",
       "        5.52900000e+01, 6.91083333e+01, 8.29266667e+01, 9.67450000e+01,\n",
       "        1.10563333e+02, 1.24381667e+02, 1.38200000e+02]),\n",
       " <BarContainer object of 10 artists>)"
      ]
     },
     "execution_count": 36,
     "metadata": {},
     "output_type": "execute_result"
    },
    {
     "data": {
      "image/png": "[encoded data removed]",
      "text/plain": [
       "<Figure size 432x288 with 1 Axes>"
      ]
     },
     "metadata": {
      "needs_background": "light"
     },
     "output_type": "display_data"
    }
   ],
   "source": [
    "plt.hist(df['duration'])"
   ]
  },
  {
   "cell_type": "code",
   "execution_count": 6,
   "id": "269a0e3f",
   "metadata": {},
   "outputs": [],
   "source": [
    "df=df.apply(lambda x : x/60 if x.name in ['duration'] else x,axis=0)"
   ]
  },
  {
   "cell_type": "code",
   "execution_count": 7,
   "id": "823cfb7b",
   "metadata": {},
   "outputs": [],
   "source": [
    "df=df.apply(lambda x : x/1000 if x.name in ['distance'] else x,axis=0)"
   ]
  },
  {
   "cell_type": "code",
   "execution_count": 14,
   "id": "e505cc6d",
   "metadata": {},
   "outputs": [
    {
     "data": {
      "text/html": [
       "<div>\n",
       "<style scoped>\n",
       "    .dataframe tbody tr th:only-of-type {\n",
       "        vertical-align: middle;\n",
       "    }\n",
       "\n",
       "    .dataframe tbody tr th {\n",
       "        vertical-align: top;\n",
       "    }\n",
       "\n",
       "    .dataframe thead th {\n",
       "        text-align: right;\n",
       "    }\n",
       "</style>\n",
       "<table border=\"1\" class=\"dataframe\">\n",
       "  <thead>\n",
       "    <tr style=\"text-align: right;\">\n",
       "      <th></th>\n",
       "      <th>ticket</th>\n",
       "      <th>cost</th>\n",
       "      <th>month</th>\n",
       "      <th>location_from</th>\n",
       "      <th>location_to</th>\n",
       "      <th>duration</th>\n",
       "      <th>distance</th>\n",
       "      <th>assistance</th>\n",
       "      <th>energy_used</th>\n",
       "      <th>energy_collected</th>\n",
       "    </tr>\n",
       "  </thead>\n",
       "  <tbody>\n",
       "    <tr>\n",
       "      <th>0</th>\n",
       "      <td>season</td>\n",
       "      <td>0.00</td>\n",
       "      <td>7</td>\n",
       "      <td>TEATTERI</td>\n",
       "      <td>TEATTERI</td>\n",
       "      <td>0.050000</td>\n",
       "      <td>0.00</td>\n",
       "      <td>0</td>\n",
       "      <td>0.0</td>\n",
       "      <td>0.0</td>\n",
       "    </tr>\n",
       "    <tr>\n",
       "      <th>1</th>\n",
       "      <td>single</td>\n",
       "      <td>0.35</td>\n",
       "      <td>7</td>\n",
       "      <td>TORI</td>\n",
       "      <td>TEATTERI</td>\n",
       "      <td>6.933333</td>\n",
       "      <td>0.82</td>\n",
       "      <td>1</td>\n",
       "      <td>7.5</td>\n",
       "      <td>0.6</td>\n",
       "    </tr>\n",
       "    <tr>\n",
       "      <th>2</th>\n",
       "      <td>season</td>\n",
       "      <td>0.00</td>\n",
       "      <td>8</td>\n",
       "      <td>TORI</td>\n",
       "      <td>SATAMA</td>\n",
       "      <td>12.016667</td>\n",
       "      <td>1.23</td>\n",
       "      <td>0</td>\n",
       "      <td>0.0</td>\n",
       "      <td>2.1</td>\n",
       "    </tr>\n",
       "    <tr>\n",
       "      <th>3</th>\n",
       "      <td>single</td>\n",
       "      <td>0.25</td>\n",
       "      <td>5</td>\n",
       "      <td>TEATTERI</td>\n",
       "      <td>TORI</td>\n",
       "      <td>4.350000</td>\n",
       "      <td>0.72</td>\n",
       "      <td>0</td>\n",
       "      <td>0.0</td>\n",
       "      <td>1.2</td>\n",
       "    </tr>\n",
       "    <tr>\n",
       "      <th>4</th>\n",
       "      <td>season</td>\n",
       "      <td>0.00</td>\n",
       "      <td>5</td>\n",
       "      <td>TEATTERI</td>\n",
       "      <td>TORI</td>\n",
       "      <td>6.366667</td>\n",
       "      <td>0.71</td>\n",
       "      <td>1</td>\n",
       "      <td>3.3</td>\n",
       "      <td>0.9</td>\n",
       "    </tr>\n",
       "    <tr>\n",
       "      <th>5</th>\n",
       "      <td>season</td>\n",
       "      <td>0.00</td>\n",
       "      <td>8</td>\n",
       "      <td>MICROTEKNIA</td>\n",
       "      <td>TEATTERI</td>\n",
       "      <td>16.000000</td>\n",
       "      <td>2.67</td>\n",
       "      <td>1</td>\n",
       "      <td>21.5</td>\n",
       "      <td>6.3</td>\n",
       "    </tr>\n",
       "    <tr>\n",
       "      <th>6</th>\n",
       "      <td>season</td>\n",
       "      <td>0.00</td>\n",
       "      <td>6</td>\n",
       "      <td>RYPYSUO</td>\n",
       "      <td>KYS</td>\n",
       "      <td>9.816667</td>\n",
       "      <td>3.13</td>\n",
       "      <td>1</td>\n",
       "      <td>25.9</td>\n",
       "      <td>11.4</td>\n",
       "    </tr>\n",
       "    <tr>\n",
       "      <th>7</th>\n",
       "      <td>season</td>\n",
       "      <td>0.00</td>\n",
       "      <td>5</td>\n",
       "      <td>SATAMA</td>\n",
       "      <td>TORI</td>\n",
       "      <td>21.266667</td>\n",
       "      <td>4.87</td>\n",
       "      <td>1</td>\n",
       "      <td>50.3</td>\n",
       "      <td>8.4</td>\n",
       "    </tr>\n",
       "    <tr>\n",
       "      <th>8</th>\n",
       "      <td>season</td>\n",
       "      <td>0.00</td>\n",
       "      <td>8</td>\n",
       "      <td>SATAMA</td>\n",
       "      <td>SATAMA</td>\n",
       "      <td>1.200000</td>\n",
       "      <td>0.00</td>\n",
       "      <td>1</td>\n",
       "      <td>0.0</td>\n",
       "      <td>0.0</td>\n",
       "    </tr>\n",
       "  </tbody>\n",
       "</table>\n",
       "</div>"
      ],
      "text/plain": [
       "   ticket  cost  month location_from location_to   duration  distance  \\\n",
       "0  season  0.00      7      TEATTERI    TEATTERI   0.050000      0.00   \n",
       "1  single  0.35      7          TORI    TEATTERI   6.933333      0.82   \n",
       "2  season  0.00      8          TORI      SATAMA  12.016667      1.23   \n",
       "3  single  0.25      5      TEATTERI        TORI   4.350000      0.72   \n",
       "4  season  0.00      5      TEATTERI        TORI   6.366667      0.71   \n",
       "5  season  0.00      8   MICROTEKNIA    TEATTERI  16.000000      2.67   \n",
       "6  season  0.00      6       RYPYSUO         KYS   9.816667      3.13   \n",
       "7  season  0.00      5        SATAMA        TORI  21.266667      4.87   \n",
       "8  season  0.00      8        SATAMA      SATAMA   1.200000      0.00   \n",
       "\n",
       "   assistance  energy_used  energy_collected  \n",
       "0           0          0.0               0.0  \n",
       "1           1          7.5               0.6  \n",
       "2           0          0.0               2.1  \n",
       "3           0          0.0               1.2  \n",
       "4           1          3.3               0.9  \n",
       "5           1         21.5               6.3  \n",
       "6           1         25.9              11.4  \n",
       "7           1         50.3               8.4  \n",
       "8           1          0.0               0.0  "
      ]
     },
     "execution_count": 14,
     "metadata": {},
     "output_type": "execute_result"
    }
   ],
   "source": [
    "df.head(9)"
   ]
  },
  {
   "cell_type": "code",
   "execution_count": 21,
   "id": "243a26ab",
   "metadata": {},
   "outputs": [
    {
     "name": "stderr",
     "output_type": "stream",
     "text": [
      "C:\\Users\\aman\\AppData\\Local\\Temp/ipykernel_12680/2564866623.py:1: UserWarning: Boolean Series key will be reindexed to match DataFrame index.\n",
      "  df[df['distance_in_km']==0][df['ticket']=='season']\n"
     ]
    },
    {
     "data": {
      "text/html": [
       "<div>\n",
       "<style scoped>\n",
       "    .dataframe tbody tr th:only-of-type {\n",
       "        vertical-align: middle;\n",
       "    }\n",
       "\n",
       "    .dataframe tbody tr th {\n",
       "        vertical-align: top;\n",
       "    }\n",
       "\n",
       "    .dataframe thead th {\n",
       "        text-align: right;\n",
       "    }\n",
       "</style>\n",
       "<table border=\"1\" class=\"dataframe\">\n",
       "  <thead>\n",
       "    <tr style=\"text-align: right;\">\n",
       "      <th></th>\n",
       "      <th>ticket</th>\n",
       "      <th>cost</th>\n",
       "      <th>month</th>\n",
       "      <th>location_from</th>\n",
       "      <th>location_to</th>\n",
       "      <th>duration_ in_min</th>\n",
       "      <th>distance_in_km</th>\n",
       "      <th>assistance</th>\n",
       "      <th>energy_used</th>\n",
       "      <th>energy_collected</th>\n",
       "    </tr>\n",
       "  </thead>\n",
       "  <tbody>\n",
       "    <tr>\n",
       "      <th>0</th>\n",
       "      <td>season</td>\n",
       "      <td>0.0</td>\n",
       "      <td>7</td>\n",
       "      <td>TEATTERI</td>\n",
       "      <td>TEATTERI</td>\n",
       "      <td>0.050000</td>\n",
       "      <td>0.0</td>\n",
       "      <td>0</td>\n",
       "      <td>0.0</td>\n",
       "      <td>0.0</td>\n",
       "    </tr>\n",
       "    <tr>\n",
       "      <th>8</th>\n",
       "      <td>season</td>\n",
       "      <td>0.0</td>\n",
       "      <td>8</td>\n",
       "      <td>SATAMA</td>\n",
       "      <td>SATAMA</td>\n",
       "      <td>1.200000</td>\n",
       "      <td>0.0</td>\n",
       "      <td>1</td>\n",
       "      <td>0.0</td>\n",
       "      <td>0.0</td>\n",
       "    </tr>\n",
       "    <tr>\n",
       "      <th>11</th>\n",
       "      <td>season</td>\n",
       "      <td>0.0</td>\n",
       "      <td>6</td>\n",
       "      <td>RYPYSUO</td>\n",
       "      <td>RYPYSUO</td>\n",
       "      <td>2.250000</td>\n",
       "      <td>0.0</td>\n",
       "      <td>1</td>\n",
       "      <td>0.0</td>\n",
       "      <td>0.0</td>\n",
       "    </tr>\n",
       "    <tr>\n",
       "      <th>22</th>\n",
       "      <td>season</td>\n",
       "      <td>0.0</td>\n",
       "      <td>9</td>\n",
       "      <td>UIMAHALLI</td>\n",
       "      <td>UIMAHALLI</td>\n",
       "      <td>9.100000</td>\n",
       "      <td>0.0</td>\n",
       "      <td>1</td>\n",
       "      <td>0.0</td>\n",
       "      <td>0.0</td>\n",
       "    </tr>\n",
       "    <tr>\n",
       "      <th>39</th>\n",
       "      <td>season</td>\n",
       "      <td>0.0</td>\n",
       "      <td>5</td>\n",
       "      <td>SATAMA</td>\n",
       "      <td>SATAMA</td>\n",
       "      <td>27.766667</td>\n",
       "      <td>0.0</td>\n",
       "      <td>1</td>\n",
       "      <td>0.0</td>\n",
       "      <td>0.0</td>\n",
       "    </tr>\n",
       "    <tr>\n",
       "      <th>...</th>\n",
       "      <td>...</td>\n",
       "      <td>...</td>\n",
       "      <td>...</td>\n",
       "      <td>...</td>\n",
       "      <td>...</td>\n",
       "      <td>...</td>\n",
       "      <td>...</td>\n",
       "      <td>...</td>\n",
       "      <td>...</td>\n",
       "      <td>...</td>\n",
       "    </tr>\n",
       "    <tr>\n",
       "      <th>1923</th>\n",
       "      <td>season</td>\n",
       "      <td>0.0</td>\n",
       "      <td>8</td>\n",
       "      <td>TORI</td>\n",
       "      <td>TORI</td>\n",
       "      <td>0.500000</td>\n",
       "      <td>0.0</td>\n",
       "      <td>1</td>\n",
       "      <td>0.0</td>\n",
       "      <td>0.0</td>\n",
       "    </tr>\n",
       "    <tr>\n",
       "      <th>1938</th>\n",
       "      <td>season</td>\n",
       "      <td>0.0</td>\n",
       "      <td>5</td>\n",
       "      <td>SATAMA</td>\n",
       "      <td>SATAMA</td>\n",
       "      <td>0.083333</td>\n",
       "      <td>0.0</td>\n",
       "      <td>1</td>\n",
       "      <td>0.0</td>\n",
       "      <td>0.0</td>\n",
       "    </tr>\n",
       "    <tr>\n",
       "      <th>1955</th>\n",
       "      <td>season</td>\n",
       "      <td>0.0</td>\n",
       "      <td>8</td>\n",
       "      <td>VÄINÖLÄNNIEMI</td>\n",
       "      <td>VÄINÖLÄNNIEMI</td>\n",
       "      <td>0.283333</td>\n",
       "      <td>0.0</td>\n",
       "      <td>0</td>\n",
       "      <td>0.0</td>\n",
       "      <td>0.0</td>\n",
       "    </tr>\n",
       "    <tr>\n",
       "      <th>1958</th>\n",
       "      <td>season</td>\n",
       "      <td>0.0</td>\n",
       "      <td>5</td>\n",
       "      <td>PETONEN</td>\n",
       "      <td>PETONEN</td>\n",
       "      <td>1.216667</td>\n",
       "      <td>0.0</td>\n",
       "      <td>1</td>\n",
       "      <td>0.0</td>\n",
       "      <td>0.0</td>\n",
       "    </tr>\n",
       "    <tr>\n",
       "      <th>1990</th>\n",
       "      <td>season</td>\n",
       "      <td>0.0</td>\n",
       "      <td>5</td>\n",
       "      <td>TORI</td>\n",
       "      <td>TORI</td>\n",
       "      <td>0.583333</td>\n",
       "      <td>0.0</td>\n",
       "      <td>1</td>\n",
       "      <td>0.0</td>\n",
       "      <td>0.0</td>\n",
       "    </tr>\n",
       "  </tbody>\n",
       "</table>\n",
       "<p>208 rows × 10 columns</p>\n",
       "</div>"
      ],
      "text/plain": [
       "      ticket  cost  month  location_from    location_to  duration_ in_min  \\\n",
       "0     season   0.0      7       TEATTERI       TEATTERI          0.050000   \n",
       "8     season   0.0      8         SATAMA         SATAMA          1.200000   \n",
       "11    season   0.0      6        RYPYSUO        RYPYSUO          2.250000   \n",
       "22    season   0.0      9      UIMAHALLI      UIMAHALLI          9.100000   \n",
       "39    season   0.0      5         SATAMA         SATAMA         27.766667   \n",
       "...      ...   ...    ...            ...            ...               ...   \n",
       "1923  season   0.0      8           TORI           TORI          0.500000   \n",
       "1938  season   0.0      5         SATAMA         SATAMA          0.083333   \n",
       "1955  season   0.0      8  VÄINÖLÄNNIEMI  VÄINÖLÄNNIEMI          0.283333   \n",
       "1958  season   0.0      5        PETONEN        PETONEN          1.216667   \n",
       "1990  season   0.0      5           TORI           TORI          0.583333   \n",
       "\n",
       "      distance_in_km  assistance  energy_used  energy_collected  \n",
       "0                0.0           0          0.0               0.0  \n",
       "8                0.0           1          0.0               0.0  \n",
       "11               0.0           1          0.0               0.0  \n",
       "22               0.0           1          0.0               0.0  \n",
       "39               0.0           1          0.0               0.0  \n",
       "...              ...         ...          ...               ...  \n",
       "1923             0.0           1          0.0               0.0  \n",
       "1938             0.0           1          0.0               0.0  \n",
       "1955             0.0           0          0.0               0.0  \n",
       "1958             0.0           1          0.0               0.0  \n",
       "1990             0.0           1          0.0               0.0  \n",
       "\n",
       "[208 rows x 10 columns]"
      ]
     },
     "execution_count": 21,
     "metadata": {},
     "output_type": "execute_result"
    }
   ],
   "source": [
    "df[df['distance_in_km']==0][df['ticket']=='season']"
   ]
  },
  {
   "cell_type": "code",
   "execution_count": 19,
   "id": "3e7be9fb",
   "metadata": {},
   "outputs": [
    {
     "name": "stderr",
     "output_type": "stream",
     "text": [
      "C:\\Users\\aman\\AppData\\Local\\Temp/ipykernel_12680/1647553715.py:1: UserWarning: Boolean Series key will be reindexed to match DataFrame index.\n",
      "  df[df['distance_in_km']==0][df['ticket']=='savonia'].shape\n"
     ]
    },
    {
     "data": {
      "text/plain": [
       "(24, 10)"
      ]
     },
     "execution_count": 19,
     "metadata": {},
     "output_type": "execute_result"
    }
   ],
   "source": [
    "df[df['distance_in_km']==0][df['ticket']=='savonia'].shape"
   ]
  },
  {
   "cell_type": "code",
   "execution_count": 145,
   "id": "4b0428a3",
   "metadata": {},
   "outputs": [],
   "source": [
    "df['avg_spd']=df['distance_in_km']/df['duration_ in_min']"
   ]
  },
  {
   "cell_type": "code",
   "execution_count": 150,
   "id": "de53ca82",
   "metadata": {},
   "outputs": [
    {
     "name": "stdout",
     "output_type": "stream",
     "text": [
      "0.812989921612542\n",
      "1    726\n",
      "0    167\n",
      "Name: assistance, dtype: int64\n"
     ]
    }
   ],
   "source": [
    "r=df[df['ticket']=='season']\n",
    "z=r.assistance\n",
    "print(z.mean())\n",
    "print(z.value_counts())"
   ]
  },
  {
   "cell_type": "code",
   "execution_count": 151,
   "id": "515ea205",
   "metadata": {},
   "outputs": [
    {
     "name": "stdout",
     "output_type": "stream",
     "text": [
      "0.7851518560179978\n",
      "1    698\n",
      "0    191\n",
      "Name: assistance, dtype: int64\n"
     ]
    }
   ],
   "source": [
    "s=df[df['ticket']=='single']\n",
    "v=s.assistance\n",
    "print(v.mean())\n",
    "print(v.value_counts())"
   ]
  },
  {
   "cell_type": "code",
   "execution_count": 154,
   "id": "bfa7d43b",
   "metadata": {},
   "outputs": [
    {
     "data": {
      "text/plain": [
       "'not normally distributed'"
      ]
     },
     "execution_count": 154,
     "metadata": {},
     "output_type": "execute_result"
    }
   ],
   "source": [
    "nd_test(z)"
   ]
  },
  {
   "cell_type": "code",
   "execution_count": 156,
   "id": "29a2ceb7",
   "metadata": {},
   "outputs": [
    {
     "data": {
      "text/plain": [
       "'not normally distributed'"
      ]
     },
     "execution_count": 156,
     "metadata": {},
     "output_type": "execute_result"
    }
   ],
   "source": [
    "nd_test(v)"
   ]
  },
  {
   "cell_type": "code",
   "execution_count": 157,
   "id": "2a0cd264",
   "metadata": {},
   "outputs": [
    {
     "data": {
      "text/plain": [
       "0.14265059194681368"
      ]
     },
     "execution_count": 157,
     "metadata": {},
     "output_type": "execute_result"
    }
   ],
   "source": [
    "h=stats.mannwhitneyu(v,z,use_continuity=True,alternative='two-sided')[1]\n",
    "h"
   ]
  },
  {
   "cell_type": "code",
   "execution_count": 15,
   "id": "6f438a23",
   "metadata": {},
   "outputs": [
    {
     "data": {
      "text/html": [
       "<div>\n",
       "<style scoped>\n",
       "    .dataframe tbody tr th:only-of-type {\n",
       "        vertical-align: middle;\n",
       "    }\n",
       "\n",
       "    .dataframe tbody tr th {\n",
       "        vertical-align: top;\n",
       "    }\n",
       "\n",
       "    .dataframe thead th {\n",
       "        text-align: right;\n",
       "    }\n",
       "</style>\n",
       "<table border=\"1\" class=\"dataframe\">\n",
       "  <thead>\n",
       "    <tr style=\"text-align: right;\">\n",
       "      <th></th>\n",
       "      <th>cost</th>\n",
       "      <th>month</th>\n",
       "      <th>duration</th>\n",
       "      <th>distance</th>\n",
       "      <th>assistance</th>\n",
       "      <th>energy_used</th>\n",
       "      <th>energy_collected</th>\n",
       "    </tr>\n",
       "  </thead>\n",
       "  <tbody>\n",
       "    <tr>\n",
       "      <th>count</th>\n",
       "      <td>2000.00000</td>\n",
       "      <td>2000.000000</td>\n",
       "      <td>2000.000000</td>\n",
       "      <td>2000.000000</td>\n",
       "      <td>2000.000000</td>\n",
       "      <td>2000.000000</td>\n",
       "      <td>2000.000000</td>\n",
       "    </tr>\n",
       "    <tr>\n",
       "      <th>mean</th>\n",
       "      <td>0.22345</td>\n",
       "      <td>6.978000</td>\n",
       "      <td>539.975500</td>\n",
       "      <td>1.726960</td>\n",
       "      <td>0.816500</td>\n",
       "      <td>11.761300</td>\n",
       "      <td>4.389300</td>\n",
       "    </tr>\n",
       "    <tr>\n",
       "      <th>std</th>\n",
       "      <td>0.47570</td>\n",
       "      <td>1.646776</td>\n",
       "      <td>593.810888</td>\n",
       "      <td>2.013494</td>\n",
       "      <td>0.387173</td>\n",
       "      <td>15.573439</td>\n",
       "      <td>5.990604</td>\n",
       "    </tr>\n",
       "    <tr>\n",
       "      <th>min</th>\n",
       "      <td>0.00000</td>\n",
       "      <td>4.000000</td>\n",
       "      <td>1.000000</td>\n",
       "      <td>0.000000</td>\n",
       "      <td>0.000000</td>\n",
       "      <td>0.000000</td>\n",
       "      <td>0.000000</td>\n",
       "    </tr>\n",
       "    <tr>\n",
       "      <th>25%</th>\n",
       "      <td>0.00000</td>\n",
       "      <td>6.000000</td>\n",
       "      <td>144.750000</td>\n",
       "      <td>0.050000</td>\n",
       "      <td>1.000000</td>\n",
       "      <td>0.000000</td>\n",
       "      <td>0.000000</td>\n",
       "    </tr>\n",
       "    <tr>\n",
       "      <th>50%</th>\n",
       "      <td>0.00000</td>\n",
       "      <td>7.000000</td>\n",
       "      <td>400.000000</td>\n",
       "      <td>1.130000</td>\n",
       "      <td>1.000000</td>\n",
       "      <td>7.100000</td>\n",
       "      <td>2.400000</td>\n",
       "    </tr>\n",
       "    <tr>\n",
       "      <th>75%</th>\n",
       "      <td>0.30000</td>\n",
       "      <td>8.000000</td>\n",
       "      <td>736.750000</td>\n",
       "      <td>2.580000</td>\n",
       "      <td>1.000000</td>\n",
       "      <td>18.500000</td>\n",
       "      <td>6.900000</td>\n",
       "    </tr>\n",
       "    <tr>\n",
       "      <th>max</th>\n",
       "      <td>6.95000</td>\n",
       "      <td>10.000000</td>\n",
       "      <td>8292.000000</td>\n",
       "      <td>19.740000</td>\n",
       "      <td>1.000000</td>\n",
       "      <td>184.300000</td>\n",
       "      <td>91.500000</td>\n",
       "    </tr>\n",
       "  </tbody>\n",
       "</table>\n",
       "</div>"
      ],
      "text/plain": [
       "             cost        month     duration     distance   assistance  \\\n",
       "count  2000.00000  2000.000000  2000.000000  2000.000000  2000.000000   \n",
       "mean      0.22345     6.978000   539.975500     1.726960     0.816500   \n",
       "std       0.47570     1.646776   593.810888     2.013494     0.387173   \n",
       "min       0.00000     4.000000     1.000000     0.000000     0.000000   \n",
       "25%       0.00000     6.000000   144.750000     0.050000     1.000000   \n",
       "50%       0.00000     7.000000   400.000000     1.130000     1.000000   \n",
       "75%       0.30000     8.000000   736.750000     2.580000     1.000000   \n",
       "max       6.95000    10.000000  8292.000000    19.740000     1.000000   \n",
       "\n",
       "       energy_used  energy_collected  \n",
       "count  2000.000000       2000.000000  \n",
       "mean     11.761300          4.389300  \n",
       "std      15.573439          5.990604  \n",
       "min       0.000000          0.000000  \n",
       "25%       0.000000          0.000000  \n",
       "50%       7.100000          2.400000  \n",
       "75%      18.500000          6.900000  \n",
       "max     184.300000         91.500000  "
      ]
     },
     "execution_count": 15,
     "metadata": {},
     "output_type": "execute_result"
    }
   ],
   "source": [
    "df.describe()"
   ]
  },
  {
   "cell_type": "code",
   "execution_count": 12,
   "id": "3ea3a9ab",
   "metadata": {},
   "outputs": [
    {
     "data": {
      "text/html": [
       "<div>\n",
       "<style scoped>\n",
       "    .dataframe tbody tr th:only-of-type {\n",
       "        vertical-align: middle;\n",
       "    }\n",
       "\n",
       "    .dataframe tbody tr th {\n",
       "        vertical-align: top;\n",
       "    }\n",
       "\n",
       "    .dataframe thead th {\n",
       "        text-align: right;\n",
       "    }\n",
       "</style>\n",
       "<table border=\"1\" class=\"dataframe\">\n",
       "  <thead>\n",
       "    <tr style=\"text-align: right;\">\n",
       "      <th></th>\n",
       "      <th>cost</th>\n",
       "      <th>month</th>\n",
       "      <th>duration</th>\n",
       "      <th>distance</th>\n",
       "      <th>assistance</th>\n",
       "      <th>energy_used</th>\n",
       "      <th>energy_collected</th>\n",
       "    </tr>\n",
       "  </thead>\n",
       "  <tbody>\n",
       "    <tr>\n",
       "      <th>count</th>\n",
       "      <td>2000.00000</td>\n",
       "      <td>2000.000000</td>\n",
       "      <td>2000.000000</td>\n",
       "      <td>2000.000000</td>\n",
       "      <td>2000.000000</td>\n",
       "      <td>2000.000000</td>\n",
       "      <td>2000.000000</td>\n",
       "    </tr>\n",
       "    <tr>\n",
       "      <th>mean</th>\n",
       "      <td>0.22345</td>\n",
       "      <td>6.978000</td>\n",
       "      <td>539.975500</td>\n",
       "      <td>1726.960000</td>\n",
       "      <td>0.816500</td>\n",
       "      <td>11.761300</td>\n",
       "      <td>4.389300</td>\n",
       "    </tr>\n",
       "    <tr>\n",
       "      <th>std</th>\n",
       "      <td>0.47570</td>\n",
       "      <td>1.646776</td>\n",
       "      <td>593.810888</td>\n",
       "      <td>2013.493714</td>\n",
       "      <td>0.387173</td>\n",
       "      <td>15.573439</td>\n",
       "      <td>5.990604</td>\n",
       "    </tr>\n",
       "    <tr>\n",
       "      <th>min</th>\n",
       "      <td>0.00000</td>\n",
       "      <td>4.000000</td>\n",
       "      <td>1.000000</td>\n",
       "      <td>0.000000</td>\n",
       "      <td>0.000000</td>\n",
       "      <td>0.000000</td>\n",
       "      <td>0.000000</td>\n",
       "    </tr>\n",
       "    <tr>\n",
       "      <th>25%</th>\n",
       "      <td>0.00000</td>\n",
       "      <td>6.000000</td>\n",
       "      <td>144.750000</td>\n",
       "      <td>50.000000</td>\n",
       "      <td>1.000000</td>\n",
       "      <td>0.000000</td>\n",
       "      <td>0.000000</td>\n",
       "    </tr>\n",
       "    <tr>\n",
       "      <th>50%</th>\n",
       "      <td>0.00000</td>\n",
       "      <td>7.000000</td>\n",
       "      <td>400.000000</td>\n",
       "      <td>1130.000000</td>\n",
       "      <td>1.000000</td>\n",
       "      <td>7.100000</td>\n",
       "      <td>2.400000</td>\n",
       "    </tr>\n",
       "    <tr>\n",
       "      <th>75%</th>\n",
       "      <td>0.30000</td>\n",
       "      <td>8.000000</td>\n",
       "      <td>736.750000</td>\n",
       "      <td>2580.000000</td>\n",
       "      <td>1.000000</td>\n",
       "      <td>18.500000</td>\n",
       "      <td>6.900000</td>\n",
       "    </tr>\n",
       "    <tr>\n",
       "      <th>max</th>\n",
       "      <td>6.95000</td>\n",
       "      <td>10.000000</td>\n",
       "      <td>8292.000000</td>\n",
       "      <td>19740.000000</td>\n",
       "      <td>1.000000</td>\n",
       "      <td>184.300000</td>\n",
       "      <td>91.500000</td>\n",
       "    </tr>\n",
       "  </tbody>\n",
       "</table>\n",
       "</div>"
      ],
      "text/plain": [
       "             cost        month     duration      distance   assistance  \\\n",
       "count  2000.00000  2000.000000  2000.000000   2000.000000  2000.000000   \n",
       "mean      0.22345     6.978000   539.975500   1726.960000     0.816500   \n",
       "std       0.47570     1.646776   593.810888   2013.493714     0.387173   \n",
       "min       0.00000     4.000000     1.000000      0.000000     0.000000   \n",
       "25%       0.00000     6.000000   144.750000     50.000000     1.000000   \n",
       "50%       0.00000     7.000000   400.000000   1130.000000     1.000000   \n",
       "75%       0.30000     8.000000   736.750000   2580.000000     1.000000   \n",
       "max       6.95000    10.000000  8292.000000  19740.000000     1.000000   \n",
       "\n",
       "       energy_used  energy_collected  \n",
       "count  2000.000000       2000.000000  \n",
       "mean     11.761300          4.389300  \n",
       "std      15.573439          5.990604  \n",
       "min       0.000000          0.000000  \n",
       "25%       0.000000          0.000000  \n",
       "50%       7.100000          2.400000  \n",
       "75%      18.500000          6.900000  \n",
       "max     184.300000         91.500000  "
      ]
     },
     "execution_count": 12,
     "metadata": {},
     "output_type": "execute_result"
    }
   ],
   "source": [
    "df.describe()"
   ]
  },
  {
   "cell_type": "code",
   "execution_count": 19,
   "id": "0957f088",
   "metadata": {},
   "outputs": [
    {
     "name": "stderr",
     "output_type": "stream",
     "text": [
      "C:\\ProgramData\\Anaconda3\\lib\\site-packages\\seaborn\\distributions.py:2619: FutureWarning: `distplot` is a deprecated function and will be removed in a future version. Please adapt your code to use either `displot` (a figure-level function with similar flexibility) or `histplot` (an axes-level function for histograms).\n",
      "  warnings.warn(msg, FutureWarning)\n"
     ]
    },
    {
     "data": {
      "text/plain": [
       "<AxesSubplot:xlabel='distance', ylabel='Density'>"
      ]
     },
     "execution_count": 19,
     "metadata": {},
     "output_type": "execute_result"
    },
    {
     "data": {
      "image/png": "[encoded data removed]",
      "text/plain": [
       "<Figure size 432x288 with 1 Axes>"
      ]
     },
     "metadata": {
      "needs_background": "light"
     },
     "output_type": "display_data"
    }
   ],
   "source": [
    "sns.distplot(df.distance)"
   ]
  },
  {
   "cell_type": "code",
   "execution_count": 21,
   "id": "c22f2b40",
   "metadata": {},
   "outputs": [
    {
     "name": "stderr",
     "output_type": "stream",
     "text": [
      "C:\\ProgramData\\Anaconda3\\lib\\site-packages\\seaborn\\distributions.py:2619: FutureWarning: `distplot` is a deprecated function and will be removed in a future version. Please adapt your code to use either `displot` (a figure-level function with similar flexibility) or `histplot` (an axes-level function for histograms).\n",
      "  warnings.warn(msg, FutureWarning)\n"
     ]
    },
    {
     "data": {
      "text/plain": [
       "<AxesSubplot:xlabel='duration', ylabel='Density'>"
      ]
     },
     "execution_count": 21,
     "metadata": {},
     "output_type": "execute_result"
    },
    {
     "data": {
      "image/png": "[encoded data removed]",
      "text/plain": [
       "<Figure size 432x288 with 1 Axes>"
      ]
     },
     "metadata": {
      "needs_background": "light"
     },
     "output_type": "display_data"
    }
   ],
   "source": [
    "sns.distplot(df.duration)"
   ]
  },
  {
   "cell_type": "code",
   "execution_count": 48,
   "id": "26f02c14",
   "metadata": {},
   "outputs": [
    {
     "name": "stderr",
     "output_type": "stream",
     "text": [
      "C:\\ProgramData\\Anaconda3\\lib\\site-packages\\seaborn\\distributions.py:2619: FutureWarning: `distplot` is a deprecated function and will be removed in a future version. Please adapt your code to use either `displot` (a figure-level function with similar flexibility) or `histplot` (an axes-level function for histograms).\n",
      "  warnings.warn(msg, FutureWarning)\n"
     ]
    },
    {
     "data": {
      "text/plain": [
       "<AxesSubplot:xlabel='cost', ylabel='Density'>"
      ]
     },
     "execution_count": 48,
     "metadata": {},
     "output_type": "execute_result"
    },
    {
     "data": {
      "image/png": "[encoded data removed]",
      "text/plain": [
       "<Figure size 432x288 with 1 Axes>"
      ]
     },
     "metadata": {
      "needs_background": "light"
     },
     "output_type": "display_data"
    }
   ],
   "source": [
    "sns.distplot(df[df['ticket']=='single']['cost'])\n"
   ]
  },
  {
   "cell_type": "code",
   "execution_count": 37,
   "id": "fba89161",
   "metadata": {},
   "outputs": [
    {
     "name": "stderr",
     "output_type": "stream",
     "text": [
      "C:\\ProgramData\\Anaconda3\\lib\\site-packages\\seaborn\\_decorators.py:36: FutureWarning: Pass the following variables as keyword args: x, y. From version 0.12, the only valid positional argument will be `data`, and passing other arguments without an explicit keyword will result in an error or misinterpretation.\n",
      "  warnings.warn(\n"
     ]
    },
    {
     "data": {
      "text/plain": [
       "<AxesSubplot:xlabel='month', ylabel='cost'>"
      ]
     },
     "execution_count": 37,
     "metadata": {},
     "output_type": "execute_result"
    },
    {
     "data": {
      "image/png": "[encoded data removed]",
      "text/plain": [
       "<Figure size 432x288 with 1 Axes>"
      ]
     },
     "metadata": {
      "needs_background": "light"
     },
     "output_type": "display_data"
    }
   ],
   "source": [
    "sns.barplot(df['month'],df['cost'],hue=df['ticket'])"
   ]
  },
  {
   "cell_type": "code",
   "execution_count": 30,
   "id": "1b1d34fc",
   "metadata": {},
   "outputs": [
    {
     "data": {
      "text/plain": [
       "<AxesSubplot:xlabel='month', ylabel='cost'>"
      ]
     },
     "execution_count": 30,
     "metadata": {},
     "output_type": "execute_result"
    },
    {
     "data": {
      "image/png": "[encoded data removed]",
      "text/plain": [
       "<Figure size 432x288 with 1 Axes>"
      ]
     },
     "metadata": {
      "needs_background": "light"
     },
     "output_type": "display_data"
    }
   ],
   "source": [
    "sns.scatterplot(df['month'],df['cost'],hue=df['ticket'],style=df['month'])"
   ]
  },
  {
   "cell_type": "code",
   "execution_count": 28,
   "id": "9263840a",
   "metadata": {},
   "outputs": [
    {
     "name": "stderr",
     "output_type": "stream",
     "text": [
      "C:\\ProgramData\\Anaconda3\\lib\\site-packages\\seaborn\\_decorators.py:36: FutureWarning: Pass the following variables as keyword args: x, y. From version 0.12, the only valid positional argument will be `data`, and passing other arguments without an explicit keyword will result in an error or misinterpretation.\n",
      "  warnings.warn(\n"
     ]
    },
    {
     "data": {
      "text/plain": [
       "<AxesSubplot:xlabel='duration', ylabel='distance'>"
      ]
     },
     "execution_count": 28,
     "metadata": {},
     "output_type": "execute_result"
    },
    {
     "data": {
      "image/png": "[encoded data removed]",
      "text/plain": [
       "<Figure size 432x288 with 1 Axes>"
      ]
     },
     "metadata": {
      "needs_background": "light"
     },
     "output_type": "display_data"
    }
   ],
   "source": [
    "sns.scatterplot(df['duration'],df['distance'],hue=df['ticket'],style=df['month'])"
   ]
  },
  {
   "cell_type": "code",
   "execution_count": 69,
   "id": "d32e88ff",
   "metadata": {},
   "outputs": [],
   "source": [
    "a=df.groupby('location_from')"
   ]
  },
  {
   "cell_type": "code",
   "execution_count": 52,
   "id": "5e8656be",
   "metadata": {},
   "outputs": [
    {
     "data": {
      "text/html": [
       "<div>\n",
       "<style scoped>\n",
       "    .dataframe tbody tr th:only-of-type {\n",
       "        vertical-align: middle;\n",
       "    }\n",
       "\n",
       "    .dataframe tbody tr th {\n",
       "        vertical-align: top;\n",
       "    }\n",
       "\n",
       "    .dataframe thead th {\n",
       "        text-align: right;\n",
       "    }\n",
       "</style>\n",
       "<table border=\"1\" class=\"dataframe\">\n",
       "  <thead>\n",
       "    <tr style=\"text-align: right;\">\n",
       "      <th></th>\n",
       "      <th>cost</th>\n",
       "      <th>month</th>\n",
       "      <th>duration</th>\n",
       "      <th>distance</th>\n",
       "      <th>energy_used</th>\n",
       "      <th>energy_collected</th>\n",
       "    </tr>\n",
       "    <tr>\n",
       "      <th>assistance</th>\n",
       "      <th></th>\n",
       "      <th></th>\n",
       "      <th></th>\n",
       "      <th></th>\n",
       "      <th></th>\n",
       "      <th></th>\n",
       "    </tr>\n",
       "  </thead>\n",
       "  <tbody>\n",
       "    <tr>\n",
       "      <th>0</th>\n",
       "      <td>0.181335</td>\n",
       "      <td>6.198910</td>\n",
       "      <td>5.837466</td>\n",
       "      <td>0.873542</td>\n",
       "      <td>0.000000</td>\n",
       "      <td>1.661853</td>\n",
       "    </tr>\n",
       "    <tr>\n",
       "      <th>1</th>\n",
       "      <td>0.232915</td>\n",
       "      <td>7.153092</td>\n",
       "      <td>9.710247</td>\n",
       "      <td>1.918757</td>\n",
       "      <td>14.404532</td>\n",
       "      <td>5.002266</td>\n",
       "    </tr>\n",
       "  </tbody>\n",
       "</table>\n",
       "</div>"
      ],
      "text/plain": [
       "                cost     month  duration  distance  energy_used  \\\n",
       "assistance                                                        \n",
       "0           0.181335  6.198910  5.837466  0.873542     0.000000   \n",
       "1           0.232915  7.153092  9.710247  1.918757    14.404532   \n",
       "\n",
       "            energy_collected  \n",
       "assistance                    \n",
       "0                   1.661853  \n",
       "1                   5.002266  "
      ]
     },
     "execution_count": 52,
     "metadata": {},
     "output_type": "execute_result"
    }
   ],
   "source": [
    "df.groupby('assistance').mean()"
   ]
  },
  {
   "cell_type": "code",
   "execution_count": 90,
   "id": "1b128d34",
   "metadata": {},
   "outputs": [
    {
     "data": {
      "text/plain": [
       "0        TEATTERI\n",
       "1            TORI\n",
       "2            TORI\n",
       "3        TEATTERI\n",
       "4        TEATTERI\n",
       "5     MICROTEKNIA\n",
       "6         RYPYSUO\n",
       "13     SNELLMANIA\n",
       "14           TORI\n",
       "15    MICROTEKNIA\n",
       "16           TORI\n",
       "17     SNELLMANIA\n",
       "18      UIMAHALLI\n",
       "20            KYS\n",
       "23     SNELLMANIA\n",
       "Name: location_from, dtype: object"
      ]
     },
     "execution_count": 90,
     "metadata": {},
     "output_type": "execute_result"
    }
   ],
   "source": [
    "p=m.location_from\n",
    "p.head()"
   ]
  },
  {
   "cell_type": "code",
   "execution_count": 98,
   "id": "0510b3d8",
   "metadata": {
    "scrolled": true
   },
   "outputs": [
    {
     "data": {
      "text/plain": [
       "ticket\n",
       "savonia     408.58\n",
       "season     1419.14\n",
       "single     1621.17\n",
       "Name: distance, dtype: float64"
      ]
     },
     "execution_count": 98,
     "metadata": {},
     "output_type": "execute_result"
    }
   ],
   "source": [
    "m.distance.sum()"
   ]
  },
  {
   "cell_type": "code",
   "execution_count": 99,
   "id": "58fd86a1",
   "metadata": {},
   "outputs": [
    {
     "data": {
      "text/plain": [
       "ticket\n",
       "savonia      0.0\n",
       "season       8.0\n",
       "single     438.9\n",
       "Name: cost, dtype: float64"
      ]
     },
     "execution_count": 99,
     "metadata": {},
     "output_type": "execute_result"
    }
   ],
   "source": [
    "m.cost.sum()"
   ]
  },
  {
   "cell_type": "code",
   "execution_count": 100,
   "id": "4b23ea20",
   "metadata": {},
   "outputs": [
    {
     "data": {
      "text/plain": [
       "assistance\n",
       "0    0.873542\n",
       "1    1.915677\n",
       "Name: distance, dtype: float64"
      ]
     },
     "execution_count": 100,
     "metadata": {},
     "output_type": "execute_result"
    }
   ],
   "source": [
    "n=df.groupby('assistance')\n",
    "n.distance.mean()"
   ]
  },
  {
   "cell_type": "code",
   "execution_count": 101,
   "id": "4e98931d",
   "metadata": {},
   "outputs": [
    {
     "data": {
      "text/plain": [
       "assistance\n",
       "0     0.000000\n",
       "1    14.404532\n",
       "Name: energy_used, dtype: float64"
      ]
     },
     "execution_count": 101,
     "metadata": {},
     "output_type": "execute_result"
    }
   ],
   "source": [
    "n.energy_used.mean()"
   ]
  },
  {
   "cell_type": "code",
   "execution_count": 102,
   "id": "991b2f38",
   "metadata": {},
   "outputs": [
    {
     "data": {
      "text/plain": [
       "assistance\n",
       "0    1.661853\n",
       "1    5.002266\n",
       "Name: energy_collected, dtype: float64"
      ]
     },
     "execution_count": 102,
     "metadata": {},
     "output_type": "execute_result"
    }
   ],
   "source": [
    "n.energy_collected.mean()"
   ]
  },
  {
   "cell_type": "code",
   "execution_count": 105,
   "id": "ee97082c",
   "metadata": {},
   "outputs": [
    {
     "data": {
      "text/plain": [
       "446.9"
      ]
     },
     "execution_count": 105,
     "metadata": {},
     "output_type": "execute_result"
    }
   ],
   "source": [
    "df.cost.sum()"
   ]
  },
  {
   "cell_type": "code",
   "execution_count": 103,
   "id": "895c4579",
   "metadata": {},
   "outputs": [
    {
     "data": {
      "text/plain": [
       "3448.8900000000003"
      ]
     },
     "execution_count": 103,
     "metadata": {},
     "output_type": "execute_result"
    }
   ],
   "source": [
    "df.distance.sum()"
   ]
  },
  {
   "cell_type": "code",
   "execution_count": 104,
   "id": "816147b2",
   "metadata": {},
   "outputs": [
    {
     "data": {
      "text/plain": [
       "17999.183333333334"
      ]
     },
     "execution_count": 104,
     "metadata": {},
     "output_type": "execute_result"
    }
   ],
   "source": [
    "df.duration.sum()"
   ]
  },
  {
   "cell_type": "code",
   "execution_count": 41,
   "id": "d6b989c0",
   "metadata": {},
   "outputs": [
    {
     "data": {
      "text/plain": [
       "<seaborn.axisgrid.PairGrid at 0x198c365f070>"
      ]
     },
     "execution_count": 41,
     "metadata": {},
     "output_type": "execute_result"
    },
    {
     "data": {
      "image/png": "[encoded data removed]",
      "text/plain": [
       "<Figure size 1128.75x1080 with 42 Axes>"
      ]
     },
     "metadata": {
      "needs_background": "light"
     },
     "output_type": "display_data"
    }
   ],
   "source": [
    "sns.pairplot(df,hue='month')"
   ]
  },
  {
   "cell_type": "code",
   "execution_count": 8,
   "id": "9c60b311",
   "metadata": {},
   "outputs": [],
   "source": [
    "df.rename(columns={'duration':'duration_ in_min','distance':'distance_in_km'},inplace=True)"
   ]
  },
  {
   "cell_type": "code",
   "execution_count": 126,
   "id": "7fb2a0b5",
   "metadata": {},
   "outputs": [
    {
     "data": {
      "text/html": [
       "<div>\n",
       "<style scoped>\n",
       "    .dataframe tbody tr th:only-of-type {\n",
       "        vertical-align: middle;\n",
       "    }\n",
       "\n",
       "    .dataframe tbody tr th {\n",
       "        vertical-align: top;\n",
       "    }\n",
       "\n",
       "    .dataframe thead th {\n",
       "        text-align: right;\n",
       "    }\n",
       "</style>\n",
       "<table border=\"1\" class=\"dataframe\">\n",
       "  <thead>\n",
       "    <tr style=\"text-align: right;\">\n",
       "      <th></th>\n",
       "      <th>ticket</th>\n",
       "      <th>cost</th>\n",
       "      <th>month</th>\n",
       "      <th>location_from</th>\n",
       "      <th>location_to</th>\n",
       "      <th>duration_ in_min</th>\n",
       "      <th>distance_in_km</th>\n",
       "      <th>assistance</th>\n",
       "      <th>energy_used</th>\n",
       "      <th>energy_collected</th>\n",
       "    </tr>\n",
       "  </thead>\n",
       "  <tbody>\n",
       "    <tr>\n",
       "      <th>0</th>\n",
       "      <td>season</td>\n",
       "      <td>0.00</td>\n",
       "      <td>7</td>\n",
       "      <td>TEATTERI</td>\n",
       "      <td>TEATTERI</td>\n",
       "      <td>0.050000</td>\n",
       "      <td>0.00</td>\n",
       "      <td>0</td>\n",
       "      <td>0.0</td>\n",
       "      <td>0.0</td>\n",
       "    </tr>\n",
       "    <tr>\n",
       "      <th>1</th>\n",
       "      <td>single</td>\n",
       "      <td>0.35</td>\n",
       "      <td>7</td>\n",
       "      <td>TORI</td>\n",
       "      <td>TEATTERI</td>\n",
       "      <td>6.933333</td>\n",
       "      <td>0.82</td>\n",
       "      <td>1</td>\n",
       "      <td>7.5</td>\n",
       "      <td>0.6</td>\n",
       "    </tr>\n",
       "    <tr>\n",
       "      <th>2</th>\n",
       "      <td>season</td>\n",
       "      <td>0.00</td>\n",
       "      <td>8</td>\n",
       "      <td>TORI</td>\n",
       "      <td>SATAMA</td>\n",
       "      <td>12.016667</td>\n",
       "      <td>1.23</td>\n",
       "      <td>0</td>\n",
       "      <td>0.0</td>\n",
       "      <td>2.1</td>\n",
       "    </tr>\n",
       "    <tr>\n",
       "      <th>3</th>\n",
       "      <td>single</td>\n",
       "      <td>0.25</td>\n",
       "      <td>5</td>\n",
       "      <td>TEATTERI</td>\n",
       "      <td>TORI</td>\n",
       "      <td>4.350000</td>\n",
       "      <td>0.72</td>\n",
       "      <td>0</td>\n",
       "      <td>0.0</td>\n",
       "      <td>1.2</td>\n",
       "    </tr>\n",
       "    <tr>\n",
       "      <th>4</th>\n",
       "      <td>season</td>\n",
       "      <td>0.00</td>\n",
       "      <td>5</td>\n",
       "      <td>TEATTERI</td>\n",
       "      <td>TORI</td>\n",
       "      <td>6.366667</td>\n",
       "      <td>0.71</td>\n",
       "      <td>1</td>\n",
       "      <td>3.3</td>\n",
       "      <td>0.9</td>\n",
       "    </tr>\n",
       "  </tbody>\n",
       "</table>\n",
       "</div>"
      ],
      "text/plain": [
       "   ticket  cost  month location_from location_to  duration_ in_min  \\\n",
       "0  season  0.00      7      TEATTERI    TEATTERI          0.050000   \n",
       "1  single  0.35      7          TORI    TEATTERI          6.933333   \n",
       "2  season  0.00      8          TORI      SATAMA         12.016667   \n",
       "3  single  0.25      5      TEATTERI        TORI          4.350000   \n",
       "4  season  0.00      5      TEATTERI        TORI          6.366667   \n",
       "\n",
       "   distance_in_km  assistance  energy_used  energy_collected  \n",
       "0            0.00           0          0.0               0.0  \n",
       "1            0.82           1          7.5               0.6  \n",
       "2            1.23           0          0.0               2.1  \n",
       "3            0.72           0          0.0               1.2  \n",
       "4            0.71           1          3.3               0.9  "
      ]
     },
     "execution_count": 126,
     "metadata": {},
     "output_type": "execute_result"
    }
   ],
   "source": [
    "df.head()"
   ]
  },
  {
   "cell_type": "code",
   "execution_count": 20,
   "id": "ec28ef31",
   "metadata": {},
   "outputs": [
    {
     "name": "stdout",
     "output_type": "stream",
     "text": [
      "(889,)\n",
      "9.330521184851895\n",
      "1.314204962170101e-39\n"
     ]
    },
    {
     "name": "stderr",
     "output_type": "stream",
     "text": [
      "C:\\ProgramData\\Anaconda3\\lib\\site-packages\\seaborn\\distributions.py:2619: FutureWarning: `distplot` is a deprecated function and will be removed in a future version. Please adapt your code to use either `displot` (a figure-level function with similar flexibility) or `histplot` (an axes-level function for histograms).\n",
      "  warnings.warn(msg, FutureWarning)\n"
     ]
    },
    {
     "data": {
      "text/plain": [
       "'not normally distributed'"
      ]
     },
     "execution_count": 20,
     "metadata": {},
     "output_type": "execute_result"
    },
    {
     "data": {
      "image/png": "[encoded data removed]",
      "text/plain": [
       "<Figure size 432x288 with 1 Axes>"
      ]
     },
     "metadata": {
      "needs_background": "light"
     },
     "output_type": "display_data"
    }
   ],
   "source": [
    "z=df[df['ticket']=='single']['duration_ in_min']\n",
    "print(z.shape)\n",
    "sns.distplot(z)\n",
    "print(df[df['ticket']=='single']['duration_ in_min'].mean())\n",
    "nd_test(z)"
   ]
  },
  {
   "cell_type": "code",
   "execution_count": 10,
   "id": "a54bc1d8",
   "metadata": {},
   "outputs": [
    {
     "data": {
      "text/plain": [
       "0        0.050000\n",
       "2       12.016667\n",
       "4        6.366667\n",
       "5       16.000000\n",
       "6        9.816667\n",
       "          ...    \n",
       "1986     7.566667\n",
       "1990     0.583333\n",
       "1991    15.883333\n",
       "1992     2.650000\n",
       "1998     3.516667\n",
       "Name: duration_ in_min, Length: 893, dtype: float64"
      ]
     },
     "execution_count": 10,
     "metadata": {},
     "output_type": "execute_result"
    }
   ],
   "source": [
    "df[df['ticket']=='season']['duration_ in_min']"
   ]
  },
  {
   "cell_type": "code",
   "execution_count": 24,
   "id": "d03fe41c",
   "metadata": {},
   "outputs": [
    {
     "data": {
      "text/html": [
       "<div>\n",
       "<style scoped>\n",
       "    .dataframe tbody tr th:only-of-type {\n",
       "        vertical-align: middle;\n",
       "    }\n",
       "\n",
       "    .dataframe tbody tr th {\n",
       "        vertical-align: top;\n",
       "    }\n",
       "\n",
       "    .dataframe thead th {\n",
       "        text-align: right;\n",
       "    }\n",
       "</style>\n",
       "<table border=\"1\" class=\"dataframe\">\n",
       "  <thead>\n",
       "    <tr style=\"text-align: right;\">\n",
       "      <th></th>\n",
       "      <th>ticket</th>\n",
       "      <th>cost</th>\n",
       "      <th>month</th>\n",
       "      <th>location_from</th>\n",
       "      <th>location_to</th>\n",
       "      <th>duration_ in_min</th>\n",
       "      <th>distance_in_km</th>\n",
       "      <th>assistance</th>\n",
       "      <th>energy_used</th>\n",
       "      <th>energy_collected</th>\n",
       "    </tr>\n",
       "  </thead>\n",
       "  <tbody>\n",
       "    <tr>\n",
       "      <th>0</th>\n",
       "      <td>season</td>\n",
       "      <td>0.0</td>\n",
       "      <td>7</td>\n",
       "      <td>TEATTERI</td>\n",
       "      <td>TEATTERI</td>\n",
       "      <td>0.050000</td>\n",
       "      <td>0</td>\n",
       "      <td>0</td>\n",
       "      <td>0.0</td>\n",
       "      <td>0.0</td>\n",
       "    </tr>\n",
       "    <tr>\n",
       "      <th>2</th>\n",
       "      <td>season</td>\n",
       "      <td>0.0</td>\n",
       "      <td>8</td>\n",
       "      <td>TORI</td>\n",
       "      <td>SATAMA</td>\n",
       "      <td>12.016667</td>\n",
       "      <td>1230</td>\n",
       "      <td>0</td>\n",
       "      <td>0.0</td>\n",
       "      <td>2.1</td>\n",
       "    </tr>\n",
       "    <tr>\n",
       "      <th>4</th>\n",
       "      <td>season</td>\n",
       "      <td>0.0</td>\n",
       "      <td>5</td>\n",
       "      <td>TEATTERI</td>\n",
       "      <td>TORI</td>\n",
       "      <td>6.366667</td>\n",
       "      <td>710</td>\n",
       "      <td>1</td>\n",
       "      <td>3.3</td>\n",
       "      <td>0.9</td>\n",
       "    </tr>\n",
       "    <tr>\n",
       "      <th>5</th>\n",
       "      <td>season</td>\n",
       "      <td>0.0</td>\n",
       "      <td>8</td>\n",
       "      <td>MICROTEKNIA</td>\n",
       "      <td>TEATTERI</td>\n",
       "      <td>16.000000</td>\n",
       "      <td>2670</td>\n",
       "      <td>1</td>\n",
       "      <td>21.5</td>\n",
       "      <td>6.3</td>\n",
       "    </tr>\n",
       "    <tr>\n",
       "      <th>6</th>\n",
       "      <td>season</td>\n",
       "      <td>0.0</td>\n",
       "      <td>6</td>\n",
       "      <td>RYPYSUO</td>\n",
       "      <td>KYS</td>\n",
       "      <td>9.816667</td>\n",
       "      <td>3130</td>\n",
       "      <td>1</td>\n",
       "      <td>25.9</td>\n",
       "      <td>11.4</td>\n",
       "    </tr>\n",
       "  </tbody>\n",
       "</table>\n",
       "</div>"
      ],
      "text/plain": [
       "   ticket  cost  month location_from location_to  duration_ in_min  \\\n",
       "0  season   0.0      7      TEATTERI    TEATTERI          0.050000   \n",
       "2  season   0.0      8          TORI      SATAMA         12.016667   \n",
       "4  season   0.0      5      TEATTERI        TORI          6.366667   \n",
       "5  season   0.0      8   MICROTEKNIA    TEATTERI         16.000000   \n",
       "6  season   0.0      6       RYPYSUO         KYS          9.816667   \n",
       "\n",
       "   distance_in_km  assistance  energy_used  energy_collected  \n",
       "0               0           0          0.0               0.0  \n",
       "2            1230           0          0.0               2.1  \n",
       "4             710           1          3.3               0.9  \n",
       "5            2670           1         21.5               6.3  \n",
       "6            3130           1         25.9              11.4  "
      ]
     },
     "execution_count": 24,
     "metadata": {},
     "output_type": "execute_result"
    }
   ],
   "source": [
    "x=df[df['ticket']=='season']\n",
    "x.head()"
   ]
  },
  {
   "cell_type": "code",
   "execution_count": 29,
   "id": "9899c308",
   "metadata": {},
   "outputs": [
    {
     "data": {
      "text/html": [
       "<div>\n",
       "<style scoped>\n",
       "    .dataframe tbody tr th:only-of-type {\n",
       "        vertical-align: middle;\n",
       "    }\n",
       "\n",
       "    .dataframe tbody tr th {\n",
       "        vertical-align: top;\n",
       "    }\n",
       "\n",
       "    .dataframe thead th {\n",
       "        text-align: right;\n",
       "    }\n",
       "</style>\n",
       "<table border=\"1\" class=\"dataframe\">\n",
       "  <thead>\n",
       "    <tr style=\"text-align: right;\">\n",
       "      <th></th>\n",
       "      <th>ticket</th>\n",
       "      <th>cost</th>\n",
       "      <th>month</th>\n",
       "      <th>location_from</th>\n",
       "      <th>location_to</th>\n",
       "      <th>duration_ in_min</th>\n",
       "      <th>distance_in_km</th>\n",
       "      <th>assistance</th>\n",
       "      <th>energy_used</th>\n",
       "      <th>energy_collected</th>\n",
       "    </tr>\n",
       "  </thead>\n",
       "  <tbody>\n",
       "    <tr>\n",
       "      <th>13</th>\n",
       "      <td>savonia</td>\n",
       "      <td>0.0</td>\n",
       "      <td>9</td>\n",
       "      <td>SNELLMANIA</td>\n",
       "      <td>SNELLMANIA</td>\n",
       "      <td>1.066667</td>\n",
       "      <td>0</td>\n",
       "      <td>1</td>\n",
       "      <td>0.0</td>\n",
       "      <td>0.0</td>\n",
       "    </tr>\n",
       "    <tr>\n",
       "      <th>15</th>\n",
       "      <td>savonia</td>\n",
       "      <td>0.0</td>\n",
       "      <td>9</td>\n",
       "      <td>MICROTEKNIA</td>\n",
       "      <td>MICROTEKNIA</td>\n",
       "      <td>1.016667</td>\n",
       "      <td>0</td>\n",
       "      <td>1</td>\n",
       "      <td>0.0</td>\n",
       "      <td>0.0</td>\n",
       "    </tr>\n",
       "    <tr>\n",
       "      <th>18</th>\n",
       "      <td>savonia</td>\n",
       "      <td>0.0</td>\n",
       "      <td>10</td>\n",
       "      <td>UIMAHALLI</td>\n",
       "      <td>TORI</td>\n",
       "      <td>5.000000</td>\n",
       "      <td>930</td>\n",
       "      <td>1</td>\n",
       "      <td>7.3</td>\n",
       "      <td>3.6</td>\n",
       "    </tr>\n",
       "    <tr>\n",
       "      <th>20</th>\n",
       "      <td>savonia</td>\n",
       "      <td>0.0</td>\n",
       "      <td>10</td>\n",
       "      <td>KYS</td>\n",
       "      <td>TORI</td>\n",
       "      <td>9.433333</td>\n",
       "      <td>1870</td>\n",
       "      <td>1</td>\n",
       "      <td>13.8</td>\n",
       "      <td>6.6</td>\n",
       "    </tr>\n",
       "    <tr>\n",
       "      <th>23</th>\n",
       "      <td>savonia</td>\n",
       "      <td>0.0</td>\n",
       "      <td>10</td>\n",
       "      <td>SNELLMANIA</td>\n",
       "      <td>SNELLMANIA</td>\n",
       "      <td>1.500000</td>\n",
       "      <td>0</td>\n",
       "      <td>0</td>\n",
       "      <td>0.0</td>\n",
       "      <td>0.0</td>\n",
       "    </tr>\n",
       "  </tbody>\n",
       "</table>\n",
       "</div>"
      ],
      "text/plain": [
       "     ticket  cost  month location_from  location_to  duration_ in_min  \\\n",
       "13  savonia   0.0      9    SNELLMANIA   SNELLMANIA          1.066667   \n",
       "15  savonia   0.0      9   MICROTEKNIA  MICROTEKNIA          1.016667   \n",
       "18  savonia   0.0     10     UIMAHALLI         TORI          5.000000   \n",
       "20  savonia   0.0     10           KYS         TORI          9.433333   \n",
       "23  savonia   0.0     10    SNELLMANIA   SNELLMANIA          1.500000   \n",
       "\n",
       "    distance_in_km  assistance  energy_used  energy_collected  \n",
       "13               0           1          0.0               0.0  \n",
       "15               0           1          0.0               0.0  \n",
       "18             930           1          7.3               3.6  \n",
       "20            1870           1         13.8               6.6  \n",
       "23               0           0          0.0               0.0  "
      ]
     },
     "execution_count": 29,
     "metadata": {},
     "output_type": "execute_result"
    }
   ],
   "source": [
    "y=df[df['ticket']=='savonia']\n",
    "y.head()"
   ]
  },
  {
   "cell_type": "code",
   "execution_count": 32,
   "id": "6b56f68a",
   "metadata": {},
   "outputs": [
    {
     "data": {
      "text/plain": [
       "ticket              367\n",
       "cost                367\n",
       "month               367\n",
       "location_from       367\n",
       "location_to         367\n",
       "duration_ in_min    367\n",
       "distance_in_km      367\n",
       "assistance          367\n",
       "energy_used         367\n",
       "energy_collected    367\n",
       "dtype: int64"
      ]
     },
     "execution_count": 32,
     "metadata": {},
     "output_type": "execute_result"
    }
   ],
   "source": [
    "x[x['location_from']==x['location_to']].count()"
   ]
  },
  {
   "cell_type": "code",
   "execution_count": 30,
   "id": "e39e37c4",
   "metadata": {},
   "outputs": [
    {
     "data": {
      "text/plain": [
       "(76, 10)"
      ]
     },
     "execution_count": 30,
     "metadata": {},
     "output_type": "execute_result"
    }
   ],
   "source": [
    "y[y['location_from']==y['location_to']].shape"
   ]
  },
  {
   "cell_type": "code",
   "execution_count": 19,
   "id": "4f9e47d2",
   "metadata": {},
   "outputs": [
    {
     "name": "stdout",
     "output_type": "stream",
     "text": [
      "(893,)\n",
      "8.578630085852934\n",
      "3.9606475053899425e-25\n"
     ]
    },
    {
     "name": "stderr",
     "output_type": "stream",
     "text": [
      "C:\\ProgramData\\Anaconda3\\lib\\site-packages\\seaborn\\distributions.py:2619: FutureWarning: `distplot` is a deprecated function and will be removed in a future version. Please adapt your code to use either `displot` (a figure-level function with similar flexibility) or `histplot` (an axes-level function for histograms).\n",
      "  warnings.warn(msg, FutureWarning)\n"
     ]
    },
    {
     "data": {
      "text/plain": [
       "'not normally distributed'"
      ]
     },
     "execution_count": 19,
     "metadata": {},
     "output_type": "execute_result"
    },
    {
     "data": {
      "image/png": "[encoded data removed]",
      "text/plain": [
       "<Figure size 432x288 with 1 Axes>"
      ]
     },
     "metadata": {
      "needs_background": "light"
     },
     "output_type": "display_data"
    }
   ],
   "source": [
    "x=df[df['ticket']=='season']['duration_ in_min']\n",
    "print(x.shape)\n",
    "sns.distplot(x)\n",
    "print(df[df['ticket']=='season']['duration_ in_min'].mean())\n",
    "nd_test(x)"
   ]
  },
  {
   "cell_type": "code",
   "execution_count": 22,
   "id": "252d8275",
   "metadata": {},
   "outputs": [
    {
     "data": {
      "text/plain": [
       "0.3645632872998459"
      ]
     },
     "execution_count": 22,
     "metadata": {},
     "output_type": "execute_result"
    }
   ],
   "source": [
    "h=stats.mannwhitneyu(x,z,use_continuity=True,alternative='two-sided')[1]\n",
    "h"
   ]
  },
  {
   "cell_type": "code",
   "execution_count": 18,
   "id": "67371bad",
   "metadata": {},
   "outputs": [
    {
     "data": {
      "text/html": [
       "<div>\n",
       "<style scoped>\n",
       "    .dataframe tbody tr th:only-of-type {\n",
       "        vertical-align: middle;\n",
       "    }\n",
       "\n",
       "    .dataframe tbody tr th {\n",
       "        vertical-align: top;\n",
       "    }\n",
       "\n",
       "    .dataframe thead th {\n",
       "        text-align: right;\n",
       "    }\n",
       "</style>\n",
       "<table border=\"1\" class=\"dataframe\">\n",
       "  <thead>\n",
       "    <tr style=\"text-align: right;\">\n",
       "      <th></th>\n",
       "      <th>ticket</th>\n",
       "      <th>cost</th>\n",
       "      <th>month</th>\n",
       "      <th>location_from</th>\n",
       "      <th>location_to</th>\n",
       "      <th>duration_ in_min</th>\n",
       "      <th>distance_in_km</th>\n",
       "      <th>assistance</th>\n",
       "      <th>energy_used</th>\n",
       "      <th>energy_collected</th>\n",
       "    </tr>\n",
       "  </thead>\n",
       "  <tbody>\n",
       "    <tr>\n",
       "      <th>0</th>\n",
       "      <td>season</td>\n",
       "      <td>0.00</td>\n",
       "      <td>7</td>\n",
       "      <td>TEATTERI</td>\n",
       "      <td>TEATTERI</td>\n",
       "      <td>0.050000</td>\n",
       "      <td>0.00</td>\n",
       "      <td>0</td>\n",
       "      <td>0.0</td>\n",
       "      <td>0.0</td>\n",
       "    </tr>\n",
       "    <tr>\n",
       "      <th>8</th>\n",
       "      <td>season</td>\n",
       "      <td>0.00</td>\n",
       "      <td>8</td>\n",
       "      <td>SATAMA</td>\n",
       "      <td>SATAMA</td>\n",
       "      <td>1.200000</td>\n",
       "      <td>0.00</td>\n",
       "      <td>1</td>\n",
       "      <td>0.0</td>\n",
       "      <td>0.0</td>\n",
       "    </tr>\n",
       "    <tr>\n",
       "      <th>11</th>\n",
       "      <td>season</td>\n",
       "      <td>0.00</td>\n",
       "      <td>6</td>\n",
       "      <td>RYPYSUO</td>\n",
       "      <td>RYPYSUO</td>\n",
       "      <td>2.250000</td>\n",
       "      <td>0.00</td>\n",
       "      <td>1</td>\n",
       "      <td>0.0</td>\n",
       "      <td>0.0</td>\n",
       "    </tr>\n",
       "    <tr>\n",
       "      <th>13</th>\n",
       "      <td>savonia</td>\n",
       "      <td>0.00</td>\n",
       "      <td>9</td>\n",
       "      <td>SNELLMANIA</td>\n",
       "      <td>SNELLMANIA</td>\n",
       "      <td>1.066667</td>\n",
       "      <td>0.00</td>\n",
       "      <td>1</td>\n",
       "      <td>0.0</td>\n",
       "      <td>0.0</td>\n",
       "    </tr>\n",
       "    <tr>\n",
       "      <th>14</th>\n",
       "      <td>single</td>\n",
       "      <td>1.10</td>\n",
       "      <td>5</td>\n",
       "      <td>TORI</td>\n",
       "      <td>TORI</td>\n",
       "      <td>21.000000</td>\n",
       "      <td>2.59</td>\n",
       "      <td>0</td>\n",
       "      <td>0.0</td>\n",
       "      <td>6.3</td>\n",
       "    </tr>\n",
       "    <tr>\n",
       "      <th>...</th>\n",
       "      <td>...</td>\n",
       "      <td>...</td>\n",
       "      <td>...</td>\n",
       "      <td>...</td>\n",
       "      <td>...</td>\n",
       "      <td>...</td>\n",
       "      <td>...</td>\n",
       "      <td>...</td>\n",
       "      <td>...</td>\n",
       "      <td>...</td>\n",
       "    </tr>\n",
       "    <tr>\n",
       "      <th>1984</th>\n",
       "      <td>season</td>\n",
       "      <td>0.00</td>\n",
       "      <td>8</td>\n",
       "      <td>TORI</td>\n",
       "      <td>TORI</td>\n",
       "      <td>9.016667</td>\n",
       "      <td>4.80</td>\n",
       "      <td>1</td>\n",
       "      <td>34.7</td>\n",
       "      <td>10.5</td>\n",
       "    </tr>\n",
       "    <tr>\n",
       "      <th>1985</th>\n",
       "      <td>season</td>\n",
       "      <td>0.00</td>\n",
       "      <td>7</td>\n",
       "      <td>SNELLMANIA</td>\n",
       "      <td>SNELLMANIA</td>\n",
       "      <td>13.666667</td>\n",
       "      <td>3.18</td>\n",
       "      <td>1</td>\n",
       "      <td>25.1</td>\n",
       "      <td>15.6</td>\n",
       "    </tr>\n",
       "    <tr>\n",
       "      <th>1987</th>\n",
       "      <td>single</td>\n",
       "      <td>0.05</td>\n",
       "      <td>8</td>\n",
       "      <td>TORI</td>\n",
       "      <td>TORI</td>\n",
       "      <td>0.866667</td>\n",
       "      <td>0.00</td>\n",
       "      <td>1</td>\n",
       "      <td>0.0</td>\n",
       "      <td>0.0</td>\n",
       "    </tr>\n",
       "    <tr>\n",
       "      <th>1989</th>\n",
       "      <td>savonia</td>\n",
       "      <td>0.00</td>\n",
       "      <td>9</td>\n",
       "      <td>TORI</td>\n",
       "      <td>TORI</td>\n",
       "      <td>18.866667</td>\n",
       "      <td>0.13</td>\n",
       "      <td>1</td>\n",
       "      <td>1.3</td>\n",
       "      <td>0.3</td>\n",
       "    </tr>\n",
       "    <tr>\n",
       "      <th>1990</th>\n",
       "      <td>season</td>\n",
       "      <td>0.00</td>\n",
       "      <td>5</td>\n",
       "      <td>TORI</td>\n",
       "      <td>TORI</td>\n",
       "      <td>0.583333</td>\n",
       "      <td>0.00</td>\n",
       "      <td>1</td>\n",
       "      <td>0.0</td>\n",
       "      <td>0.0</td>\n",
       "    </tr>\n",
       "  </tbody>\n",
       "</table>\n",
       "<p>779 rows × 10 columns</p>\n",
       "</div>"
      ],
      "text/plain": [
       "       ticket  cost  month location_from location_to  duration_ in_min  \\\n",
       "0      season  0.00      7      TEATTERI    TEATTERI          0.050000   \n",
       "8      season  0.00      8        SATAMA      SATAMA          1.200000   \n",
       "11     season  0.00      6       RYPYSUO     RYPYSUO          2.250000   \n",
       "13    savonia  0.00      9    SNELLMANIA  SNELLMANIA          1.066667   \n",
       "14     single  1.10      5          TORI        TORI         21.000000   \n",
       "...       ...   ...    ...           ...         ...               ...   \n",
       "1984   season  0.00      8          TORI        TORI          9.016667   \n",
       "1985   season  0.00      7    SNELLMANIA  SNELLMANIA         13.666667   \n",
       "1987   single  0.05      8          TORI        TORI          0.866667   \n",
       "1989  savonia  0.00      9          TORI        TORI         18.866667   \n",
       "1990   season  0.00      5          TORI        TORI          0.583333   \n",
       "\n",
       "      distance_in_km  assistance  energy_used  energy_collected  \n",
       "0               0.00           0          0.0               0.0  \n",
       "8               0.00           1          0.0               0.0  \n",
       "11              0.00           1          0.0               0.0  \n",
       "13              0.00           1          0.0               0.0  \n",
       "14              2.59           0          0.0               6.3  \n",
       "...              ...         ...          ...               ...  \n",
       "1984            4.80           1         34.7              10.5  \n",
       "1985            3.18           1         25.1              15.6  \n",
       "1987            0.00           1          0.0               0.0  \n",
       "1989            0.13           1          1.3               0.3  \n",
       "1990            0.00           1          0.0               0.0  \n",
       "\n",
       "[779 rows x 10 columns]"
      ]
     },
     "execution_count": 18,
     "metadata": {},
     "output_type": "execute_result"
    }
   ],
   "source": [
    "a=df[df['location_from']==df['location_to']]\n",
    "a"
   ]
  },
  {
   "cell_type": "code",
   "execution_count": 27,
   "id": "64b32497",
   "metadata": {},
   "outputs": [
    {
     "data": {
      "text/html": [
       "<div>\n",
       "<style scoped>\n",
       "    .dataframe tbody tr th:only-of-type {\n",
       "        vertical-align: middle;\n",
       "    }\n",
       "\n",
       "    .dataframe tbody tr th {\n",
       "        vertical-align: top;\n",
       "    }\n",
       "\n",
       "    .dataframe thead tr th {\n",
       "        text-align: left;\n",
       "    }\n",
       "\n",
       "    .dataframe thead tr:last-of-type th {\n",
       "        text-align: right;\n",
       "    }\n",
       "</style>\n",
       "<table border=\"1\" class=\"dataframe\">\n",
       "  <thead>\n",
       "    <tr>\n",
       "      <th>ticket</th>\n",
       "      <th colspan=\"10\" halign=\"left\">savonia</th>\n",
       "      <th>...</th>\n",
       "      <th colspan=\"10\" halign=\"left\">single</th>\n",
       "    </tr>\n",
       "    <tr>\n",
       "      <th>location_to</th>\n",
       "      <th>KYS</th>\n",
       "      <th>MICROTEKNIA</th>\n",
       "      <th>PETONEN</th>\n",
       "      <th>RYPYSUO</th>\n",
       "      <th>SATAMA</th>\n",
       "      <th>SNELLMANIA</th>\n",
       "      <th>TEATTERI</th>\n",
       "      <th>TORI</th>\n",
       "      <th>UIMAHALLI</th>\n",
       "      <th>VÄINÖLÄNNIEMI</th>\n",
       "      <th>...</th>\n",
       "      <th>KYS</th>\n",
       "      <th>MICROTEKNIA</th>\n",
       "      <th>PETONEN</th>\n",
       "      <th>RYPYSUO</th>\n",
       "      <th>SATAMA</th>\n",
       "      <th>SNELLMANIA</th>\n",
       "      <th>TEATTERI</th>\n",
       "      <th>TORI</th>\n",
       "      <th>UIMAHALLI</th>\n",
       "      <th>VÄINÖLÄNNIEMI</th>\n",
       "    </tr>\n",
       "    <tr>\n",
       "      <th>location_from</th>\n",
       "      <th></th>\n",
       "      <th></th>\n",
       "      <th></th>\n",
       "      <th></th>\n",
       "      <th></th>\n",
       "      <th></th>\n",
       "      <th></th>\n",
       "      <th></th>\n",
       "      <th></th>\n",
       "      <th></th>\n",
       "      <th></th>\n",
       "      <th></th>\n",
       "      <th></th>\n",
       "      <th></th>\n",
       "      <th></th>\n",
       "      <th></th>\n",
       "      <th></th>\n",
       "      <th></th>\n",
       "      <th></th>\n",
       "      <th></th>\n",
       "      <th></th>\n",
       "    </tr>\n",
       "  </thead>\n",
       "  <tbody>\n",
       "    <tr>\n",
       "      <th>KYS</th>\n",
       "      <td>3</td>\n",
       "      <td>5</td>\n",
       "      <td>0</td>\n",
       "      <td>0</td>\n",
       "      <td>0</td>\n",
       "      <td>0</td>\n",
       "      <td>0</td>\n",
       "      <td>1</td>\n",
       "      <td>0</td>\n",
       "      <td>0</td>\n",
       "      <td>...</td>\n",
       "      <td>6</td>\n",
       "      <td>8</td>\n",
       "      <td>5</td>\n",
       "      <td>1</td>\n",
       "      <td>3</td>\n",
       "      <td>3</td>\n",
       "      <td>10</td>\n",
       "      <td>27</td>\n",
       "      <td>2</td>\n",
       "      <td>1</td>\n",
       "    </tr>\n",
       "    <tr>\n",
       "      <th>MICROTEKNIA</th>\n",
       "      <td>3</td>\n",
       "      <td>25</td>\n",
       "      <td>0</td>\n",
       "      <td>2</td>\n",
       "      <td>3</td>\n",
       "      <td>9</td>\n",
       "      <td>10</td>\n",
       "      <td>18</td>\n",
       "      <td>2</td>\n",
       "      <td>2</td>\n",
       "      <td>...</td>\n",
       "      <td>2</td>\n",
       "      <td>20</td>\n",
       "      <td>0</td>\n",
       "      <td>3</td>\n",
       "      <td>3</td>\n",
       "      <td>3</td>\n",
       "      <td>6</td>\n",
       "      <td>16</td>\n",
       "      <td>3</td>\n",
       "      <td>0</td>\n",
       "    </tr>\n",
       "    <tr>\n",
       "      <th>PETONEN</th>\n",
       "      <td>0</td>\n",
       "      <td>0</td>\n",
       "      <td>2</td>\n",
       "      <td>0</td>\n",
       "      <td>0</td>\n",
       "      <td>0</td>\n",
       "      <td>0</td>\n",
       "      <td>0</td>\n",
       "      <td>0</td>\n",
       "      <td>0</td>\n",
       "      <td>...</td>\n",
       "      <td>4</td>\n",
       "      <td>0</td>\n",
       "      <td>11</td>\n",
       "      <td>0</td>\n",
       "      <td>3</td>\n",
       "      <td>1</td>\n",
       "      <td>0</td>\n",
       "      <td>0</td>\n",
       "      <td>0</td>\n",
       "      <td>0</td>\n",
       "    </tr>\n",
       "    <tr>\n",
       "      <th>RYPYSUO</th>\n",
       "      <td>0</td>\n",
       "      <td>2</td>\n",
       "      <td>0</td>\n",
       "      <td>3</td>\n",
       "      <td>0</td>\n",
       "      <td>1</td>\n",
       "      <td>0</td>\n",
       "      <td>0</td>\n",
       "      <td>0</td>\n",
       "      <td>0</td>\n",
       "      <td>...</td>\n",
       "      <td>3</td>\n",
       "      <td>2</td>\n",
       "      <td>0</td>\n",
       "      <td>14</td>\n",
       "      <td>5</td>\n",
       "      <td>3</td>\n",
       "      <td>1</td>\n",
       "      <td>15</td>\n",
       "      <td>0</td>\n",
       "      <td>0</td>\n",
       "    </tr>\n",
       "    <tr>\n",
       "      <th>SATAMA</th>\n",
       "      <td>5</td>\n",
       "      <td>7</td>\n",
       "      <td>0</td>\n",
       "      <td>0</td>\n",
       "      <td>6</td>\n",
       "      <td>1</td>\n",
       "      <td>0</td>\n",
       "      <td>4</td>\n",
       "      <td>0</td>\n",
       "      <td>0</td>\n",
       "      <td>...</td>\n",
       "      <td>4</td>\n",
       "      <td>2</td>\n",
       "      <td>2</td>\n",
       "      <td>0</td>\n",
       "      <td>63</td>\n",
       "      <td>1</td>\n",
       "      <td>9</td>\n",
       "      <td>60</td>\n",
       "      <td>1</td>\n",
       "      <td>14</td>\n",
       "    </tr>\n",
       "  </tbody>\n",
       "</table>\n",
       "<p>5 rows × 30 columns</p>\n",
       "</div>"
      ],
      "text/plain": [
       "ticket        savonia                                                         \\\n",
       "location_to       KYS MICROTEKNIA PETONEN RYPYSUO SATAMA SNELLMANIA TEATTERI   \n",
       "location_from                                                                  \n",
       "KYS                 3           5       0       0      0          0        0   \n",
       "MICROTEKNIA         3          25       0       2      3          9       10   \n",
       "PETONEN             0           0       2       0      0          0        0   \n",
       "RYPYSUO             0           2       0       3      0          1        0   \n",
       "SATAMA              5           7       0       0      6          1        0   \n",
       "\n",
       "ticket                                      ... single                      \\\n",
       "location_to   TORI UIMAHALLI VÄINÖLÄNNIEMI  ...    KYS MICROTEKNIA PETONEN   \n",
       "location_from                               ...                              \n",
       "KYS              1         0             0  ...      6           8       5   \n",
       "MICROTEKNIA     18         2             2  ...      2          20       0   \n",
       "PETONEN          0         0             0  ...      4           0      11   \n",
       "RYPYSUO          0         0             0  ...      3           2       0   \n",
       "SATAMA           4         0             0  ...      4           2       2   \n",
       "\n",
       "ticket                                                                         \n",
       "location_to   RYPYSUO SATAMA SNELLMANIA TEATTERI TORI UIMAHALLI VÄINÖLÄNNIEMI  \n",
       "location_from                                                                  \n",
       "KYS                 1      3          3       10   27         2             1  \n",
       "MICROTEKNIA         3      3          3        6   16         3             0  \n",
       "PETONEN             0      3          1        0    0         0             0  \n",
       "RYPYSUO            14      5          3        1   15         0             0  \n",
       "SATAMA              0     63          1        9   60         1            14  \n",
       "\n",
       "[5 rows x 30 columns]"
      ]
     },
     "execution_count": 27,
     "metadata": {},
     "output_type": "execute_result"
    }
   ],
   "source": [
    "z=pd.crosstab(df.location_from,[df.ticket,df.location_to])\n",
    "z.head()"
   ]
  },
  {
   "cell_type": "code",
   "execution_count": 7,
   "id": "260b16de",
   "metadata": {},
   "outputs": [
    {
     "name": "stdout",
     "output_type": "stream",
     "text": [
      "location_from  KYS  MICROTEKNIA  PETONEN  RYPYSUO  SATAMA  SNELLMANIA  \\\n",
      "ticket                                                                  \n",
      "savonia          9           74        2        6      23          22   \n",
      "season          67           72       33       47     142          46   \n",
      "single          66           56       19       43     156          42   \n",
      "\n",
      "location_from  TEATTERI  TORI  UIMAHALLI  VÄINÖLÄNNIEMI  \n",
      "ticket                                                   \n",
      "savonia              11    60          7              4  \n",
      "season               82   298         31             75  \n",
      "single               78   315         22             92  \n",
      "-------------\n",
      "------\n",
      "location_from\n",
      "MICROTEKNIA    74\n",
      "TORI           60\n",
      "SATAMA         23\n",
      "Name: savonia, dtype: int64\n",
      "---------\n",
      "location_from\n",
      "TORI             315\n",
      "SATAMA           156\n",
      "VÄINÖLÄNNIEMI     92\n",
      "Name: single, dtype: int64\n",
      "---------\n",
      "location_from\n",
      "TORI        298\n",
      "SATAMA      142\n",
      "TEATTERI     82\n",
      "Name: season, dtype: int64\n"
     ]
    },
    {
     "data": {
      "text/plain": [
       "<AxesSubplot:xlabel='location_from'>"
      ]
     },
     "execution_count": 7,
     "metadata": {},
     "output_type": "execute_result"
    },
    {
     "data": {
      "image/png": "[encoded data removed]",
      "text/plain": [
       "<Figure size 432x288 with 1 Axes>"
      ]
     },
     "metadata": {
      "needs_background": "light"
     },
     "output_type": "display_data"
    }
   ],
   "source": [
    "#sns.heatmap(pd.crosstab(df.ticket,df.location_from))\n",
    "d=pd.crosstab(df.ticket,df.location_from)\n",
    "print(d)\n",
    "print(\"-------------\")\n",
    "savonia=d.loc['savonia',:]\n",
    "single=d.loc['single',:]\n",
    "season=d.loc['season',:]\n",
    "print(\"------\")\n",
    "print(savonia.sort_values(ascending=False).head(3))\n",
    "savonia.sort_values(ascending=False).head(3).plot(kind='bar')\n",
    "print(\"---------\")\n",
    "print(single.sort_values(ascending=False).head(3))\n",
    "single.sort_values(ascending=False).head(3).plot(kind='bar')\n",
    "print(\"---------\")\n",
    "print(season.sort_values(ascending=False).head(3))\n",
    "season.sort_values(ascending=False).head(3).plot(kind='bar')"
   ]
  },
  {
   "cell_type": "code",
   "execution_count": 10,
   "id": "745e45ca",
   "metadata": {},
   "outputs": [
    {
     "data": {
      "text/plain": [
       "location_from\n",
       "KYS               9\n",
       "MICROTEKNIA      74\n",
       "PETONEN           2\n",
       "RYPYSUO           6\n",
       "SATAMA           23\n",
       "SNELLMANIA       22\n",
       "TEATTERI         11\n",
       "TORI             60\n",
       "UIMAHALLI         7\n",
       "VÄINÖLÄNNIEMI     4\n",
       "Name: savonia, dtype: int64"
      ]
     },
     "execution_count": 10,
     "metadata": {},
     "output_type": "execute_result"
    }
   ],
   "source": [
    "savonia"
   ]
  },
  {
   "cell_type": "code",
   "execution_count": 9,
   "id": "b43d814b",
   "metadata": {},
   "outputs": [
    {
     "data": {
      "text/plain": [
       "location_from\n",
       "KYS               24\n",
       "MICROTEKNIA      140\n",
       "PETONEN            4\n",
       "RYPYSUO           13\n",
       "SATAMA            42\n",
       "SNELLMANIA        44\n",
       "TEATTERI          26\n",
       "TORI             127\n",
       "UIMAHALLI         10\n",
       "VÄINÖLÄNNIEMI      6\n",
       "Name: savonia, dtype: int64"
      ]
     },
     "execution_count": 9,
     "metadata": {},
     "output_type": "execute_result"
    }
   ],
   "source": [
    "savonia+savonia_to"
   ]
  },
  {
   "cell_type": "code",
   "execution_count": 33,
   "id": "df5e8e32",
   "metadata": {},
   "outputs": [
    {
     "data": {
      "text/plain": [
       "(array([1.499e+03, 3.830e+02, 7.900e+01, 2.400e+01, 9.000e+00, 2.000e+00,\n",
       "        2.000e+00, 0.000e+00, 1.000e+00, 1.000e+00]),\n",
       " array([  0.  ,  18.43,  36.86,  55.29,  73.72,  92.15, 110.58, 129.01,\n",
       "        147.44, 165.87, 184.3 ]),\n",
       " <BarContainer object of 10 artists>)"
      ]
     },
     "execution_count": 33,
     "metadata": {},
     "output_type": "execute_result"
    },
    {
     "data": {
      "image/png": "[encoded data removed]",
      "text/plain": [
       "<Figure size 432x288 with 1 Axes>"
      ]
     },
     "metadata": {
      "needs_background": "light"
     },
     "output_type": "display_data"
    }
   ],
   "source": [
    "plt.hist(df['energy_used'])"
   ]
  },
  {
   "cell_type": "code",
   "execution_count": 150,
   "id": "0313da21",
   "metadata": {},
   "outputs": [
    {
     "name": "stderr",
     "output_type": "stream",
     "text": [
      "C:\\ProgramData\\Anaconda3\\lib\\site-packages\\seaborn\\_decorators.py:36: FutureWarning: Pass the following variables as keyword args: x, y. From version 0.12, the only valid positional argument will be `data`, and passing other arguments without an explicit keyword will result in an error or misinterpretation.\n",
      "  warnings.warn(\n"
     ]
    },
    {
     "data": {
      "text/plain": [
       "<AxesSubplot:xlabel='ticket', ylabel='distance_in_km'>"
      ]
     },
     "execution_count": 150,
     "metadata": {},
     "output_type": "execute_result"
    },
    {
     "data": {
      "image/png": "[encoded data removed]",
      "text/plain": [
       "<Figure size 432x288 with 1 Axes>"
      ]
     },
     "metadata": {
      "needs_background": "light"
     },
     "output_type": "display_data"
    }
   ],
   "source": [
    "sns.barplot(df.month,df.distance_in_km,hue=df['ticket'])"
   ]
  },
  {
   "cell_type": "code",
   "execution_count": 165,
   "id": "80829cf8",
   "metadata": {},
   "outputs": [
    {
     "data": {
      "text/html": [
       "<div>\n",
       "<style scoped>\n",
       "    .dataframe tbody tr th:only-of-type {\n",
       "        vertical-align: middle;\n",
       "    }\n",
       "\n",
       "    .dataframe tbody tr th {\n",
       "        vertical-align: top;\n",
       "    }\n",
       "\n",
       "    .dataframe thead th {\n",
       "        text-align: right;\n",
       "    }\n",
       "</style>\n",
       "<table border=\"1\" class=\"dataframe\">\n",
       "  <thead>\n",
       "    <tr style=\"text-align: right;\">\n",
       "      <th></th>\n",
       "      <th>ticket</th>\n",
       "      <th>cost</th>\n",
       "      <th>month</th>\n",
       "      <th>location_from</th>\n",
       "      <th>location_to</th>\n",
       "      <th>duration_ in_min</th>\n",
       "      <th>distance_in_km</th>\n",
       "      <th>assistance</th>\n",
       "      <th>energy_used</th>\n",
       "      <th>energy_collected</th>\n",
       "      <th>avg_spd</th>\n",
       "      <th>energy_gain</th>\n",
       "    </tr>\n",
       "  </thead>\n",
       "  <tbody>\n",
       "    <tr>\n",
       "      <th>0</th>\n",
       "      <td>season</td>\n",
       "      <td>0.00</td>\n",
       "      <td>7</td>\n",
       "      <td>TEATTERI</td>\n",
       "      <td>TEATTERI</td>\n",
       "      <td>0.050000</td>\n",
       "      <td>0.00</td>\n",
       "      <td>0</td>\n",
       "      <td>0.0</td>\n",
       "      <td>0.0</td>\n",
       "      <td>0.000000</td>\n",
       "      <td>0.0</td>\n",
       "    </tr>\n",
       "    <tr>\n",
       "      <th>1</th>\n",
       "      <td>single</td>\n",
       "      <td>0.35</td>\n",
       "      <td>7</td>\n",
       "      <td>TORI</td>\n",
       "      <td>TEATTERI</td>\n",
       "      <td>6.933333</td>\n",
       "      <td>0.82</td>\n",
       "      <td>1</td>\n",
       "      <td>7.5</td>\n",
       "      <td>0.6</td>\n",
       "      <td>0.118269</td>\n",
       "      <td>-6.9</td>\n",
       "    </tr>\n",
       "    <tr>\n",
       "      <th>2</th>\n",
       "      <td>season</td>\n",
       "      <td>0.00</td>\n",
       "      <td>8</td>\n",
       "      <td>TORI</td>\n",
       "      <td>SATAMA</td>\n",
       "      <td>12.016667</td>\n",
       "      <td>1.23</td>\n",
       "      <td>0</td>\n",
       "      <td>0.0</td>\n",
       "      <td>2.1</td>\n",
       "      <td>0.102358</td>\n",
       "      <td>2.1</td>\n",
       "    </tr>\n",
       "    <tr>\n",
       "      <th>3</th>\n",
       "      <td>single</td>\n",
       "      <td>0.25</td>\n",
       "      <td>5</td>\n",
       "      <td>TEATTERI</td>\n",
       "      <td>TORI</td>\n",
       "      <td>4.350000</td>\n",
       "      <td>0.72</td>\n",
       "      <td>0</td>\n",
       "      <td>0.0</td>\n",
       "      <td>1.2</td>\n",
       "      <td>0.165517</td>\n",
       "      <td>1.2</td>\n",
       "    </tr>\n",
       "  </tbody>\n",
       "</table>\n",
       "</div>"
      ],
      "text/plain": [
       "   ticket  cost  month location_from location_to  duration_ in_min  \\\n",
       "0  season  0.00      7      TEATTERI    TEATTERI          0.050000   \n",
       "1  single  0.35      7          TORI    TEATTERI          6.933333   \n",
       "2  season  0.00      8          TORI      SATAMA         12.016667   \n",
       "3  single  0.25      5      TEATTERI        TORI          4.350000   \n",
       "\n",
       "   distance_in_km  assistance  energy_used  energy_collected   avg_spd  \\\n",
       "0            0.00           0          0.0               0.0  0.000000   \n",
       "1            0.82           1          7.5               0.6  0.118269   \n",
       "2            1.23           0          0.0               2.1  0.102358   \n",
       "3            0.72           0          0.0               1.2  0.165517   \n",
       "\n",
       "   energy_gain  \n",
       "0          0.0  \n",
       "1         -6.9  \n",
       "2          2.1  \n",
       "3          1.2  "
      ]
     },
     "execution_count": 165,
     "metadata": {},
     "output_type": "execute_result"
    }
   ],
   "source": [
    "df.head(4)"
   ]
  },
  {
   "cell_type": "code",
   "execution_count": 35,
   "id": "a7bc0282",
   "metadata": {},
   "outputs": [
    {
     "data": {
      "text/plain": [
       "0.0    885\n",
       "1.0      8\n",
       "Name: cost, dtype: int64"
      ]
     },
     "execution_count": 35,
     "metadata": {},
     "output_type": "execute_result"
    }
   ],
   "source": [
    "df[df['ticket']=='season']['cost'].value_counts()"
   ]
  },
  {
   "cell_type": "code",
   "execution_count": 159,
   "id": "8068a824",
   "metadata": {},
   "outputs": [
    {
     "data": {
      "text/plain": [
       "<AxesSubplot:ylabel='Density'>"
      ]
     },
     "execution_count": 159,
     "metadata": {},
     "output_type": "execute_result"
    },
    {
     "data": {
      "image/png": "[encoded data removed]",
      "text/plain": [
       "<Figure size 432x288 with 1 Axes>"
      ]
     },
     "metadata": {
      "needs_background": "light"
     },
     "output_type": "display_data"
    }
   ],
   "source": [
    "df['energy_gain']=df['energy_collected']-df['energy_used']\n",
    "df.head()\n",
    "df.energy_gain.plot(kind='density')"
   ]
  },
  {
   "cell_type": "code",
   "execution_count": 157,
   "id": "56d5b879",
   "metadata": {},
   "outputs": [
    {
     "data": {
      "text/plain": [
       "2.389375369362602"
      ]
     },
     "execution_count": 157,
     "metadata": {},
     "output_type": "execute_result"
    }
   ],
   "source": [
    "nd_test(df.energy_gain)\n",
    "df.energy_gain.skew()"
   ]
  },
  {
   "cell_type": "code",
   "execution_count": 163,
   "id": "3b8ef466",
   "metadata": {},
   "outputs": [
    {
     "name": "stderr",
     "output_type": "stream",
     "text": [
      "C:\\ProgramData\\Anaconda3\\lib\\site-packages\\seaborn\\_decorators.py:36: FutureWarning: Pass the following variables as keyword args: x, y. From version 0.12, the only valid positional argument will be `data`, and passing other arguments without an explicit keyword will result in an error or misinterpretation.\n",
      "  warnings.warn(\n"
     ]
    },
    {
     "data": {
      "text/plain": [
       "<AxesSubplot:xlabel='duration_ in_min', ylabel='avg_spd'>"
      ]
     },
     "execution_count": 163,
     "metadata": {},
     "output_type": "execute_result"
    },
    {
     "data": {
      "image/png": "[encoded data removed]",
      "text/plain": [
       "<Figure size 432x288 with 1 Axes>"
      ]
     },
     "metadata": {
      "needs_background": "light"
     },
     "output_type": "display_data"
    }
   ],
   "source": [
    "sns.scatterplot(df['duration_ in_min'],df.avg_spd)"
   ]
  },
  {
   "cell_type": "code",
   "execution_count": 168,
   "id": "a87bfbab",
   "metadata": {},
   "outputs": [
    {
     "name": "stdout",
     "output_type": "stream",
     "text": [
      "p value: 2.1192802268636984e-135\n",
      "correlation: 0.5141798758354815\n"
     ]
    }
   ],
   "source": [
    "u_1=stats.spearmanr(df['duration_ in_min'],df.avg_spd)[1]\n",
    "u_2=stats.spearmanr(df['duration_ in_min'],df.avg_spd)[0]\n",
    "print(\"p value:\",u_1)\n",
    "print(\"correlation:\",u_2)"
   ]
  },
  {
   "cell_type": "code",
   "execution_count": null,
   "id": "aab9be84",
   "metadata": {},
   "outputs": [],
   "source": []
  },
  {
   "cell_type": "code",
   "execution_count": 17,
   "id": "1d25cc49",
   "metadata": {},
   "outputs": [
    {
     "name": "stdout",
     "output_type": "stream",
     "text": [
      "correlation: 0.9469111790790495\n"
     ]
    }
   ],
   "source": [
    "p=df[df['assistance']==1][['distance_in_km','energy_used']]\n",
    "p_1=stats.spearmanr(p['distance_in_km'],p.energy_used)[1]\n",
    "p_2=stats.spearmanr(p['distance_in_km'],p.energy_used)[0]\n",
    "#print(\"p value:\",p_1)\n",
    "print(\"correlation:\",p_2)"
   ]
  },
  {
   "cell_type": "code",
   "execution_count": 178,
   "id": "15ba7b90",
   "metadata": {},
   "outputs": [
    {
     "name": "stderr",
     "output_type": "stream",
     "text": [
      "C:\\ProgramData\\Anaconda3\\lib\\site-packages\\seaborn\\_decorators.py:36: FutureWarning: Pass the following variables as keyword args: x, y. From version 0.12, the only valid positional argument will be `data`, and passing other arguments without an explicit keyword will result in an error or misinterpretation.\n",
      "  warnings.warn(\n"
     ]
    },
    {
     "data": {
      "text/plain": [
       "<AxesSubplot:xlabel='distance_in_km', ylabel='energy_used'>"
      ]
     },
     "execution_count": 178,
     "metadata": {},
     "output_type": "execute_result"
    },
    {
     "data": {
      "image/png": "[encoded data removed]",
      "text/plain": [
       "<Figure size 432x288 with 1 Axes>"
      ]
     },
     "metadata": {
      "needs_background": "light"
     },
     "output_type": "display_data"
    }
   ],
   "source": [
    "sns.scatterplot(p.distance_in_km,p.energy_used)"
   ]
  },
  {
   "cell_type": "code",
   "execution_count": 15,
   "id": "320fb7fc",
   "metadata": {},
   "outputs": [
    {
     "name": "stdout",
     "output_type": "stream",
     "text": [
      "6.798679759364715e-41\n"
     ]
    },
    {
     "data": {
      "text/plain": [
       "'not normally distributed'"
      ]
     },
     "execution_count": 15,
     "metadata": {},
     "output_type": "execute_result"
    }
   ],
   "source": [
    "nd_test(p.distance_in_km)"
   ]
  },
  {
   "cell_type": "code",
   "execution_count": 16,
   "id": "87058c28",
   "metadata": {},
   "outputs": [
    {
     "name": "stdout",
     "output_type": "stream",
     "text": [
      "3.7106383335321156e-42\n"
     ]
    },
    {
     "data": {
      "text/plain": [
       "'not normally distributed'"
      ]
     },
     "execution_count": 16,
     "metadata": {},
     "output_type": "execute_result"
    }
   ],
   "source": [
    "nd_test(p.energy_used)"
   ]
  },
  {
   "cell_type": "code",
   "execution_count": 37,
   "id": "a5239316",
   "metadata": {},
   "outputs": [
    {
     "data": {
      "text/html": [
       "<div>\n",
       "<style scoped>\n",
       "    .dataframe tbody tr th:only-of-type {\n",
       "        vertical-align: middle;\n",
       "    }\n",
       "\n",
       "    .dataframe tbody tr th {\n",
       "        vertical-align: top;\n",
       "    }\n",
       "\n",
       "    .dataframe thead th {\n",
       "        text-align: right;\n",
       "    }\n",
       "</style>\n",
       "<table border=\"1\" class=\"dataframe\">\n",
       "  <thead>\n",
       "    <tr style=\"text-align: right;\">\n",
       "      <th></th>\n",
       "      <th>cost</th>\n",
       "      <th>month</th>\n",
       "      <th>duration_ in_min</th>\n",
       "      <th>distance_in_km</th>\n",
       "      <th>assistance</th>\n",
       "      <th>energy_used</th>\n",
       "      <th>energy_collected</th>\n",
       "    </tr>\n",
       "  </thead>\n",
       "  <tbody>\n",
       "    <tr>\n",
       "      <th>cost</th>\n",
       "      <td>1.000000</td>\n",
       "      <td>-0.088871</td>\n",
       "      <td>0.738916</td>\n",
       "      <td>0.601756</td>\n",
       "      <td>0.041981</td>\n",
       "      <td>0.512829</td>\n",
       "      <td>0.535221</td>\n",
       "    </tr>\n",
       "    <tr>\n",
       "      <th>month</th>\n",
       "      <td>-0.088871</td>\n",
       "      <td>1.000000</td>\n",
       "      <td>0.043507</td>\n",
       "      <td>0.079862</td>\n",
       "      <td>0.224337</td>\n",
       "      <td>0.148577</td>\n",
       "      <td>0.110790</td>\n",
       "    </tr>\n",
       "    <tr>\n",
       "      <th>duration_ in_min</th>\n",
       "      <td>0.738916</td>\n",
       "      <td>0.043507</td>\n",
       "      <td>1.000000</td>\n",
       "      <td>0.828205</td>\n",
       "      <td>0.151506</td>\n",
       "      <td>0.757156</td>\n",
       "      <td>0.707323</td>\n",
       "    </tr>\n",
       "    <tr>\n",
       "      <th>distance_in_km</th>\n",
       "      <td>0.601756</td>\n",
       "      <td>0.079862</td>\n",
       "      <td>0.828205</td>\n",
       "      <td>1.000000</td>\n",
       "      <td>0.199372</td>\n",
       "      <td>0.884281</td>\n",
       "      <td>0.767050</td>\n",
       "    </tr>\n",
       "    <tr>\n",
       "      <th>assistance</th>\n",
       "      <td>0.041981</td>\n",
       "      <td>0.224337</td>\n",
       "      <td>0.151506</td>\n",
       "      <td>0.199372</td>\n",
       "      <td>1.000000</td>\n",
       "      <td>0.358112</td>\n",
       "      <td>0.215891</td>\n",
       "    </tr>\n",
       "    <tr>\n",
       "      <th>energy_used</th>\n",
       "      <td>0.512829</td>\n",
       "      <td>0.148577</td>\n",
       "      <td>0.757156</td>\n",
       "      <td>0.884281</td>\n",
       "      <td>0.358112</td>\n",
       "      <td>1.000000</td>\n",
       "      <td>0.736108</td>\n",
       "    </tr>\n",
       "    <tr>\n",
       "      <th>energy_collected</th>\n",
       "      <td>0.535221</td>\n",
       "      <td>0.110790</td>\n",
       "      <td>0.707323</td>\n",
       "      <td>0.767050</td>\n",
       "      <td>0.215891</td>\n",
       "      <td>0.736108</td>\n",
       "      <td>1.000000</td>\n",
       "    </tr>\n",
       "  </tbody>\n",
       "</table>\n",
       "</div>"
      ],
      "text/plain": [
       "                      cost     month  duration_ in_min  distance_in_km  \\\n",
       "cost              1.000000 -0.088871          0.738916        0.601756   \n",
       "month            -0.088871  1.000000          0.043507        0.079862   \n",
       "duration_ in_min  0.738916  0.043507          1.000000        0.828205   \n",
       "distance_in_km    0.601756  0.079862          0.828205        1.000000   \n",
       "assistance        0.041981  0.224337          0.151506        0.199372   \n",
       "energy_used       0.512829  0.148577          0.757156        0.884281   \n",
       "energy_collected  0.535221  0.110790          0.707323        0.767050   \n",
       "\n",
       "                  assistance  energy_used  energy_collected  \n",
       "cost                0.041981     0.512829          0.535221  \n",
       "month               0.224337     0.148577          0.110790  \n",
       "duration_ in_min    0.151506     0.757156          0.707323  \n",
       "distance_in_km      0.199372     0.884281          0.767050  \n",
       "assistance          1.000000     0.358112          0.215891  \n",
       "energy_used         0.358112     1.000000          0.736108  \n",
       "energy_collected    0.215891     0.736108          1.000000  "
      ]
     },
     "execution_count": 37,
     "metadata": {},
     "output_type": "execute_result"
    }
   ],
   "source": [
    "cor=df.corr()\n",
    "cor"
   ]
  },
  {
   "cell_type": "code",
   "execution_count": 35,
   "id": "56bee68f",
   "metadata": {},
   "outputs": [
    {
     "data": {
      "text/plain": [
       "<AxesSubplot:>"
      ]
     },
     "execution_count": 35,
     "metadata": {},
     "output_type": "execute_result"
    },
    {
     "data": {
      "image/png": "[encoded data removed]",
      "text/plain": [
       "<Figure size 432x288 with 2 Axes>"
      ]
     },
     "metadata": {
      "needs_background": "light"
     },
     "output_type": "display_data"
    }
   ],
   "source": [
    "sns.heatmap(cor,annot=True)"
   ]
  }
 ],
 "metadata": {
  "kernelspec": {
   "display_name": "Python 3 (ipykernel)",
   "language": "python",
   "name": "python3"
  },
  "language_info": {
   "codemirror_mode": {
    "name": "ipython",
    "version": 3
   },
   "file_extension": ".py",
   "mimetype": "text/x-python",
   "name": "python",
   "nbconvert_exporter": "python",
   "pygments_lexer": "ipython3",
   "version": "3.10.6"
  }
 },
 "nbformat": 4,
 "nbformat_minor": 5
}
