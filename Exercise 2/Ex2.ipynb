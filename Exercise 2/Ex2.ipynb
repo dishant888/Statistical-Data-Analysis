{
 "cells": [
  {
   "cell_type": "markdown",
   "id": "da7c7a94-92dd-44cb-9721-a5457a04c698",
   "metadata": {
    "tags": []
   },
   "source": [
    "# Exercise 2\n"
   ]
  },
  {
   "cell_type": "code",
   "execution_count": 55,
   "id": "143f8258-0269-457e-bc06-92a8e36e6155",
   "metadata": {},
   "outputs": [],
   "source": [
    "import pandas as pd\n",
    "from scipy import stats"
   ]
  },
  {
   "cell_type": "markdown",
   "id": "690538c9-b5a6-449b-a680-a2d97c7a3099",
   "metadata": {
    "jp-MarkdownHeadingCollapsed": true,
    "tags": []
   },
   "source": [
    "### 1."
   ]
  },
  {
   "cell_type": "code",
   "execution_count": 56,
   "id": "564efd80-9877-408c-9526-b03c744d5244",
   "metadata": {},
   "outputs": [],
   "source": [
    "A = pd.Series([34, 23, 52, 47, 34])\n",
    "B = pd.Series([48, 28, 33, 46, 41, 35])\n",
    "C = pd.Series([34, 53, 51, 35, 52, 32])"
   ]
  },
  {
   "cell_type": "code",
   "execution_count": 57,
   "id": "87ee5593-4f26-4954-8598-c93413bf4de0",
   "metadata": {},
   "outputs": [
    {
     "name": "stdout",
     "output_type": "stream",
     "text": [
      "0.6705435514450073\n",
      "0.7422794103622437\n",
      "0.03893893584609032\n"
     ]
    }
   ],
   "source": [
    "print(stats.shapiro(A).pvalue)\n",
    "print(stats.shapiro(B).pvalue)\n",
    "print(stats.shapiro(C).pvalue)\n"
   ]
  },
  {
   "cell_type": "markdown",
   "id": "c8660ecd-2475-467a-b4fa-cea4ebce08f9",
   "metadata": {
    "tags": []
   },
   "source": [
    "#### a.) A and B"
   ]
  },
  {
   "cell_type": "markdown",
   "id": "f0205f1a-633a-4d82-89a8-6e567e678f6f",
   "metadata": {
    "tags": []
   },
   "source": [
    "##### A and B are normally distributed (by shapiro test), also samples are independent. Therefore, we should select unpaired t-test"
   ]
  },
  {
   "cell_type": "code",
   "execution_count": 58,
   "id": "27a0affc-ba03-467e-8654-bfb63cd63935",
   "metadata": {},
   "outputs": [
    {
     "data": {
      "text/plain": [
       "0.9337389095379331"
      ]
     },
     "execution_count": 58,
     "metadata": {},
     "output_type": "execute_result"
    }
   ],
   "source": [
    "stats.ttest_ind(A,B).pvalue"
   ]
  },
  {
   "cell_type": "markdown",
   "id": "3441517c-bc49-4810-ae21-360a0c51e87e",
   "metadata": {
    "tags": []
   },
   "source": [
    "#### b.) A and C"
   ]
  },
  {
   "cell_type": "markdown",
   "id": "c8e7b33f-e36a-4956-afa3-2ed8ea71a8ca",
   "metadata": {},
   "source": [
    "##### A is normally distributed but C is not normally distributed (by shapiro test) and samples are independent. Therefore, we should select Mann–Whitney U test"
   ]
  },
  {
   "cell_type": "code",
   "execution_count": 59,
   "id": "0a066f9b-113b-4e1f-9635-95b9ccd85e79",
   "metadata": {},
   "outputs": [
    {
     "data": {
      "text/plain": [
       "0.46006503697094003"
      ]
     },
     "execution_count": 59,
     "metadata": {},
     "output_type": "execute_result"
    }
   ],
   "source": [
    "stats.mannwhitneyu(A,C).pvalue"
   ]
  },
  {
   "cell_type": "markdown",
   "id": "af079944-477f-4ce3-8d2d-300caa94df78",
   "metadata": {
    "tags": []
   },
   "source": [
    "#### c.) B and C"
   ]
  },
  {
   "cell_type": "markdown",
   "id": "a33105e0-2045-470a-84cd-5d82fbeba1d4",
   "metadata": {},
   "source": [
    "##### B is normally distributed but C is not normally distributed (by shapiro test) and samples are dependent(paired). Therefore, we should select Wilcoxon signed-rank test"
   ]
  },
  {
   "cell_type": "code",
   "execution_count": 60,
   "id": "682730ef-c568-41aa-9106-d090754a90f3",
   "metadata": {},
   "outputs": [
    {
     "data": {
      "text/plain": [
       "0.5625"
      ]
     },
     "execution_count": 60,
     "metadata": {},
     "output_type": "execute_result"
    }
   ],
   "source": [
    "stats.wilcoxon(B,C).pvalue"
   ]
  },
  {
   "cell_type": "markdown",
   "id": "2574423c-93cb-4dcf-94cf-4a71c93f50b2",
   "metadata": {
    "jp-MarkdownHeadingCollapsed": true,
    "tags": []
   },
   "source": [
    "### 3."
   ]
  },
  {
   "cell_type": "code",
   "execution_count": 61,
   "id": "bfdcac0b-5709-4e18-ae29-2b99091928e1",
   "metadata": {},
   "outputs": [],
   "source": [
    "D_test = pd.Series([5.6, 3.1, 8.7, 4.5, 6.7, 4.5])\n",
    "D_retest = pd.Series([6.1, 5.8, 8.5, 5.3, 7.2, 5.1])\n",
    "E_test = pd.Series([4.5, 3.9, 7.1, 4.3, 6.9, 8.2, 7.6])\n",
    "E_retest = pd.Series([4.9, 4.7, 7.8, 4.8, 7.5, 7.8, 8.1])"
   ]
  },
  {
   "cell_type": "code",
   "execution_count": 63,
   "id": "48723b37-dc52-455a-9d1e-582f56dad54c",
   "metadata": {},
   "outputs": [
    {
     "name": "stdout",
     "output_type": "stream",
     "text": [
      "D_test = 0.8002392649650574\n",
      "D_retest = 0.3768615424633026\n",
      "E_test = 0.16666603088378906\n",
      "E_retest = 0.014585546217858791\n"
     ]
    }
   ],
   "source": [
    "print(f'D_test = {stats.shapiro(D_test).pvalue}')\n",
    "print(f'D_retest = {stats.shapiro(D_retest).pvalue}')\n",
    "print(f'E_test = {stats.shapiro(E_test).pvalue}')\n",
    "print(f'E_retest = {stats.shapiro(E_retest).pvalue}')"
   ]
  },
  {
   "cell_type": "markdown",
   "id": "62add09d-6e99-4f35-84be-edef8fba4ff8",
   "metadata": {
    "tags": []
   },
   "source": [
    "#### a.) D_test and D_retest"
   ]
  },
  {
   "cell_type": "markdown",
   "id": "c1abb9a3-d2d1-4f25-851d-aa57b5bfc9a5",
   "metadata": {
    "tags": []
   },
   "source": [
    "##### D_test and D_retest are normally distributed and are dependent therefore we will use paired T-test"
   ]
  },
  {
   "cell_type": "code",
   "execution_count": null,
   "id": "db9159d4-c6f1-4c03-ab43-97ce9c4c2265",
   "metadata": {},
   "outputs": [
    {
     "data": {
      "text/plain": [
       "0.09740501217589806"
      ]
     },
     "execution_count": 38,
     "metadata": {},
     "output_type": "execute_result"
    }
   ],
   "source": [
    "stats.ttest_rel(D_test,D_retest).pvalue"
   ]
  },
  {
   "cell_type": "markdown",
   "id": "da8431b6-420d-453f-bb7e-c37869d62af5",
   "metadata": {
    "tags": []
   },
   "source": [
    "#### b.) E_test and E_retest"
   ]
  },
  {
   "cell_type": "markdown",
   "id": "77ce770c-070c-452a-bf02-003a55018f76",
   "metadata": {},
   "source": [
    "##### E_test and E_retest are not normally distributed and are dependent therefore we will use Wilcoxon signed-rank test"
   ]
  },
  {
   "cell_type": "code",
   "execution_count": null,
   "id": "4db409e6-fcd2-4ba8-8085-5b79bf8fa2a0",
   "metadata": {},
   "outputs": [
    {
     "data": {
      "text/plain": [
       "0.03125"
      ]
     },
     "execution_count": 39,
     "metadata": {},
     "output_type": "execute_result"
    }
   ],
   "source": [
    "stats.wilcoxon(E_test,E_retest,correction=True).pvalue"
   ]
  },
  {
   "cell_type": "markdown",
   "id": "9fa6bee4-c21b-4211-b58f-f01fcdf091c3",
   "metadata": {},
   "source": [
    "#### c.) D_test and E_test"
   ]
  },
  {
   "cell_type": "markdown",
   "id": "6d99f2f5-3b9d-4d15-9c70-8bb4ce583c30",
   "metadata": {},
   "source": [
    "##### D_test and E_test are normally distributed but are not dependent therefore we will use unpaired t-test"
   ]
  },
  {
   "cell_type": "code",
   "execution_count": null,
   "id": "b4852cc4-3f0f-4540-91cb-6e49df943202",
   "metadata": {},
   "outputs": [
    {
     "data": {
      "text/plain": [
       "0.6040909505950958"
      ]
     },
     "execution_count": 40,
     "metadata": {},
     "output_type": "execute_result"
    }
   ],
   "source": [
    "stats.ttest_ind(D_test,E_test).pvalue"
   ]
  },
  {
   "cell_type": "markdown",
   "id": "530369ef-ca8e-4674-82e2-5657c4da755a",
   "metadata": {
    "tags": []
   },
   "source": [
    "#### d.) D_retest and E_retest"
   ]
  },
  {
   "cell_type": "markdown",
   "id": "3d2c752d-cbfb-4bb2-b213-643eaf7bddf4",
   "metadata": {},
   "source": [
    "##### D_retest and E_retest are not normally distributed and are not dependent therefore we will use Mann–Whitney U test"
   ]
  },
  {
   "cell_type": "code",
   "execution_count": null,
   "id": "99c4c8df-da0c-4d9f-9b18-194af53bfe4d",
   "metadata": {
    "collapsed": true,
    "jupyter": {
     "outputs_hidden": true
    },
    "tags": []
   },
   "outputs": [
    {
     "data": {
      "text/plain": [
       "0.9429784240576059"
      ]
     },
     "execution_count": 41,
     "metadata": {},
     "output_type": "execute_result"
    }
   ],
   "source": [
    "stats.mannwhitneyu(D_retest,E_retest).pvalue"
   ]
  },
  {
   "cell_type": "markdown",
   "id": "9213f45e-3334-467d-ba1a-1b0b3d023366",
   "metadata": {
    "jp-MarkdownHeadingCollapsed": true,
    "tags": []
   },
   "source": [
    "### 4.\n"
   ]
  },
  {
   "cell_type": "markdown",
   "id": "a3ee2fa6-1aa9-4200-937a-64f1048fdf4c",
   "metadata": {
    "tags": []
   },
   "source": [
    "#### a.) Person correlation and related P-value."
   ]
  },
  {
   "cell_type": "code",
   "execution_count": null,
   "id": "587fe8ee-b2dc-4905-a539-78bbd9d31bef",
   "metadata": {},
   "outputs": [
    {
     "data": {
      "text/plain": [
       "PearsonRResult(statistic=0.9773664314916523, pvalue=0.00014623458861243846)"
      ]
     },
     "execution_count": 42,
     "metadata": {},
     "output_type": "execute_result"
    }
   ],
   "source": [
    "stats.pearsonr(E_test,E_retest)"
   ]
  },
  {
   "cell_type": "markdown",
   "id": "153db9a7-5953-4310-bab0-24d67042d643",
   "metadata": {},
   "source": [
    "##### E_test and E_retest have a positive correlation"
   ]
  },
  {
   "cell_type": "markdown",
   "id": "b387607c-eda5-45e7-86ac-e1282d4dccbc",
   "metadata": {
    "tags": []
   },
   "source": [
    "#### b.) Spearsman correlation and related P-value."
   ]
  },
  {
   "cell_type": "code",
   "execution_count": 64,
   "id": "b515e5cd-77da-487a-acef-b2bc863f329e",
   "metadata": {},
   "outputs": [
    {
     "data": {
      "text/plain": [
       "SpearmanrResult(correlation=0.9369749612033814, pvalue=0.0018510301964418906)"
      ]
     },
     "execution_count": 64,
     "metadata": {},
     "output_type": "execute_result"
    }
   ],
   "source": [
    "stats.spearmanr(E_test,E_retest)"
   ]
  },
  {
   "cell_type": "markdown",
   "id": "aedd38c7-d619-4126-b7b9-ab945adf8141",
   "metadata": {},
   "source": [
    "##### E_test and E_retest have a positive correlation"
   ]
  },
  {
   "cell_type": "markdown",
   "id": "475dabd7-388f-4ad9-9ee3-a0ffe504fc3d",
   "metadata": {
    "tags": []
   },
   "source": [
    "#### c.) Rank the two groups. (For same values use half. E.g. if there are two values with the smallest value, then rank them both 1.5.)"
   ]
  },
  {
   "cell_type": "code",
   "execution_count": null,
   "id": "215bb96c-888a-489c-8714-f53d347ef2c6",
   "metadata": {},
   "outputs": [],
   "source": [
    "E_test_rank = pd.Series(E_test.rank()) # or stats.rankdata(E_test)"
   ]
  },
  {
   "cell_type": "code",
   "execution_count": null,
   "id": "fd387a10-abd4-4261-a36a-19f527d32167",
   "metadata": {},
   "outputs": [],
   "source": [
    "E_retest_rank = pd.Series(E_retest.rank()) # or stats.rankdata(E_retest)"
   ]
  },
  {
   "cell_type": "code",
   "execution_count": null,
   "id": "24af0034-2b69-4f05-a70c-f4f2309a81eb",
   "metadata": {},
   "outputs": [],
   "source": [
    "data = {'E_test': E_test, 'E_test_rank': E_test_rank, 'E_retest': E_retest, 'E_retest_rank': E_retest_rank}"
   ]
  },
  {
   "cell_type": "code",
   "execution_count": null,
   "id": "c4742f5b-84f0-48c6-8f52-726d6fd82d72",
   "metadata": {},
   "outputs": [
    {
     "data": {
      "text/html": [
       "<div>\n",
       "<style scoped>\n",
       "    .dataframe tbody tr th:only-of-type {\n",
       "        vertical-align: middle;\n",
       "    }\n",
       "\n",
       "    .dataframe tbody tr th {\n",
       "        vertical-align: top;\n",
       "    }\n",
       "\n",
       "    .dataframe thead th {\n",
       "        text-align: right;\n",
       "    }\n",
       "</style>\n",
       "<table border=\"1\" class=\"dataframe\">\n",
       "  <thead>\n",
       "    <tr style=\"text-align: right;\">\n",
       "      <th></th>\n",
       "      <th>E_test</th>\n",
       "      <th>E_test_rank</th>\n",
       "      <th>E_retest</th>\n",
       "      <th>E_retest_rank</th>\n",
       "    </tr>\n",
       "  </thead>\n",
       "  <tbody>\n",
       "    <tr>\n",
       "      <th>0</th>\n",
       "      <td>4.5</td>\n",
       "      <td>3.0</td>\n",
       "      <td>4.9</td>\n",
       "      <td>3.0</td>\n",
       "    </tr>\n",
       "    <tr>\n",
       "      <th>1</th>\n",
       "      <td>3.9</td>\n",
       "      <td>1.0</td>\n",
       "      <td>4.7</td>\n",
       "      <td>1.0</td>\n",
       "    </tr>\n",
       "    <tr>\n",
       "      <th>2</th>\n",
       "      <td>7.1</td>\n",
       "      <td>5.0</td>\n",
       "      <td>7.8</td>\n",
       "      <td>5.5</td>\n",
       "    </tr>\n",
       "    <tr>\n",
       "      <th>3</th>\n",
       "      <td>4.3</td>\n",
       "      <td>2.0</td>\n",
       "      <td>4.8</td>\n",
       "      <td>2.0</td>\n",
       "    </tr>\n",
       "    <tr>\n",
       "      <th>4</th>\n",
       "      <td>6.9</td>\n",
       "      <td>4.0</td>\n",
       "      <td>7.5</td>\n",
       "      <td>4.0</td>\n",
       "    </tr>\n",
       "    <tr>\n",
       "      <th>5</th>\n",
       "      <td>8.2</td>\n",
       "      <td>7.0</td>\n",
       "      <td>7.8</td>\n",
       "      <td>5.5</td>\n",
       "    </tr>\n",
       "    <tr>\n",
       "      <th>6</th>\n",
       "      <td>7.6</td>\n",
       "      <td>6.0</td>\n",
       "      <td>8.1</td>\n",
       "      <td>7.0</td>\n",
       "    </tr>\n",
       "  </tbody>\n",
       "</table>\n",
       "</div>"
      ],
      "text/plain": [
       "   E_test  E_test_rank  E_retest  E_retest_rank\n",
       "0     4.5          3.0       4.9            3.0\n",
       "1     3.9          1.0       4.7            1.0\n",
       "2     7.1          5.0       7.8            5.5\n",
       "3     4.3          2.0       4.8            2.0\n",
       "4     6.9          4.0       7.5            4.0\n",
       "5     8.2          7.0       7.8            5.5\n",
       "6     7.6          6.0       8.1            7.0"
      ]
     },
     "execution_count": 47,
     "metadata": {},
     "output_type": "execute_result"
    }
   ],
   "source": [
    "pd.DataFrame(data)"
   ]
  },
  {
   "cell_type": "markdown",
   "id": "857a6af7-3899-4c28-82db-56ea9ffaf8bc",
   "metadata": {
    "tags": []
   },
   "source": [
    "#### d.) Pearson correlation and related P-value of the ranking obtained in c)."
   ]
  },
  {
   "cell_type": "code",
   "execution_count": null,
   "id": "118c6e0b-e484-4fa9-a8fd-23dfe7eb5c26",
   "metadata": {},
   "outputs": [
    {
     "data": {
      "text/plain": [
       "PearsonRResult(statistic=0.9369749612033812, pvalue=0.001851030196441908)"
      ]
     },
     "execution_count": 48,
     "metadata": {},
     "output_type": "execute_result"
    }
   ],
   "source": [
    "stats.pearsonr(E_test_rank,E_retest_rank)"
   ]
  },
  {
   "cell_type": "markdown",
   "id": "25399ab5-7312-48ee-8380-b1d2cf39c3d2",
   "metadata": {
    "jp-MarkdownHeadingCollapsed": true,
    "tags": []
   },
   "source": [
    "### 5.\n"
   ]
  },
  {
   "cell_type": "code",
   "execution_count": null,
   "id": "145e9dc1-374c-4a4a-ae0a-d851ea936882",
   "metadata": {},
   "outputs": [],
   "source": [
    "DF = pd.read_csv('simulated_data_2_5.csv')"
   ]
  },
  {
   "cell_type": "code",
   "execution_count": null,
   "id": "89c18043-4380-4f3c-bbf4-376ac593de94",
   "metadata": {},
   "outputs": [
    {
     "name": "stdout",
     "output_type": "stream",
     "text": [
      "F =  ShapiroResult(statistic=0.981221079826355, pvalue=0.16530661284923553)\n",
      "G =  ShapiroResult(statistic=0.9873127937316895, pvalue=0.4589977264404297)\n",
      "H =  ShapiroResult(statistic=0.9940239787101746, pvalue=0.9414567351341248)\n",
      "I =  ShapiroResult(statistic=0.9525562524795532, pvalue=0.0012272947933524847)\n"
     ]
    }
   ],
   "source": [
    "print('F = ',stats.shapiro(DF['F']))\n",
    "print('G = ',stats.shapiro(DF['G']))\n",
    "print('H = ',stats.shapiro(DF['H']))\n",
    "print('I = ',stats.shapiro(DF['I']))"
   ]
  },
  {
   "cell_type": "markdown",
   "id": "06d478d8-f0ad-4a24-95d1-d54d78d907e0",
   "metadata": {},
   "source": [
    "#### a.) compare columns F and G"
   ]
  },
  {
   "cell_type": "code",
   "execution_count": null,
   "id": "9a541745-dae5-416a-aa3b-900598d1a40b",
   "metadata": {},
   "outputs": [
    {
     "data": {
      "text/plain": [
       "PearsonRResult(statistic=0.031276709760819636, pvalue=0.7573896651044785)"
      ]
     },
     "execution_count": 51,
     "metadata": {},
     "output_type": "execute_result"
    }
   ],
   "source": [
    "stats.pearsonr(DF['F'],DF['G'])"
   ]
  },
  {
   "cell_type": "markdown",
   "id": "01ef73d7-d6fd-45ac-9c2b-11725e1e01e3",
   "metadata": {},
   "source": [
    "#### b.) compare columns F and H"
   ]
  },
  {
   "cell_type": "code",
   "execution_count": null,
   "id": "c5758e5c-95ff-4a1f-bef2-ee4a11ad8f7c",
   "metadata": {},
   "outputs": [
    {
     "data": {
      "text/plain": [
       "PearsonRResult(statistic=-0.14484643591125076, pvalue=0.15047712860205548)"
      ]
     },
     "execution_count": 52,
     "metadata": {},
     "output_type": "execute_result"
    }
   ],
   "source": [
    "stats.pearsonr(DF['F'],DF['H'])"
   ]
  },
  {
   "cell_type": "markdown",
   "id": "765745e9-26c6-43c2-bf58-6b92430eb1ae",
   "metadata": {},
   "source": [
    "#### c.) compare columns F and I"
   ]
  },
  {
   "cell_type": "code",
   "execution_count": null,
   "id": "1d4230cf-467f-4dd1-a314-dd42a7820e60",
   "metadata": {},
   "outputs": [
    {
     "data": {
      "text/plain": [
       "SpearmanrResult(correlation=0.09838701934793813, pvalue=0.33012316364786476)"
      ]
     },
     "execution_count": 53,
     "metadata": {},
     "output_type": "execute_result"
    }
   ],
   "source": [
    "stats.spearmanr(DF['F'],DF['I'])"
   ]
  },
  {
   "cell_type": "code",
   "execution_count": null,
   "id": "69b310b4-7025-4c9b-88ba-2b6f6ada55cb",
   "metadata": {},
   "outputs": [],
   "source": []
  }
 ],
 "metadata": {
  "kernelspec": {
   "display_name": "Python 3.10.6 64-bit",
   "language": "python",
   "name": "python3"
  },
  "language_info": {
   "codemirror_mode": {
    "name": "ipython",
    "version": 3
   },
   "file_extension": ".py",
   "mimetype": "text/x-python",
   "name": "python",
   "nbconvert_exporter": "python",
   "pygments_lexer": "ipython3",
   "version": "3.10.6"
  },
  "vscode": {
   "interpreter": {
    "hash": "55b303367486b8095d36d0544b53e8d3aaa681ea9381f95fa0e21d0a9d127300"
   }
  }
 },
 "nbformat": 4,
 "nbformat_minor": 5
}
