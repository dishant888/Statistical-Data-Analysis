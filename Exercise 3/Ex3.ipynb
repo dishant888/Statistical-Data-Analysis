{
 "cells": [
  {
   "cell_type": "markdown",
   "metadata": {},
   "source": [
    "# Exercise 3"
   ]
  },
  {
   "cell_type": "code",
   "execution_count": 117,
   "metadata": {},
   "outputs": [],
   "source": [
    "import pandas as pd\n",
    "from scipy import stats\n",
    "import numpy as np"
   ]
  },
  {
   "cell_type": "markdown",
   "metadata": {},
   "source": [
    "### 1."
   ]
  },
  {
   "cell_type": "markdown",
   "metadata": {},
   "source": [
    "#### a) 2,3,5,4,4,3   4,2,3,5,2,3   3,1,4,4,3,5"
   ]
  },
  {
   "cell_type": "code",
   "execution_count": 118,
   "metadata": {},
   "outputs": [],
   "source": [
    "DF = pd.DataFrame({'A':[2,3,5,4,4,3],'B':[4,2,3,5,2,3],'C':[3,1,4,4,3,5]})"
   ]
  },
  {
   "cell_type": "code",
   "execution_count": 119,
   "metadata": {},
   "outputs": [
    {
     "name": "stdout",
     "output_type": "stream",
     "text": [
      "Shapiro test on A = 0.8200848698616028\n",
      "Shapiro test on B = 0.4206596314907074\n",
      "Shapiro test on C = 0.5543804168701172\n"
     ]
    }
   ],
   "source": [
    "print('Shapiro test on A =', stats.shapiro(DF['A']).pvalue)\n",
    "print('Shapiro test on B =', stats.shapiro(DF['B']).pvalue)\n",
    "print('Shapiro test on C =', stats.shapiro(DF['C']).pvalue)"
   ]
  },
  {
   "cell_type": "markdown",
   "metadata": {},
   "source": [
    "##### A,B and C are normally distributed, therefore we can use one-way ANOVA"
   ]
  },
  {
   "cell_type": "code",
   "execution_count": 120,
   "metadata": {},
   "outputs": [
    {
     "data": {
      "text/plain": [
       "0.8918065510154998"
      ]
     },
     "execution_count": 120,
     "metadata": {},
     "output_type": "execute_result"
    }
   ],
   "source": [
    "stats.f_oneway(DF['A'],DF['B'],DF['C']).pvalue"
   ]
  },
  {
   "cell_type": "markdown",
   "metadata": {},
   "source": [
    "#### b) Fi,Sw,Fi,No,Sw,Fi No,Sw,No,Fi,Fi,Fi Sw,Fi,No,Sw,Sw,No"
   ]
  },
  {
   "cell_type": "code",
   "execution_count": 121,
   "metadata": {},
   "outputs": [],
   "source": [
    "data1 = pd.Series(['Fi','Sw','Fi','No','Sw','Fi'])\n",
    "data2 = pd.Series(['No','Sw','No','Fi','Fi','Fi'])\n",
    "data3 = pd.Series(['Sw','Fi','No','Sw','Sw','No'])\n",
    "\n"
   ]
  },
  {
   "cell_type": "code",
   "execution_count": 122,
   "metadata": {},
   "outputs": [
    {
     "data": {
      "text/html": [
       "<div>\n",
       "<style scoped>\n",
       "    .dataframe tbody tr th:only-of-type {\n",
       "        vertical-align: middle;\n",
       "    }\n",
       "\n",
       "    .dataframe tbody tr th {\n",
       "        vertical-align: top;\n",
       "    }\n",
       "\n",
       "    .dataframe thead th {\n",
       "        text-align: right;\n",
       "    }\n",
       "</style>\n",
       "<table border=\"1\" class=\"dataframe\">\n",
       "  <thead>\n",
       "    <tr style=\"text-align: right;\">\n",
       "      <th></th>\n",
       "      <th>Data 1</th>\n",
       "      <th>Data 2</th>\n",
       "      <th>Data 3</th>\n",
       "    </tr>\n",
       "  </thead>\n",
       "  <tbody>\n",
       "    <tr>\n",
       "      <th>Fi</th>\n",
       "      <td>3</td>\n",
       "      <td>3</td>\n",
       "      <td>1</td>\n",
       "    </tr>\n",
       "    <tr>\n",
       "      <th>No</th>\n",
       "      <td>1</td>\n",
       "      <td>2</td>\n",
       "      <td>2</td>\n",
       "    </tr>\n",
       "    <tr>\n",
       "      <th>Sw</th>\n",
       "      <td>2</td>\n",
       "      <td>1</td>\n",
       "      <td>3</td>\n",
       "    </tr>\n",
       "  </tbody>\n",
       "</table>\n",
       "</div>"
      ],
      "text/plain": [
       "    Data 1  Data 2  Data 3\n",
       "Fi       3       3       1\n",
       "No       1       2       2\n",
       "Sw       2       1       3"
      ]
     },
     "execution_count": 122,
     "metadata": {},
     "output_type": "execute_result"
    }
   ],
   "source": [
    "DF = pd.DataFrame({'Data 1': data1.value_counts(),'Data 2': data2.value_counts(),'Data 3':data3.value_counts()})\n",
    "DF"
   ]
  },
  {
   "cell_type": "code",
   "execution_count": 123,
   "metadata": {},
   "outputs": [
    {
     "data": {
      "text/plain": [
       "0.6369783501089177"
      ]
     },
     "execution_count": 123,
     "metadata": {},
     "output_type": "execute_result"
    }
   ],
   "source": [
    "stats.chi2_contingency(DF)[1]"
   ]
  },
  {
   "cell_type": "markdown",
   "metadata": {},
   "source": [
    "### 2."
   ]
  },
  {
   "cell_type": "markdown",
   "metadata": {},
   "source": [
    "#### a.) Article 4 Fig. 3(j) quantitative variable - Unpaird Kruskal-Wallis test"
   ]
  },
  {
   "cell_type": "markdown",
   "metadata": {},
   "source": [
    "#### b.) \n",
    "x-axis 0 number of covid-19 tests, log-transformed\n",
    "y-axis "
   ]
  },
  {
   "cell_type": "markdown",
   "metadata": {},
   "source": [
    "### 3.\n"
   ]
  },
  {
   "cell_type": "code",
   "execution_count": 124,
   "metadata": {},
   "outputs": [
    {
     "name": "stdout",
     "output_type": "stream",
     "text": [
      "F =  ShapiroResult(statistic=0.981221079826355, pvalue=0.16530661284923553)\n",
      "G =  ShapiroResult(statistic=0.9873127937316895, pvalue=0.4589977264404297)\n",
      "H =  ShapiroResult(statistic=0.9940239787101746, pvalue=0.9414567351341248)\n",
      "I =  ShapiroResult(statistic=0.9525562524795532, pvalue=0.0012272947933524847)\n"
     ]
    }
   ],
   "source": [
    "DF = pd.read_csv('simulated_data_2_5.csv')\n",
    "print('F = ',stats.shapiro(DF['F']))\n",
    "print('G = ',stats.shapiro(DF['G']))\n",
    "print('H = ',stats.shapiro(DF['H']))\n",
    "print('I = ',stats.shapiro(DF['I']))"
   ]
  },
  {
   "cell_type": "markdown",
   "metadata": {},
   "source": [
    "#### a) to compare columns F, G and H."
   ]
  },
  {
   "cell_type": "code",
   "execution_count": 125,
   "metadata": {},
   "outputs": [
    {
     "data": {
      "text/plain": [
       "F_onewayResult(statistic=3.2466738735457517, pvalue=0.040288402932985905)"
      ]
     },
     "execution_count": 125,
     "metadata": {},
     "output_type": "execute_result"
    }
   ],
   "source": [
    "stats.f_oneway(DF['F'],DF['G'],DF['H'])"
   ]
  },
  {
   "cell_type": "markdown",
   "metadata": {},
   "source": [
    "#### b) to compare columns F, G and I."
   ]
  },
  {
   "cell_type": "code",
   "execution_count": 126,
   "metadata": {},
   "outputs": [
    {
     "data": {
      "text/plain": [
       "KruskalResult(statistic=36.478331163305846, pvalue=1.1990327166649803e-08)"
      ]
     },
     "execution_count": 126,
     "metadata": {},
     "output_type": "execute_result"
    }
   ],
   "source": [
    "stats.kruskal(DF['F'],DF['G'],DF['I'])"
   ]
  },
  {
   "cell_type": "markdown",
   "metadata": {},
   "source": [
    "4. "
   ]
  },
  {
   "cell_type": "markdown",
   "metadata": {},
   "source": [
    "### 5."
   ]
  },
  {
   "cell_type": "code",
   "execution_count": 127,
   "metadata": {},
   "outputs": [],
   "source": [
    "columns = ['Surgery','Age','Hospital_Number','Rectal_temperature','Pulse','Respiratory_rate','Temperature_of_extremities','Peripheral_pulse','Mucous_membranes','Capillary_refill_time','Pain','Peristalsis','Abdominal_distension','Nasogastric_tube','Nasogastric_reflux','Nasogastric_reflux_PH','Rectal_examination_feces','Abdomen','Packed_cell_volume','Total_protein','Abdominocentesis_appearance','Abdomcentesis_total_protein','Outcome','Surgical_lesion','type_of_lesion_1','type_of_lesion_2','type_of_lesion_3','cp_data']"
   ]
  },
  {
   "cell_type": "code",
   "execution_count": 128,
   "metadata": {},
   "outputs": [
    {
     "data": {
      "text/html": [
       "<div>\n",
       "<style scoped>\n",
       "    .dataframe tbody tr th:only-of-type {\n",
       "        vertical-align: middle;\n",
       "    }\n",
       "\n",
       "    .dataframe tbody tr th {\n",
       "        vertical-align: top;\n",
       "    }\n",
       "\n",
       "    .dataframe thead th {\n",
       "        text-align: right;\n",
       "    }\n",
       "</style>\n",
       "<table border=\"1\" class=\"dataframe\">\n",
       "  <thead>\n",
       "    <tr style=\"text-align: right;\">\n",
       "      <th></th>\n",
       "      <th>Surgery</th>\n",
       "      <th>Age</th>\n",
       "      <th>Hospital_Number</th>\n",
       "      <th>Rectal_temperature</th>\n",
       "      <th>Pulse</th>\n",
       "      <th>Respiratory_rate</th>\n",
       "      <th>Temperature_of_extremities</th>\n",
       "      <th>Peripheral_pulse</th>\n",
       "      <th>Mucous_membranes</th>\n",
       "      <th>Capillary_refill_time</th>\n",
       "      <th>...</th>\n",
       "      <th>Packed_cell_volume</th>\n",
       "      <th>Total_protein</th>\n",
       "      <th>Abdominocentesis_appearance</th>\n",
       "      <th>Abdomcentesis_total_protein</th>\n",
       "      <th>Outcome</th>\n",
       "      <th>Surgical_lesion</th>\n",
       "      <th>type_of_lesion_1</th>\n",
       "      <th>type_of_lesion_2</th>\n",
       "      <th>type_of_lesion_3</th>\n",
       "      <th>cp_data</th>\n",
       "    </tr>\n",
       "  </thead>\n",
       "  <tbody>\n",
       "    <tr>\n",
       "      <th>0</th>\n",
       "      <td>2</td>\n",
       "      <td>1</td>\n",
       "      <td>530101</td>\n",
       "      <td>38.50</td>\n",
       "      <td>66</td>\n",
       "      <td>28</td>\n",
       "      <td>3</td>\n",
       "      <td>3</td>\n",
       "      <td>NaN</td>\n",
       "      <td>2</td>\n",
       "      <td>...</td>\n",
       "      <td>45.00</td>\n",
       "      <td>8.40</td>\n",
       "      <td>NaN</td>\n",
       "      <td>NaN</td>\n",
       "      <td>2</td>\n",
       "      <td>2</td>\n",
       "      <td>11300</td>\n",
       "      <td>0</td>\n",
       "      <td>0</td>\n",
       "      <td>2</td>\n",
       "    </tr>\n",
       "    <tr>\n",
       "      <th>1</th>\n",
       "      <td>1</td>\n",
       "      <td>1</td>\n",
       "      <td>534817</td>\n",
       "      <td>39.2</td>\n",
       "      <td>88</td>\n",
       "      <td>20</td>\n",
       "      <td>NaN</td>\n",
       "      <td>NaN</td>\n",
       "      <td>4</td>\n",
       "      <td>1</td>\n",
       "      <td>...</td>\n",
       "      <td>50</td>\n",
       "      <td>85</td>\n",
       "      <td>2</td>\n",
       "      <td>2</td>\n",
       "      <td>3</td>\n",
       "      <td>2</td>\n",
       "      <td>2208</td>\n",
       "      <td>0</td>\n",
       "      <td>0</td>\n",
       "      <td>2</td>\n",
       "    </tr>\n",
       "    <tr>\n",
       "      <th>2</th>\n",
       "      <td>2</td>\n",
       "      <td>1</td>\n",
       "      <td>530334</td>\n",
       "      <td>38.30</td>\n",
       "      <td>40</td>\n",
       "      <td>24</td>\n",
       "      <td>1</td>\n",
       "      <td>1</td>\n",
       "      <td>3</td>\n",
       "      <td>1</td>\n",
       "      <td>...</td>\n",
       "      <td>33.00</td>\n",
       "      <td>6.70</td>\n",
       "      <td>NaN</td>\n",
       "      <td>NaN</td>\n",
       "      <td>1</td>\n",
       "      <td>2</td>\n",
       "      <td>0</td>\n",
       "      <td>0</td>\n",
       "      <td>0</td>\n",
       "      <td>1</td>\n",
       "    </tr>\n",
       "    <tr>\n",
       "      <th>3</th>\n",
       "      <td>1</td>\n",
       "      <td>9</td>\n",
       "      <td>5290409</td>\n",
       "      <td>39.10</td>\n",
       "      <td>164</td>\n",
       "      <td>84</td>\n",
       "      <td>4</td>\n",
       "      <td>1</td>\n",
       "      <td>6</td>\n",
       "      <td>2</td>\n",
       "      <td>...</td>\n",
       "      <td>48.00</td>\n",
       "      <td>7.20</td>\n",
       "      <td>3</td>\n",
       "      <td>5.30</td>\n",
       "      <td>2</td>\n",
       "      <td>1</td>\n",
       "      <td>2208</td>\n",
       "      <td>0</td>\n",
       "      <td>0</td>\n",
       "      <td>1</td>\n",
       "    </tr>\n",
       "    <tr>\n",
       "      <th>4</th>\n",
       "      <td>2</td>\n",
       "      <td>1</td>\n",
       "      <td>530255</td>\n",
       "      <td>37.30</td>\n",
       "      <td>104</td>\n",
       "      <td>35</td>\n",
       "      <td>NaN</td>\n",
       "      <td>NaN</td>\n",
       "      <td>6</td>\n",
       "      <td>2</td>\n",
       "      <td>...</td>\n",
       "      <td>74.00</td>\n",
       "      <td>7.40</td>\n",
       "      <td>NaN</td>\n",
       "      <td>NaN</td>\n",
       "      <td>2</td>\n",
       "      <td>2</td>\n",
       "      <td>4300</td>\n",
       "      <td>0</td>\n",
       "      <td>0</td>\n",
       "      <td>2</td>\n",
       "    </tr>\n",
       "    <tr>\n",
       "      <th>...</th>\n",
       "      <td>...</td>\n",
       "      <td>...</td>\n",
       "      <td>...</td>\n",
       "      <td>...</td>\n",
       "      <td>...</td>\n",
       "      <td>...</td>\n",
       "      <td>...</td>\n",
       "      <td>...</td>\n",
       "      <td>...</td>\n",
       "      <td>...</td>\n",
       "      <td>...</td>\n",
       "      <td>...</td>\n",
       "      <td>...</td>\n",
       "      <td>...</td>\n",
       "      <td>...</td>\n",
       "      <td>...</td>\n",
       "      <td>...</td>\n",
       "      <td>...</td>\n",
       "      <td>...</td>\n",
       "      <td>...</td>\n",
       "      <td>...</td>\n",
       "    </tr>\n",
       "    <tr>\n",
       "      <th>295</th>\n",
       "      <td>1</td>\n",
       "      <td>1</td>\n",
       "      <td>533886</td>\n",
       "      <td>NaN</td>\n",
       "      <td>120</td>\n",
       "      <td>70</td>\n",
       "      <td>4</td>\n",
       "      <td>NaN</td>\n",
       "      <td>4</td>\n",
       "      <td>2</td>\n",
       "      <td>...</td>\n",
       "      <td>55</td>\n",
       "      <td>65</td>\n",
       "      <td>NaN</td>\n",
       "      <td>NaN</td>\n",
       "      <td>3</td>\n",
       "      <td>2</td>\n",
       "      <td>3205</td>\n",
       "      <td>0</td>\n",
       "      <td>0</td>\n",
       "      <td>2</td>\n",
       "    </tr>\n",
       "    <tr>\n",
       "      <th>296</th>\n",
       "      <td>2</td>\n",
       "      <td>1</td>\n",
       "      <td>527702</td>\n",
       "      <td>37.20</td>\n",
       "      <td>72</td>\n",
       "      <td>24</td>\n",
       "      <td>3</td>\n",
       "      <td>2</td>\n",
       "      <td>4</td>\n",
       "      <td>2</td>\n",
       "      <td>...</td>\n",
       "      <td>44.00</td>\n",
       "      <td>NaN</td>\n",
       "      <td>3</td>\n",
       "      <td>3.30</td>\n",
       "      <td>3</td>\n",
       "      <td>1</td>\n",
       "      <td>2208</td>\n",
       "      <td>0</td>\n",
       "      <td>0</td>\n",
       "      <td>1</td>\n",
       "    </tr>\n",
       "    <tr>\n",
       "      <th>297</th>\n",
       "      <td>1</td>\n",
       "      <td>1</td>\n",
       "      <td>529386</td>\n",
       "      <td>37.50</td>\n",
       "      <td>72</td>\n",
       "      <td>30</td>\n",
       "      <td>4</td>\n",
       "      <td>3</td>\n",
       "      <td>4</td>\n",
       "      <td>1</td>\n",
       "      <td>...</td>\n",
       "      <td>60.00</td>\n",
       "      <td>6.80</td>\n",
       "      <td>NaN</td>\n",
       "      <td>NaN</td>\n",
       "      <td>2</td>\n",
       "      <td>1</td>\n",
       "      <td>3205</td>\n",
       "      <td>0</td>\n",
       "      <td>0</td>\n",
       "      <td>2</td>\n",
       "    </tr>\n",
       "    <tr>\n",
       "      <th>298</th>\n",
       "      <td>1</td>\n",
       "      <td>1</td>\n",
       "      <td>530612</td>\n",
       "      <td>36.50</td>\n",
       "      <td>100</td>\n",
       "      <td>24</td>\n",
       "      <td>3</td>\n",
       "      <td>3</td>\n",
       "      <td>3</td>\n",
       "      <td>1</td>\n",
       "      <td>...</td>\n",
       "      <td>50.00</td>\n",
       "      <td>6.00</td>\n",
       "      <td>3</td>\n",
       "      <td>3.40</td>\n",
       "      <td>1</td>\n",
       "      <td>1</td>\n",
       "      <td>2208</td>\n",
       "      <td>0</td>\n",
       "      <td>0</td>\n",
       "      <td>1</td>\n",
       "    </tr>\n",
       "    <tr>\n",
       "      <th>299</th>\n",
       "      <td>1</td>\n",
       "      <td>1</td>\n",
       "      <td>534618</td>\n",
       "      <td>37.2</td>\n",
       "      <td>40</td>\n",
       "      <td>20</td>\n",
       "      <td>NaN</td>\n",
       "      <td>NaN</td>\n",
       "      <td>NaN</td>\n",
       "      <td>NaN</td>\n",
       "      <td>...</td>\n",
       "      <td>36</td>\n",
       "      <td>62</td>\n",
       "      <td>1</td>\n",
       "      <td>1</td>\n",
       "      <td>3</td>\n",
       "      <td>2</td>\n",
       "      <td>6112</td>\n",
       "      <td>0</td>\n",
       "      <td>0</td>\n",
       "      <td>2</td>\n",
       "    </tr>\n",
       "  </tbody>\n",
       "</table>\n",
       "<p>300 rows × 28 columns</p>\n",
       "</div>"
      ],
      "text/plain": [
       "    Surgery  Age  Hospital_Number Rectal_temperature Pulse Respiratory_rate  \\\n",
       "0         2    1           530101              38.50    66               28   \n",
       "1         1    1           534817               39.2    88               20   \n",
       "2         2    1           530334              38.30    40               24   \n",
       "3         1    9          5290409              39.10   164               84   \n",
       "4         2    1           530255              37.30   104               35   \n",
       "..      ...  ...              ...                ...   ...              ...   \n",
       "295       1    1           533886                NaN   120               70   \n",
       "296       2    1           527702              37.20    72               24   \n",
       "297       1    1           529386              37.50    72               30   \n",
       "298       1    1           530612              36.50   100               24   \n",
       "299       1    1           534618               37.2    40               20   \n",
       "\n",
       "    Temperature_of_extremities Peripheral_pulse Mucous_membranes  \\\n",
       "0                            3                3              NaN   \n",
       "1                          NaN              NaN                4   \n",
       "2                            1                1                3   \n",
       "3                            4                1                6   \n",
       "4                          NaN              NaN                6   \n",
       "..                         ...              ...              ...   \n",
       "295                          4              NaN                4   \n",
       "296                          3                2                4   \n",
       "297                          4                3                4   \n",
       "298                          3                3                3   \n",
       "299                        NaN              NaN              NaN   \n",
       "\n",
       "    Capillary_refill_time  ... Packed_cell_volume Total_protein  \\\n",
       "0                       2  ...              45.00          8.40   \n",
       "1                       1  ...                 50            85   \n",
       "2                       1  ...              33.00          6.70   \n",
       "3                       2  ...              48.00          7.20   \n",
       "4                       2  ...              74.00          7.40   \n",
       "..                    ...  ...                ...           ...   \n",
       "295                     2  ...                 55            65   \n",
       "296                     2  ...              44.00           NaN   \n",
       "297                     1  ...              60.00          6.80   \n",
       "298                     1  ...              50.00          6.00   \n",
       "299                   NaN  ...                 36            62   \n",
       "\n",
       "    Abdominocentesis_appearance Abdomcentesis_total_protein Outcome  \\\n",
       "0                           NaN                         NaN       2   \n",
       "1                             2                           2       3   \n",
       "2                           NaN                         NaN       1   \n",
       "3                             3                        5.30       2   \n",
       "4                           NaN                         NaN       2   \n",
       "..                          ...                         ...     ...   \n",
       "295                         NaN                         NaN       3   \n",
       "296                           3                        3.30       3   \n",
       "297                         NaN                         NaN       2   \n",
       "298                           3                        3.40       1   \n",
       "299                           1                           1       3   \n",
       "\n",
       "    Surgical_lesion type_of_lesion_1 type_of_lesion_2 type_of_lesion_3 cp_data  \n",
       "0                 2            11300                0                0       2  \n",
       "1                 2             2208                0                0       2  \n",
       "2                 2                0                0                0       1  \n",
       "3                 1             2208                0                0       1  \n",
       "4                 2             4300                0                0       2  \n",
       "..              ...              ...              ...              ...     ...  \n",
       "295               2             3205                0                0       2  \n",
       "296               1             2208                0                0       1  \n",
       "297               1             3205                0                0       2  \n",
       "298               1             2208                0                0       1  \n",
       "299               2             6112                0                0       2  \n",
       "\n",
       "[300 rows x 28 columns]"
      ]
     },
     "execution_count": 128,
     "metadata": {},
     "output_type": "execute_result"
    }
   ],
   "source": [
    "\n",
    "df = pd.read_csv('horse-colic.data.csv', delim_whitespace=True, header=None, names=columns).replace(\"?\", np.NaN)\n",
    "df"
   ]
  },
  {
   "cell_type": "code",
   "execution_count": 129,
   "metadata": {},
   "outputs": [
    {
     "data": {
      "text/html": [
       "<div>\n",
       "<style scoped>\n",
       "    .dataframe tbody tr th:only-of-type {\n",
       "        vertical-align: middle;\n",
       "    }\n",
       "\n",
       "    .dataframe tbody tr th {\n",
       "        vertical-align: top;\n",
       "    }\n",
       "\n",
       "    .dataframe thead th {\n",
       "        text-align: right;\n",
       "    }\n",
       "</style>\n",
       "<table border=\"1\" class=\"dataframe\">\n",
       "  <thead>\n",
       "    <tr style=\"text-align: right;\">\n",
       "      <th></th>\n",
       "      <th>Surgery</th>\n",
       "      <th>Age</th>\n",
       "      <th>Rectal_temperature</th>\n",
       "      <th>Pulse</th>\n",
       "    </tr>\n",
       "  </thead>\n",
       "  <tbody>\n",
       "    <tr>\n",
       "      <th>0</th>\n",
       "      <td>2</td>\n",
       "      <td>1</td>\n",
       "      <td>38.50</td>\n",
       "      <td>66</td>\n",
       "    </tr>\n",
       "    <tr>\n",
       "      <th>1</th>\n",
       "      <td>1</td>\n",
       "      <td>1</td>\n",
       "      <td>39.2</td>\n",
       "      <td>88</td>\n",
       "    </tr>\n",
       "    <tr>\n",
       "      <th>2</th>\n",
       "      <td>2</td>\n",
       "      <td>1</td>\n",
       "      <td>38.30</td>\n",
       "      <td>40</td>\n",
       "    </tr>\n",
       "    <tr>\n",
       "      <th>3</th>\n",
       "      <td>1</td>\n",
       "      <td>9</td>\n",
       "      <td>39.10</td>\n",
       "      <td>164</td>\n",
       "    </tr>\n",
       "    <tr>\n",
       "      <th>4</th>\n",
       "      <td>2</td>\n",
       "      <td>1</td>\n",
       "      <td>37.30</td>\n",
       "      <td>104</td>\n",
       "    </tr>\n",
       "    <tr>\n",
       "      <th>5</th>\n",
       "      <td>2</td>\n",
       "      <td>1</td>\n",
       "      <td>NaN</td>\n",
       "      <td>NaN</td>\n",
       "    </tr>\n",
       "    <tr>\n",
       "      <th>6</th>\n",
       "      <td>1</td>\n",
       "      <td>1</td>\n",
       "      <td>37.90</td>\n",
       "      <td>48</td>\n",
       "    </tr>\n",
       "    <tr>\n",
       "      <th>7</th>\n",
       "      <td>1</td>\n",
       "      <td>1</td>\n",
       "      <td>NaN</td>\n",
       "      <td>60</td>\n",
       "    </tr>\n",
       "    <tr>\n",
       "      <th>8</th>\n",
       "      <td>2</td>\n",
       "      <td>1</td>\n",
       "      <td>NaN</td>\n",
       "      <td>80</td>\n",
       "    </tr>\n",
       "    <tr>\n",
       "      <th>9</th>\n",
       "      <td>2</td>\n",
       "      <td>9</td>\n",
       "      <td>38.30</td>\n",
       "      <td>90</td>\n",
       "    </tr>\n",
       "  </tbody>\n",
       "</table>\n",
       "</div>"
      ],
      "text/plain": [
       "  Surgery  Age Rectal_temperature Pulse\n",
       "0       2    1              38.50    66\n",
       "1       1    1               39.2    88\n",
       "2       2    1              38.30    40\n",
       "3       1    9              39.10   164\n",
       "4       2    1              37.30   104\n",
       "5       2    1                NaN   NaN\n",
       "6       1    1              37.90    48\n",
       "7       1    1                NaN    60\n",
       "8       2    1                NaN    80\n",
       "9       2    9              38.30    90"
      ]
     },
     "execution_count": 129,
     "metadata": {},
     "output_type": "execute_result"
    }
   ],
   "source": [
    "data = df[['Surgery','Age','Rectal_temperature','Pulse']]\n",
    "data.head(10)"
   ]
  },
  {
   "cell_type": "code",
   "execution_count": 130,
   "metadata": {},
   "outputs": [],
   "source": [
    "data = data.dropna() # removing rows with NaN"
   ]
  },
  {
   "cell_type": "markdown",
   "metadata": {},
   "source": [
    "#### a.) Comparision of mean of Rectal temp (with and without surgery)"
   ]
  },
  {
   "cell_type": "code",
   "execution_count": 131,
   "metadata": {},
   "outputs": [],
   "source": [
    "# 1. Filter horses that undergo surgery [i.e. where surgery = 1]\n",
    "# 2. Select column rectal temp\n",
    "# 3. Convert data type tp float as data has string type [so that we can perform arithmetic operations]\n",
    "rectal_temp_with_surgery = data.loc[(data['Surgery'] == '1')]['Rectal_temperature'].astype(float)\n",
    "\n",
    "# 1. Filter horses that didn't undergo any surgery [i.e. where surgery = 2]\n",
    "# 2. Select column rectal temp\n",
    "# 3. Convert data type tp float as data has string type [so that we can perform arithmetic operations]\n",
    "rectal_temp_without_surgery = data.loc[(data['Surgery'] == '2')]['Rectal_temperature'].astype(float)"
   ]
  },
  {
   "cell_type": "code",
   "execution_count": 132,
   "metadata": {},
   "outputs": [
    {
     "name": "stdout",
     "output_type": "stream",
     "text": [
      "ShapiroResult(statistic=0.9693214297294617, pvalue=0.00383964111097157)\n",
      "ShapiroResult(statistic=0.9708417057991028, pvalue=0.0281001478433609)\n"
     ]
    }
   ],
   "source": [
    "print(stats.shapiro(rectal_temp_with_surgery))\n",
    "print(stats.shapiro(rectal_temp_without_surgery))"
   ]
  },
  {
   "cell_type": "markdown",
   "metadata": {},
   "source": [
    "##### data is not normally distributed and data is also independent, therefore we can use Mann–Whitney U test"
   ]
  },
  {
   "cell_type": "code",
   "execution_count": 133,
   "metadata": {},
   "outputs": [
    {
     "name": "stdout",
     "output_type": "stream",
     "text": [
      "MannwhitneyuResult(statistic=6242.0, pvalue=0.46257320393656)\n"
     ]
    }
   ],
   "source": [
    "print(stats.mannwhitneyu(rectal_temp_with_surgery,rectal_temp_without_surgery))"
   ]
  },
  {
   "cell_type": "markdown",
   "metadata": {},
   "source": [
    "#### b.) Comparision of mean of age (with and without surgery)"
   ]
  },
  {
   "cell_type": "code",
   "execution_count": 134,
   "metadata": {},
   "outputs": [],
   "source": [
    "# 1. Select surgery and age columns\n",
    "# 2. Create cross table\n",
    "surgery_category = data['Surgery']\n",
    "age_category = data['Age']"
   ]
  },
  {
   "cell_type": "code",
   "execution_count": 135,
   "metadata": {},
   "outputs": [],
   "source": [
    "cross_table = pd.crosstab(surgery_category,age_category)"
   ]
  },
  {
   "cell_type": "code",
   "execution_count": 136,
   "metadata": {},
   "outputs": [
    {
     "data": {
      "text/html": [
       "<div>\n",
       "<style scoped>\n",
       "    .dataframe tbody tr th:only-of-type {\n",
       "        vertical-align: middle;\n",
       "    }\n",
       "\n",
       "    .dataframe tbody tr th {\n",
       "        vertical-align: top;\n",
       "    }\n",
       "\n",
       "    .dataframe thead th {\n",
       "        text-align: right;\n",
       "    }\n",
       "</style>\n",
       "<table border=\"1\" class=\"dataframe\">\n",
       "  <thead>\n",
       "    <tr style=\"text-align: right;\">\n",
       "      <th>Age</th>\n",
       "      <th>1</th>\n",
       "      <th>9</th>\n",
       "    </tr>\n",
       "    <tr>\n",
       "      <th>Surgery</th>\n",
       "      <th></th>\n",
       "      <th></th>\n",
       "    </tr>\n",
       "  </thead>\n",
       "  <tbody>\n",
       "    <tr>\n",
       "      <th>1</th>\n",
       "      <td>120</td>\n",
       "      <td>15</td>\n",
       "    </tr>\n",
       "    <tr>\n",
       "      <th>2</th>\n",
       "      <td>93</td>\n",
       "      <td>5</td>\n",
       "    </tr>\n",
       "  </tbody>\n",
       "</table>\n",
       "</div>"
      ],
      "text/plain": [
       "Age        1   9\n",
       "Surgery         \n",
       "1        120  15\n",
       "2         93   5"
      ]
     },
     "execution_count": 136,
     "metadata": {},
     "output_type": "execute_result"
    }
   ],
   "source": [
    "cross_table"
   ]
  },
  {
   "cell_type": "code",
   "execution_count": 137,
   "metadata": {},
   "outputs": [
    {
     "data": {
      "text/plain": [
       "0.16771971654705192"
      ]
     },
     "execution_count": 137,
     "metadata": {},
     "output_type": "execute_result"
    }
   ],
   "source": [
    "statistics, pValue, dof, expected = stats.chi2_contingency(cross_table)\n",
    "pValue"
   ]
  },
  {
   "cell_type": "markdown",
   "metadata": {},
   "source": [
    "#### c.) Comparision of mean of pulse (with and without surgery)"
   ]
  },
  {
   "cell_type": "code",
   "execution_count": 143,
   "metadata": {},
   "outputs": [],
   "source": [
    "pulse_with_surgery = data.loc[data['Surgery'] == '1']['Pulse'].astype(int)\n",
    "pulse_without_surgery = data.loc[data['Surgery'] == '2']['Pulse'].astype(int)"
   ]
  },
  {
   "cell_type": "code",
   "execution_count": 144,
   "metadata": {},
   "outputs": [
    {
     "name": "stdout",
     "output_type": "stream",
     "text": [
      "ShapiroResult(statistic=0.9187045693397522, pvalue=5.782764560535725e-07)\n",
      "ShapiroResult(statistic=0.8408653736114502, pvalue=7.143510227791694e-09)\n"
     ]
    }
   ],
   "source": [
    "print(stats.shapiro(pulse_with_surgery))\n",
    "print(stats.shapiro(pulse_without_surgery))"
   ]
  },
  {
   "cell_type": "markdown",
   "metadata": {},
   "source": [
    "##### data is normally distributed and is independent, therefore we should use unpaired t-test"
   ]
  },
  {
   "cell_type": "code",
   "execution_count": 145,
   "metadata": {},
   "outputs": [
    {
     "name": "stdout",
     "output_type": "stream",
     "text": [
      "Ttest_indResult(statistic=3.202767739916224, pvalue=0.0015528103149044417)\n"
     ]
    }
   ],
   "source": [
    "print(stats.ttest_ind(pulse_with_surgery,pulse_without_surgery))"
   ]
  }
 ],
 "metadata": {
  "kernelspec": {
   "display_name": "Python 3 (ipykernel)",
   "language": "python",
   "name": "python3"
  },
  "language_info": {
   "codemirror_mode": {
    "name": "ipython",
    "version": 3
   },
   "file_extension": ".py",
   "mimetype": "text/x-python",
   "name": "python",
   "nbconvert_exporter": "python",
   "pygments_lexer": "ipython3",
   "version": "3.10.6"
  },
  "vscode": {
   "interpreter": {
    "hash": "55b303367486b8095d36d0544b53e8d3aaa681ea9381f95fa0e21d0a9d127300"
   }
  }
 },
 "nbformat": 4,
 "nbformat_minor": 4
}
